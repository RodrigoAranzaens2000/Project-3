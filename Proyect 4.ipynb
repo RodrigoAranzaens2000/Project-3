{
 "cells": [
  {
   "cell_type": "markdown",
   "id": "3Xg_RQfnafXz",
   "metadata": {
    "id": "3Xg_RQfnafXz"
   },
   "source": [
    "# ¡Llena ese carrito!"
   ]
  },
  {
   "cell_type": "markdown",
   "id": "mhIvmmkW414q",
   "metadata": {
    "id": "mhIvmmkW414q"
   },
   "source": [
    "# Introducción\n",
    "\n",
    "Instacart es una plataforma de entregas de comestibles donde la clientela puede registrar un pedido y hacer que se lo entreguen, similar a Uber Eats y Door Dash.\n",
    "El conjunto de datos que te hemos proporcionado tiene modificaciones del original. Redujimos el tamaño del conjunto para que tus cálculos se hicieran más rápido e introdujimos valores ausentes y duplicados. Tuvimos cuidado de conservar las distribuciones de los datos originales cuando hicimos los cambios.\n",
    "\n",
    "Debes completar tres pasos. Para cada uno de ellos, escribe una breve introducción que refleje con claridad cómo pretendes resolver cada paso, y escribe párrafos explicatorios que justifiquen tus decisiones al tiempo que avanzas en tu solución.  También escribe una conclusión que resuma tus hallazgos y elecciones.\n"
   ]
  },
  {
   "cell_type": "markdown",
   "id": "3MbyzpOQZ5Or",
   "metadata": {
    "id": "3MbyzpOQZ5Or"
   },
   "source": [
    "## Diccionario de datos\n",
    "\n",
    "Hay cinco tablas en el conjunto de datos, y tendrás que usarlas todas para hacer el preprocesamiento de datos y el análisis exploratorio de datos. A continuación se muestra un diccionario de datos que enumera las columnas de cada tabla y describe los datos que contienen.\n",
    "\n",
    "- `instacart_orders.csv`: cada fila corresponde a un pedido en la aplicación Instacart.\n",
    "    - `'order_id'`: número de ID que identifica de manera única cada pedido.\n",
    "    - `'user_id'`: número de ID que identifica de manera única la cuenta de cada cliente.\n",
    "    - `'order_number'`: el número de veces que este cliente ha hecho un pedido.\n",
    "    - `'order_dow'`: día de la semana en que se hizo el pedido (0 si es domingo).\n",
    "    - `'order_hour_of_day'`: hora del día en que se hizo el pedido.\n",
    "    - `'days_since_prior_order'`: número de días transcurridos desde que este cliente hizo su pedido anterior.\n",
    "- `products.csv`: cada fila corresponde a un producto único que pueden comprar los clientes.\n",
    "    - `'product_id'`: número ID que identifica de manera única cada producto.\n",
    "    - `'product_name'`: nombre del producto.\n",
    "    - `'aisle_id'`: número ID que identifica de manera única cada categoría de pasillo de víveres.\n",
    "    - `'department_id'`: número ID que identifica de manera única cada departamento de víveres.\n",
    "- `order_products.csv`: cada fila corresponde a un artículo pedido en un pedido.\n",
    "    - `'order_id'`: número de ID que identifica de manera única cada pedido.\n",
    "    - `'product_id'`: número ID que identifica de manera única cada producto.\n",
    "    - `'add_to_cart_order'`: el orden secuencial en el que se añadió cada artículo en el carrito.\n",
    "    - `'reordered'`: 0 si el cliente nunca ha pedido este producto antes, 1 si lo ha pedido.\n",
    "- `aisles.csv`\n",
    "    - `'aisle_id'`: número ID que identifica de manera única cada categoría de pasillo de víveres.\n",
    "    - `'aisle'`: nombre del pasillo.\n",
    "- `departments.csv`\n",
    "    - `'department_id'`: número ID que identifica de manera única cada departamento de víveres.\n",
    "    - `'department'`: nombre del departamento."
   ]
  },
  {
   "cell_type": "markdown",
   "id": "00c5bc0e",
   "metadata": {},
   "source": [
    "<div class=\"alert alert-block alert-success\">\n",
    "<b>Comentario del revisor</b> <a class=\"tocSkip\"></a>\n",
    "\n",
    "¡Hola, Rodrigo! Excelente trabajo que has hecho al desarrollar la introducción. Esto es crucial para cualquier proyecto, ya que establece una guía clara sobre los pasos a seguir. Tener estos elementos bien definidos desde el principio nos permite trabajar de manera más organizada y eficiente. En un futuro lo podrías complementar con una tabla de contenido.\n",
    "</div>"
   ]
  },
  {
   "cell_type": "markdown",
   "id": "n3Ha_cNSZ8lK",
   "metadata": {
    "id": "n3Ha_cNSZ8lK"
   },
   "source": [
    "# Paso 1. Descripción de los datos\n",
    "\n",
    "Lee los archivos de datos (`/datasets/instacart_orders.csv`, `/datasets/products.csv`, `/datasets/aisles.csv`, `/datasets/departments.csv` y `/datasets/order_products.csv`) con `pd.read_csv()` usando los parámetros adecuados para leer los datos correctamente. Verifica la información para cada DataFrame creado.\n"
   ]
  },
  {
   "cell_type": "markdown",
   "id": "OmlQPLlyaAfR",
   "metadata": {
    "id": "OmlQPLlyaAfR"
   },
   "source": [
    "## Plan de solución\n",
    "\n",
    "Escribe aquí tu plan de solución para el Paso 1. Descripción de los datos.\n",
    "### Para comenzar quisiera tener un feedback sobre mi avance hasta ahora para poder sacer luego las conclusiones o antes de seguir poder arreglar lo que este mal ya que hay algunos ejericicios los cuales no llego a enteender muy bien lo que piden por lo que antes de seguir me gustaria saber si mi a"
   ]
  },
  {
   "cell_type": "code",
   "execution_count": 1,
   "id": "fbf1adab",
   "metadata": {
    "id": "fbf1adab"
   },
   "outputs": [],
   "source": [
    "# importar librerías\n",
    "import pandas as pd\n",
    "\n",
    "import numpy as np\n",
    "from matplotlib import pyplot as plt"
   ]
  },
  {
   "cell_type": "code",
   "execution_count": 2,
   "id": "ad36396d",
   "metadata": {
    "id": "ad36396d"
   },
   "outputs": [],
   "source": [
    "# leer conjuntos de datos en los DataFrames\n",
    "orders = pd.read_csv('instacart_orders.csv', sep=';')\n",
    "products = pd.read_csv('products.csv', sep=';')\n",
    "order_products = pd.read_csv('order_products.csv', sep=';')\n",
    "aisles = pd.read_csv('aisles.csv', sep=';')\n",
    "departments = pd.read_csv('departments.csv', sep=';')"
   ]
  },
  {
   "cell_type": "code",
   "execution_count": 3,
   "id": "ad6a1efa",
   "metadata": {
    "id": "ad6a1efa"
   },
   "outputs": [
    {
     "name": "stdout",
     "output_type": "stream",
     "text": [
      "<class 'pandas.core.frame.DataFrame'>\n",
      "RangeIndex: 478967 entries, 0 to 478966\n",
      "Data columns (total 6 columns):\n",
      " #   Column                  Non-Null Count   Dtype  \n",
      "---  ------                  --------------   -----  \n",
      " 0   order_id                478967 non-null  int64  \n",
      " 1   user_id                 478967 non-null  int64  \n",
      " 2   order_number            478967 non-null  int64  \n",
      " 3   order_dow               478967 non-null  int64  \n",
      " 4   order_hour_of_day       478967 non-null  int64  \n",
      " 5   days_since_prior_order  450148 non-null  float64\n",
      "dtypes: float64(1), int64(5)\n",
      "memory usage: 21.9 MB\n"
     ]
    }
   ],
   "source": [
    "# mostrar información del DataFrame\n",
    "orders.info()"
   ]
  },
  {
   "cell_type": "code",
   "execution_count": 4,
   "id": "5130e05e",
   "metadata": {
    "id": "5130e05e"
   },
   "outputs": [
    {
     "name": "stdout",
     "output_type": "stream",
     "text": [
      "<class 'pandas.core.frame.DataFrame'>\n",
      "RangeIndex: 49694 entries, 0 to 49693\n",
      "Data columns (total 4 columns):\n",
      " #   Column         Non-Null Count  Dtype \n",
      "---  ------         --------------  ----- \n",
      " 0   product_id     49694 non-null  int64 \n",
      " 1   product_name   48436 non-null  object\n",
      " 2   aisle_id       49694 non-null  int64 \n",
      " 3   department_id  49694 non-null  int64 \n",
      "dtypes: int64(3), object(1)\n",
      "memory usage: 1.5+ MB\n"
     ]
    }
   ],
   "source": [
    "# mostrar información del DataFrame\n",
    "products.info()"
   ]
  },
  {
   "cell_type": "code",
   "execution_count": 5,
   "id": "d8370c05",
   "metadata": {
    "id": "d8370c05"
   },
   "outputs": [
    {
     "name": "stdout",
     "output_type": "stream",
     "text": [
      "<class 'pandas.core.frame.DataFrame'>\n",
      "RangeIndex: 4545007 entries, 0 to 4545006\n",
      "Data columns (total 4 columns):\n",
      " #   Column             Dtype  \n",
      "---  ------             -----  \n",
      " 0   order_id           int64  \n",
      " 1   product_id         int64  \n",
      " 2   add_to_cart_order  float64\n",
      " 3   reordered          int64  \n",
      "dtypes: float64(1), int64(3)\n",
      "memory usage: 138.7 MB\n"
     ]
    }
   ],
   "source": [
    "# mostrar información del DataFrame\n",
    "order_products.info()"
   ]
  },
  {
   "cell_type": "code",
   "execution_count": 6,
   "id": "59e2090f",
   "metadata": {
    "id": "59e2090f"
   },
   "outputs": [
    {
     "name": "stdout",
     "output_type": "stream",
     "text": [
      "<class 'pandas.core.frame.DataFrame'>\n",
      "RangeIndex: 134 entries, 0 to 133\n",
      "Data columns (total 2 columns):\n",
      " #   Column    Non-Null Count  Dtype \n",
      "---  ------    --------------  ----- \n",
      " 0   aisle_id  134 non-null    int64 \n",
      " 1   aisle     134 non-null    object\n",
      "dtypes: int64(1), object(1)\n",
      "memory usage: 2.2+ KB\n"
     ]
    }
   ],
   "source": [
    "# mostrar información del DataFrame\n",
    "aisles.info()"
   ]
  },
  {
   "cell_type": "code",
   "execution_count": 7,
   "id": "6fc81694",
   "metadata": {
    "id": "6fc81694"
   },
   "outputs": [
    {
     "name": "stdout",
     "output_type": "stream",
     "text": [
      "<class 'pandas.core.frame.DataFrame'>\n",
      "RangeIndex: 21 entries, 0 to 20\n",
      "Data columns (total 2 columns):\n",
      " #   Column         Non-Null Count  Dtype \n",
      "---  ------         --------------  ----- \n",
      " 0   department_id  21 non-null     int64 \n",
      " 1   department     21 non-null     object\n",
      "dtypes: int64(1), object(1)\n",
      "memory usage: 468.0+ bytes\n"
     ]
    }
   ],
   "source": [
    "# mostrar información del DataFrame\n",
    "departments.info()"
   ]
  },
  {
   "cell_type": "markdown",
   "id": "t75BD19oaR5f",
   "metadata": {
    "id": "t75BD19oaR5f"
   },
   "source": [
    "## Conclusiones\n",
    "\n",
    "Escribe aquí tus conclusiones intermedias sobre el Paso 1. Descripción de los datos.<br>\n",
    "`Los DataFrames están en buen estado general con pocas excepciones que necesitan tratamiento de valores nulos.`<br>\n",
    "`Los tipos de datos son en su mayoría correctos, aunque hay oportunidades para optimizar el uso de memoria mediante la conversión de algunos tipos de datos.`<br>\n",
    "`El preprocesamiento de datos se centrará en manejar los valores nulos en days_since_prior_order de orders y product_name de products, y en ajustar los tipos de datos donde sea posible para mejorar la eficiencia.`\n"
   ]
  },
  {
   "cell_type": "markdown",
   "id": "8RJHqxVmaVsF",
   "metadata": {
    "id": "8RJHqxVmaVsF"
   },
   "source": [
    "# Paso 2. Preprocesamiento de los datos\n",
    "\n",
    "Preprocesa los datos de la siguiente manera:\n",
    "\n",
    "- Verifica y corrige los tipos de datos (por ejemplo, asegúrate de que las columnas de ID sean números enteros).\n",
    "- Identifica y completa los valores ausentes.\n",
    "- Identifica y elimina los valores duplicados.\n",
    "\n",
    "Asegúrate de explicar qué tipos de valores ausentes y duplicados encontraste, cómo los completaste o eliminaste y por qué usaste esos métodos. ¿Por qué crees que estos valores ausentes y duplicados pueden haber estado presentes en el conjunto de datos?"
   ]
  },
  {
   "cell_type": "markdown",
   "id": "p6poABZQaZYb",
   "metadata": {
    "id": "p6poABZQaZYb"
   },
   "source": [
    "## Plan de solución\n",
    "Segun lo aprendido lo primero que tendre que realizar es un profundo analisis para filtrar los datos en las tablas ya que pueden haber datos duplicados los cuales habria que primero revisar si esos duplicados sirven o no , tambien hay que analizar los datos nulos para poder asi reemplazarlos de ser necesario y por ultimo una vez esos datos ya esten filtrados y ordenados podre realizar los ejercicios propuestos en este proyecto"
   ]
  },
  {
   "cell_type": "markdown",
   "id": "07357848-dc64-4156-9cc3-01ff4365226d",
   "metadata": {
    "id": "07357848-dc64-4156-9cc3-01ff4365226d"
   },
   "source": [
    "## Encuentra y elimina los valores duplicados (y describe cómo tomaste tus decisiones)."
   ]
  },
  {
   "cell_type": "code",
   "execution_count": 8,
   "id": "e7dedadf",
   "metadata": {},
   "outputs": [],
   "source": [
    "def duplicatesSum(contador , nombreDuplicates):\n",
    "    if contador > 0:\n",
    "        print(f\"Hay {contador} filas duplicadas de {nombreDuplicates}\")\n",
    "    else:\n",
    "        print(f\"No hay filas duplicadas en {nombreDuplicates}\")\n",
    "        \n",
    "        "
   ]
  },
  {
   "cell_type": "markdown",
   "id": "f179f0a9",
   "metadata": {
    "id": "f179f0a9"
   },
   "source": [
    "### `orders` data frame"
   ]
  },
  {
   "cell_type": "code",
   "execution_count": 9,
   "id": "b99297a5-405a-463d-8535-9adc3da4ad74",
   "metadata": {
    "id": "b99297a5-405a-463d-8535-9adc3da4ad74"
   },
   "outputs": [
    {
     "name": "stdout",
     "output_type": "stream",
     "text": [
      "Hay 15 filas duplicadas de pedidos\n"
     ]
    },
    {
     "data": {
      "text/html": [
       "<div>\n",
       "<style scoped>\n",
       "    .dataframe tbody tr th:only-of-type {\n",
       "        vertical-align: middle;\n",
       "    }\n",
       "\n",
       "    .dataframe tbody tr th {\n",
       "        vertical-align: top;\n",
       "    }\n",
       "\n",
       "    .dataframe thead th {\n",
       "        text-align: right;\n",
       "    }\n",
       "</style>\n",
       "<table border=\"1\" class=\"dataframe\">\n",
       "  <thead>\n",
       "    <tr style=\"text-align: right;\">\n",
       "      <th></th>\n",
       "      <th>order_id</th>\n",
       "      <th>user_id</th>\n",
       "      <th>order_number</th>\n",
       "      <th>order_dow</th>\n",
       "      <th>order_hour_of_day</th>\n",
       "      <th>days_since_prior_order</th>\n",
       "    </tr>\n",
       "  </thead>\n",
       "  <tbody>\n",
       "    <tr>\n",
       "      <th>145574</th>\n",
       "      <td>794638</td>\n",
       "      <td>50898</td>\n",
       "      <td>24</td>\n",
       "      <td>3</td>\n",
       "      <td>2</td>\n",
       "      <td>2.0</td>\n",
       "    </tr>\n",
       "    <tr>\n",
       "      <th>223105</th>\n",
       "      <td>2160484</td>\n",
       "      <td>107525</td>\n",
       "      <td>16</td>\n",
       "      <td>3</td>\n",
       "      <td>2</td>\n",
       "      <td>30.0</td>\n",
       "    </tr>\n",
       "    <tr>\n",
       "      <th>230807</th>\n",
       "      <td>1918001</td>\n",
       "      <td>188546</td>\n",
       "      <td>14</td>\n",
       "      <td>3</td>\n",
       "      <td>2</td>\n",
       "      <td>16.0</td>\n",
       "    </tr>\n",
       "    <tr>\n",
       "      <th>266232</th>\n",
       "      <td>1782114</td>\n",
       "      <td>106752</td>\n",
       "      <td>1</td>\n",
       "      <td>3</td>\n",
       "      <td>2</td>\n",
       "      <td>NaN</td>\n",
       "    </tr>\n",
       "    <tr>\n",
       "      <th>273805</th>\n",
       "      <td>1112182</td>\n",
       "      <td>202304</td>\n",
       "      <td>84</td>\n",
       "      <td>3</td>\n",
       "      <td>2</td>\n",
       "      <td>6.0</td>\n",
       "    </tr>\n",
       "    <tr>\n",
       "      <th>284038</th>\n",
       "      <td>2845099</td>\n",
       "      <td>31189</td>\n",
       "      <td>11</td>\n",
       "      <td>3</td>\n",
       "      <td>2</td>\n",
       "      <td>7.0</td>\n",
       "    </tr>\n",
       "    <tr>\n",
       "      <th>311713</th>\n",
       "      <td>1021560</td>\n",
       "      <td>53767</td>\n",
       "      <td>3</td>\n",
       "      <td>3</td>\n",
       "      <td>2</td>\n",
       "      <td>9.0</td>\n",
       "    </tr>\n",
       "    <tr>\n",
       "      <th>321100</th>\n",
       "      <td>408114</td>\n",
       "      <td>68324</td>\n",
       "      <td>4</td>\n",
       "      <td>3</td>\n",
       "      <td>2</td>\n",
       "      <td>18.0</td>\n",
       "    </tr>\n",
       "    <tr>\n",
       "      <th>323900</th>\n",
       "      <td>1919531</td>\n",
       "      <td>191501</td>\n",
       "      <td>32</td>\n",
       "      <td>3</td>\n",
       "      <td>2</td>\n",
       "      <td>7.0</td>\n",
       "    </tr>\n",
       "    <tr>\n",
       "      <th>345917</th>\n",
       "      <td>2232988</td>\n",
       "      <td>82565</td>\n",
       "      <td>1</td>\n",
       "      <td>3</td>\n",
       "      <td>2</td>\n",
       "      <td>NaN</td>\n",
       "    </tr>\n",
       "    <tr>\n",
       "      <th>371905</th>\n",
       "      <td>391768</td>\n",
       "      <td>57671</td>\n",
       "      <td>19</td>\n",
       "      <td>3</td>\n",
       "      <td>2</td>\n",
       "      <td>10.0</td>\n",
       "    </tr>\n",
       "    <tr>\n",
       "      <th>394347</th>\n",
       "      <td>467134</td>\n",
       "      <td>63189</td>\n",
       "      <td>21</td>\n",
       "      <td>3</td>\n",
       "      <td>2</td>\n",
       "      <td>2.0</td>\n",
       "    </tr>\n",
       "    <tr>\n",
       "      <th>411408</th>\n",
       "      <td>1286742</td>\n",
       "      <td>183220</td>\n",
       "      <td>48</td>\n",
       "      <td>3</td>\n",
       "      <td>2</td>\n",
       "      <td>4.0</td>\n",
       "    </tr>\n",
       "    <tr>\n",
       "      <th>415163</th>\n",
       "      <td>2282673</td>\n",
       "      <td>86751</td>\n",
       "      <td>49</td>\n",
       "      <td>3</td>\n",
       "      <td>2</td>\n",
       "      <td>2.0</td>\n",
       "    </tr>\n",
       "    <tr>\n",
       "      <th>441599</th>\n",
       "      <td>2125197</td>\n",
       "      <td>14050</td>\n",
       "      <td>48</td>\n",
       "      <td>3</td>\n",
       "      <td>2</td>\n",
       "      <td>3.0</td>\n",
       "    </tr>\n",
       "  </tbody>\n",
       "</table>\n",
       "</div>"
      ],
      "text/plain": [
       "        order_id  user_id  order_number  order_dow  order_hour_of_day  \\\n",
       "145574    794638    50898            24          3                  2   \n",
       "223105   2160484   107525            16          3                  2   \n",
       "230807   1918001   188546            14          3                  2   \n",
       "266232   1782114   106752             1          3                  2   \n",
       "273805   1112182   202304            84          3                  2   \n",
       "284038   2845099    31189            11          3                  2   \n",
       "311713   1021560    53767             3          3                  2   \n",
       "321100    408114    68324             4          3                  2   \n",
       "323900   1919531   191501            32          3                  2   \n",
       "345917   2232988    82565             1          3                  2   \n",
       "371905    391768    57671            19          3                  2   \n",
       "394347    467134    63189            21          3                  2   \n",
       "411408   1286742   183220            48          3                  2   \n",
       "415163   2282673    86751            49          3                  2   \n",
       "441599   2125197    14050            48          3                  2   \n",
       "\n",
       "        days_since_prior_order  \n",
       "145574                     2.0  \n",
       "223105                    30.0  \n",
       "230807                    16.0  \n",
       "266232                     NaN  \n",
       "273805                     6.0  \n",
       "284038                     7.0  \n",
       "311713                     9.0  \n",
       "321100                    18.0  \n",
       "323900                     7.0  \n",
       "345917                     NaN  \n",
       "371905                    10.0  \n",
       "394347                     2.0  \n",
       "411408                     4.0  \n",
       "415163                     2.0  \n",
       "441599                     3.0  "
      ]
     },
     "execution_count": 9,
     "metadata": {},
     "output_type": "execute_result"
    }
   ],
   "source": [
    "# Revisa si hay pedidos duplicados\n",
    "orders_duplicated = orders.duplicated().sum()\n",
    "duplicatesSum(orders_duplicated , \"pedidos\")\n",
    "\n",
    "# Mostramos la tabla con los pedidos duplicados\n",
    "orders_duplicated = orders[orders.duplicated()]\n",
    "orders_duplicated"
   ]
  },
  {
   "cell_type": "markdown",
   "id": "PEkwUX_gvt5A",
   "metadata": {
    "id": "PEkwUX_gvt5A"
   },
   "source": [
    "¿Tienes líneas duplicadas? Si sí, ¿qué tienen en común? lo que tienen en comun estos pedidos duplicados es que el dia y hora en la que se realizo el pedido es la misma, el miercoles a las 2"
   ]
  },
  {
   "cell_type": "code",
   "execution_count": 10,
   "id": "9a33888c",
   "metadata": {},
   "outputs": [
    {
     "data": {
      "text/html": [
       "<div>\n",
       "<style scoped>\n",
       "    .dataframe tbody tr th:only-of-type {\n",
       "        vertical-align: middle;\n",
       "    }\n",
       "\n",
       "    .dataframe tbody tr th {\n",
       "        vertical-align: top;\n",
       "    }\n",
       "\n",
       "    .dataframe thead th {\n",
       "        text-align: right;\n",
       "    }\n",
       "</style>\n",
       "<table border=\"1\" class=\"dataframe\">\n",
       "  <thead>\n",
       "    <tr style=\"text-align: right;\">\n",
       "      <th></th>\n",
       "      <th>order_id</th>\n",
       "      <th>user_id</th>\n",
       "      <th>order_number</th>\n",
       "      <th>order_dow</th>\n",
       "      <th>order_hour_of_day</th>\n",
       "      <th>days_since_prior_order</th>\n",
       "    </tr>\n",
       "  </thead>\n",
       "  <tbody>\n",
       "    <tr>\n",
       "      <th>145574</th>\n",
       "      <td>794638</td>\n",
       "      <td>50898</td>\n",
       "      <td>24</td>\n",
       "      <td>3</td>\n",
       "      <td>2</td>\n",
       "      <td>2.0</td>\n",
       "    </tr>\n",
       "    <tr>\n",
       "      <th>223105</th>\n",
       "      <td>2160484</td>\n",
       "      <td>107525</td>\n",
       "      <td>16</td>\n",
       "      <td>3</td>\n",
       "      <td>2</td>\n",
       "      <td>30.0</td>\n",
       "    </tr>\n",
       "    <tr>\n",
       "      <th>230807</th>\n",
       "      <td>1918001</td>\n",
       "      <td>188546</td>\n",
       "      <td>14</td>\n",
       "      <td>3</td>\n",
       "      <td>2</td>\n",
       "      <td>16.0</td>\n",
       "    </tr>\n",
       "    <tr>\n",
       "      <th>266232</th>\n",
       "      <td>1782114</td>\n",
       "      <td>106752</td>\n",
       "      <td>1</td>\n",
       "      <td>3</td>\n",
       "      <td>2</td>\n",
       "      <td>NaN</td>\n",
       "    </tr>\n",
       "    <tr>\n",
       "      <th>273805</th>\n",
       "      <td>1112182</td>\n",
       "      <td>202304</td>\n",
       "      <td>84</td>\n",
       "      <td>3</td>\n",
       "      <td>2</td>\n",
       "      <td>6.0</td>\n",
       "    </tr>\n",
       "    <tr>\n",
       "      <th>284038</th>\n",
       "      <td>2845099</td>\n",
       "      <td>31189</td>\n",
       "      <td>11</td>\n",
       "      <td>3</td>\n",
       "      <td>2</td>\n",
       "      <td>7.0</td>\n",
       "    </tr>\n",
       "    <tr>\n",
       "      <th>311713</th>\n",
       "      <td>1021560</td>\n",
       "      <td>53767</td>\n",
       "      <td>3</td>\n",
       "      <td>3</td>\n",
       "      <td>2</td>\n",
       "      <td>9.0</td>\n",
       "    </tr>\n",
       "    <tr>\n",
       "      <th>321100</th>\n",
       "      <td>408114</td>\n",
       "      <td>68324</td>\n",
       "      <td>4</td>\n",
       "      <td>3</td>\n",
       "      <td>2</td>\n",
       "      <td>18.0</td>\n",
       "    </tr>\n",
       "    <tr>\n",
       "      <th>323900</th>\n",
       "      <td>1919531</td>\n",
       "      <td>191501</td>\n",
       "      <td>32</td>\n",
       "      <td>3</td>\n",
       "      <td>2</td>\n",
       "      <td>7.0</td>\n",
       "    </tr>\n",
       "    <tr>\n",
       "      <th>345917</th>\n",
       "      <td>2232988</td>\n",
       "      <td>82565</td>\n",
       "      <td>1</td>\n",
       "      <td>3</td>\n",
       "      <td>2</td>\n",
       "      <td>NaN</td>\n",
       "    </tr>\n",
       "    <tr>\n",
       "      <th>371905</th>\n",
       "      <td>391768</td>\n",
       "      <td>57671</td>\n",
       "      <td>19</td>\n",
       "      <td>3</td>\n",
       "      <td>2</td>\n",
       "      <td>10.0</td>\n",
       "    </tr>\n",
       "    <tr>\n",
       "      <th>394347</th>\n",
       "      <td>467134</td>\n",
       "      <td>63189</td>\n",
       "      <td>21</td>\n",
       "      <td>3</td>\n",
       "      <td>2</td>\n",
       "      <td>2.0</td>\n",
       "    </tr>\n",
       "    <tr>\n",
       "      <th>411408</th>\n",
       "      <td>1286742</td>\n",
       "      <td>183220</td>\n",
       "      <td>48</td>\n",
       "      <td>3</td>\n",
       "      <td>2</td>\n",
       "      <td>4.0</td>\n",
       "    </tr>\n",
       "    <tr>\n",
       "      <th>415163</th>\n",
       "      <td>2282673</td>\n",
       "      <td>86751</td>\n",
       "      <td>49</td>\n",
       "      <td>3</td>\n",
       "      <td>2</td>\n",
       "      <td>2.0</td>\n",
       "    </tr>\n",
       "    <tr>\n",
       "      <th>441599</th>\n",
       "      <td>2125197</td>\n",
       "      <td>14050</td>\n",
       "      <td>48</td>\n",
       "      <td>3</td>\n",
       "      <td>2</td>\n",
       "      <td>3.0</td>\n",
       "    </tr>\n",
       "  </tbody>\n",
       "</table>\n",
       "</div>"
      ],
      "text/plain": [
       "        order_id  user_id  order_number  order_dow  order_hour_of_day  \\\n",
       "145574    794638    50898            24          3                  2   \n",
       "223105   2160484   107525            16          3                  2   \n",
       "230807   1918001   188546            14          3                  2   \n",
       "266232   1782114   106752             1          3                  2   \n",
       "273805   1112182   202304            84          3                  2   \n",
       "284038   2845099    31189            11          3                  2   \n",
       "311713   1021560    53767             3          3                  2   \n",
       "321100    408114    68324             4          3                  2   \n",
       "323900   1919531   191501            32          3                  2   \n",
       "345917   2232988    82565             1          3                  2   \n",
       "371905    391768    57671            19          3                  2   \n",
       "394347    467134    63189            21          3                  2   \n",
       "411408   1286742   183220            48          3                  2   \n",
       "415163   2282673    86751            49          3                  2   \n",
       "441599   2125197    14050            48          3                  2   \n",
       "\n",
       "        days_since_prior_order  \n",
       "145574                     2.0  \n",
       "223105                    30.0  \n",
       "230807                    16.0  \n",
       "266232                     NaN  \n",
       "273805                     6.0  \n",
       "284038                     7.0  \n",
       "311713                     9.0  \n",
       "321100                    18.0  \n",
       "323900                     7.0  \n",
       "345917                     NaN  \n",
       "371905                    10.0  \n",
       "394347                     2.0  \n",
       "411408                     4.0  \n",
       "415163                     2.0  \n",
       "441599                     3.0  "
      ]
     },
     "execution_count": 10,
     "metadata": {},
     "output_type": "execute_result"
    }
   ],
   "source": [
    "# Basándote en tus hallazgos,\n",
    "# Verifica todos los pedidos que se hicieron el miércoles a las 2:00 a.m.\n",
    "Orders_miercoles_2am = orders_duplicated[(orders_duplicated['order_dow'] == 3) & (orders_duplicated['order_hour_of_day']==2)]\n",
    "Orders_miercoles_2am"
   ]
  },
  {
   "cell_type": "markdown",
   "id": "vu2OWyoqwOx5",
   "metadata": {
    "id": "vu2OWyoqwOx5"
   },
   "source": [
    "¿Qué sugiere este resultado? con este resultado seguimos observando que todos los pedidos duplicados cuentan con el mismo dia y misma hora en las que se hicieron los pedidos"
   ]
  },
  {
   "cell_type": "code",
   "execution_count": 11,
   "id": "480563c7",
   "metadata": {
    "id": "480563c7"
   },
   "outputs": [],
   "source": [
    "# Elimina los pedidos duplicados\n",
    "orders = orders.drop_duplicates().reset_index(drop = True)"
   ]
  },
  {
   "cell_type": "code",
   "execution_count": 12,
   "id": "0b2396a2",
   "metadata": {
    "id": "0b2396a2"
   },
   "outputs": [
    {
     "name": "stdout",
     "output_type": "stream",
     "text": [
      "No hay filas duplicadas en pedidos\n"
     ]
    }
   ],
   "source": [
    "# Vuelve a verificar si hay filas duplicadas\n",
    "orders_duplicated = orders.duplicated().sum()\n",
    "duplicatesSum(orders_duplicated , \"pedidos\")"
   ]
  },
  {
   "cell_type": "code",
   "execution_count": 13,
   "id": "f6113ef1",
   "metadata": {
    "id": "f6113ef1"
   },
   "outputs": [
    {
     "data": {
      "text/plain": [
       "0"
      ]
     },
     "execution_count": 13,
     "metadata": {},
     "output_type": "execute_result"
    }
   ],
   "source": [
    "# Vuelve a verificar únicamente si hay IDs duplicados de pedidos\n",
    "order_id_duplicates = orders.duplicated(subset = 'order_id').sum()\n",
    "order_id_duplicates"
   ]
  },
  {
   "cell_type": "markdown",
   "id": "5e8905ae",
   "metadata": {
    "id": "5e8905ae"
   },
   "source": [
    "Describe brevemente tus hallazgos y lo que hiciste con ellos: Podemos ver que se eliminaron las filas duplicadas y con ellas los IDs duplicados de pedidos"
   ]
  },
  {
   "cell_type": "markdown",
   "id": "45e6bc46",
   "metadata": {
    "id": "45e6bc46"
   },
   "source": [
    "### `products` data frame"
   ]
  },
  {
   "cell_type": "code",
   "execution_count": 14,
   "id": "5f526b5b-8175-46fa-a0fd-441767d50e64",
   "metadata": {
    "id": "5f526b5b-8175-46fa-a0fd-441767d50e64"
   },
   "outputs": [
    {
     "name": "stdout",
     "output_type": "stream",
     "text": [
      "No hay filas duplicadas en productos\n"
     ]
    }
   ],
   "source": [
    "# Verifica si hay filas totalmente duplicadas\n",
    "products_duplicates = products.duplicated().sum()\n",
    "duplicatesSum(products_duplicates , \"productos\")"
   ]
  },
  {
   "cell_type": "code",
   "execution_count": 15,
   "id": "88daa4f4",
   "metadata": {
    "id": "88daa4f4"
   },
   "outputs": [
    {
     "name": "stdout",
     "output_type": "stream",
     "text": [
      "Hay 49673 deparment_id duplicados\n"
     ]
    },
    {
     "data": {
      "text/html": [
       "<div>\n",
       "<style scoped>\n",
       "    .dataframe tbody tr th:only-of-type {\n",
       "        vertical-align: middle;\n",
       "    }\n",
       "\n",
       "    .dataframe tbody tr th {\n",
       "        vertical-align: top;\n",
       "    }\n",
       "\n",
       "    .dataframe thead th {\n",
       "        text-align: right;\n",
       "    }\n",
       "</style>\n",
       "<table border=\"1\" class=\"dataframe\">\n",
       "  <thead>\n",
       "    <tr style=\"text-align: right;\">\n",
       "      <th></th>\n",
       "      <th>product_id</th>\n",
       "      <th>product_name</th>\n",
       "      <th>aisle_id</th>\n",
       "      <th>department_id</th>\n",
       "    </tr>\n",
       "  </thead>\n",
       "  <tbody>\n",
       "    <tr>\n",
       "      <th>4</th>\n",
       "      <td>5</td>\n",
       "      <td>Green Chile Anytime Sauce</td>\n",
       "      <td>5</td>\n",
       "      <td>13</td>\n",
       "    </tr>\n",
       "    <tr>\n",
       "      <th>6</th>\n",
       "      <td>7</td>\n",
       "      <td>Pure Coconut Water With Orange</td>\n",
       "      <td>98</td>\n",
       "      <td>7</td>\n",
       "    </tr>\n",
       "    <tr>\n",
       "      <th>7</th>\n",
       "      <td>8</td>\n",
       "      <td>Cut Russet Potatoes Steam N' Mash</td>\n",
       "      <td>116</td>\n",
       "      <td>1</td>\n",
       "    </tr>\n",
       "    <tr>\n",
       "      <th>9</th>\n",
       "      <td>10</td>\n",
       "      <td>Sparkling Orange Juice &amp; Prickly Pear Beverage</td>\n",
       "      <td>115</td>\n",
       "      <td>7</td>\n",
       "    </tr>\n",
       "    <tr>\n",
       "      <th>10</th>\n",
       "      <td>11</td>\n",
       "      <td>Peach Mango Juice</td>\n",
       "      <td>31</td>\n",
       "      <td>7</td>\n",
       "    </tr>\n",
       "    <tr>\n",
       "      <th>...</th>\n",
       "      <td>...</td>\n",
       "      <td>...</td>\n",
       "      <td>...</td>\n",
       "      <td>...</td>\n",
       "    </tr>\n",
       "    <tr>\n",
       "      <th>49689</th>\n",
       "      <td>49690</td>\n",
       "      <td>HIGH PERFORMANCE ENERGY DRINK</td>\n",
       "      <td>64</td>\n",
       "      <td>7</td>\n",
       "    </tr>\n",
       "    <tr>\n",
       "      <th>49690</th>\n",
       "      <td>49691</td>\n",
       "      <td>ORIGINAL PANCAKE &amp; WAFFLE MIX</td>\n",
       "      <td>130</td>\n",
       "      <td>14</td>\n",
       "    </tr>\n",
       "    <tr>\n",
       "      <th>49691</th>\n",
       "      <td>49692</td>\n",
       "      <td>ORGANIC INSTANT OATMEAL LIGHT MAPLE BROWN SUGAR</td>\n",
       "      <td>130</td>\n",
       "      <td>14</td>\n",
       "    </tr>\n",
       "    <tr>\n",
       "      <th>49692</th>\n",
       "      <td>49693</td>\n",
       "      <td>SPRING WATER BODY WASH</td>\n",
       "      <td>127</td>\n",
       "      <td>11</td>\n",
       "    </tr>\n",
       "    <tr>\n",
       "      <th>49693</th>\n",
       "      <td>49694</td>\n",
       "      <td>BURRITO- STEAK &amp; CHEESE</td>\n",
       "      <td>38</td>\n",
       "      <td>1</td>\n",
       "    </tr>\n",
       "  </tbody>\n",
       "</table>\n",
       "<p>49673 rows × 4 columns</p>\n",
       "</div>"
      ],
      "text/plain": [
       "       product_id                                     product_name  aisle_id  \\\n",
       "4               5                        Green Chile Anytime Sauce         5   \n",
       "6               7                   Pure Coconut Water With Orange        98   \n",
       "7               8                Cut Russet Potatoes Steam N' Mash       116   \n",
       "9              10   Sparkling Orange Juice & Prickly Pear Beverage       115   \n",
       "10             11                                Peach Mango Juice        31   \n",
       "...           ...                                              ...       ...   \n",
       "49689       49690                    HIGH PERFORMANCE ENERGY DRINK        64   \n",
       "49690       49691                    ORIGINAL PANCAKE & WAFFLE MIX       130   \n",
       "49691       49692  ORGANIC INSTANT OATMEAL LIGHT MAPLE BROWN SUGAR       130   \n",
       "49692       49693                           SPRING WATER BODY WASH       127   \n",
       "49693       49694                          BURRITO- STEAK & CHEESE        38   \n",
       "\n",
       "       department_id  \n",
       "4                 13  \n",
       "6                  7  \n",
       "7                  1  \n",
       "9                  7  \n",
       "10                 7  \n",
       "...              ...  \n",
       "49689              7  \n",
       "49690             14  \n",
       "49691             14  \n",
       "49692             11  \n",
       "49693              1  \n",
       "\n",
       "[49673 rows x 4 columns]"
      ]
     },
     "execution_count": 15,
     "metadata": {},
     "output_type": "execute_result"
    }
   ],
   "source": [
    "# Revisa únicamente si hay ID de departamentos duplicados\n",
    "department_id_duplicates = products.duplicated(subset = \"department_id\").sum()\n",
    "print(f\"Hay {department_id_duplicates} deparment_id duplicados\")\n",
    "\n",
    "department_id_duplicates = products[products.duplicated(subset = 'department_id')]\n",
    "department_id_duplicates"
   ]
  },
  {
   "cell_type": "code",
   "execution_count": 16,
   "id": "c773f0bf",
   "metadata": {
    "id": "c773f0bf"
   },
   "outputs": [
    {
     "data": {
      "text/html": [
       "<div>\n",
       "<style scoped>\n",
       "    .dataframe tbody tr th:only-of-type {\n",
       "        vertical-align: middle;\n",
       "    }\n",
       "\n",
       "    .dataframe tbody tr th {\n",
       "        vertical-align: top;\n",
       "    }\n",
       "\n",
       "    .dataframe thead th {\n",
       "        text-align: right;\n",
       "    }\n",
       "</style>\n",
       "<table border=\"1\" class=\"dataframe\">\n",
       "  <thead>\n",
       "    <tr style=\"text-align: right;\">\n",
       "      <th></th>\n",
       "      <th>product_id</th>\n",
       "      <th>product_name</th>\n",
       "      <th>aisle_id</th>\n",
       "      <th>department_id</th>\n",
       "    </tr>\n",
       "  </thead>\n",
       "  <tbody>\n",
       "    <tr>\n",
       "      <th>0</th>\n",
       "      <td>1</td>\n",
       "      <td>CHOCOLATE SANDWICH COOKIES</td>\n",
       "      <td>61</td>\n",
       "      <td>19</td>\n",
       "    </tr>\n",
       "    <tr>\n",
       "      <th>1</th>\n",
       "      <td>2</td>\n",
       "      <td>ALL-SEASONS SALT</td>\n",
       "      <td>104</td>\n",
       "      <td>13</td>\n",
       "    </tr>\n",
       "    <tr>\n",
       "      <th>2</th>\n",
       "      <td>3</td>\n",
       "      <td>ROBUST GOLDEN UNSWEETENED OOLONG TEA</td>\n",
       "      <td>94</td>\n",
       "      <td>7</td>\n",
       "    </tr>\n",
       "    <tr>\n",
       "      <th>3</th>\n",
       "      <td>4</td>\n",
       "      <td>SMART ONES CLASSIC FAVORITES MINI RIGATONI WIT...</td>\n",
       "      <td>38</td>\n",
       "      <td>1</td>\n",
       "    </tr>\n",
       "    <tr>\n",
       "      <th>4</th>\n",
       "      <td>5</td>\n",
       "      <td>GREEN CHILE ANYTIME SAUCE</td>\n",
       "      <td>5</td>\n",
       "      <td>13</td>\n",
       "    </tr>\n",
       "  </tbody>\n",
       "</table>\n",
       "</div>"
      ],
      "text/plain": [
       "   product_id                                       product_name  aisle_id  \\\n",
       "0           1                         CHOCOLATE SANDWICH COOKIES        61   \n",
       "1           2                                   ALL-SEASONS SALT       104   \n",
       "2           3               ROBUST GOLDEN UNSWEETENED OOLONG TEA        94   \n",
       "3           4  SMART ONES CLASSIC FAVORITES MINI RIGATONI WIT...        38   \n",
       "4           5                          GREEN CHILE ANYTIME SAUCE         5   \n",
       "\n",
       "   department_id  \n",
       "0             19  \n",
       "1             13  \n",
       "2              7  \n",
       "3              1  \n",
       "4             13  "
      ]
     },
     "execution_count": 16,
     "metadata": {},
     "output_type": "execute_result"
    }
   ],
   "source": [
    "# Revisa únicamente si hay nombres duplicados de productos (convierte los nombres a letras mayúsculas para compararlos mejor)\n",
    "products['product_name'] = products['product_name'].str.upper()\n",
    "products.head()"
   ]
  },
  {
   "cell_type": "code",
   "execution_count": 17,
   "id": "01efd02e",
   "metadata": {
    "id": "01efd02e"
   },
   "outputs": [
    {
     "data": {
      "text/html": [
       "<div>\n",
       "<style scoped>\n",
       "    .dataframe tbody tr th:only-of-type {\n",
       "        vertical-align: middle;\n",
       "    }\n",
       "\n",
       "    .dataframe tbody tr th {\n",
       "        vertical-align: top;\n",
       "    }\n",
       "\n",
       "    .dataframe thead th {\n",
       "        text-align: right;\n",
       "    }\n",
       "</style>\n",
       "<table border=\"1\" class=\"dataframe\">\n",
       "  <thead>\n",
       "    <tr style=\"text-align: right;\">\n",
       "      <th></th>\n",
       "      <th>product_id</th>\n",
       "      <th>product_name</th>\n",
       "      <th>aisle_id</th>\n",
       "      <th>department_id</th>\n",
       "    </tr>\n",
       "  </thead>\n",
       "  <tbody>\n",
       "    <tr>\n",
       "      <th>2058</th>\n",
       "      <td>2059</td>\n",
       "      <td>BIOTIN 1000 MCG</td>\n",
       "      <td>47</td>\n",
       "      <td>11</td>\n",
       "    </tr>\n",
       "    <tr>\n",
       "      <th>5455</th>\n",
       "      <td>5456</td>\n",
       "      <td>GREEN TEA WITH GINSENG AND HONEY</td>\n",
       "      <td>96</td>\n",
       "      <td>20</td>\n",
       "    </tr>\n",
       "    <tr>\n",
       "      <th>5558</th>\n",
       "      <td>5559</td>\n",
       "      <td>CREAM OF MUSHROOM SOUP</td>\n",
       "      <td>69</td>\n",
       "      <td>15</td>\n",
       "    </tr>\n",
       "    <tr>\n",
       "      <th>7558</th>\n",
       "      <td>7559</td>\n",
       "      <td>CINNAMON ROLLS WITH ICING</td>\n",
       "      <td>105</td>\n",
       "      <td>13</td>\n",
       "    </tr>\n",
       "    <tr>\n",
       "      <th>9037</th>\n",
       "      <td>9038</td>\n",
       "      <td>AMERICAN CHEESE SLICES</td>\n",
       "      <td>21</td>\n",
       "      <td>16</td>\n",
       "    </tr>\n",
       "    <tr>\n",
       "      <th>...</th>\n",
       "      <td>...</td>\n",
       "      <td>...</td>\n",
       "      <td>...</td>\n",
       "      <td>...</td>\n",
       "    </tr>\n",
       "    <tr>\n",
       "      <th>49689</th>\n",
       "      <td>49690</td>\n",
       "      <td>HIGH PERFORMANCE ENERGY DRINK</td>\n",
       "      <td>64</td>\n",
       "      <td>7</td>\n",
       "    </tr>\n",
       "    <tr>\n",
       "      <th>49690</th>\n",
       "      <td>49691</td>\n",
       "      <td>ORIGINAL PANCAKE &amp; WAFFLE MIX</td>\n",
       "      <td>130</td>\n",
       "      <td>14</td>\n",
       "    </tr>\n",
       "    <tr>\n",
       "      <th>49691</th>\n",
       "      <td>49692</td>\n",
       "      <td>ORGANIC INSTANT OATMEAL LIGHT MAPLE BROWN SUGAR</td>\n",
       "      <td>130</td>\n",
       "      <td>14</td>\n",
       "    </tr>\n",
       "    <tr>\n",
       "      <th>49692</th>\n",
       "      <td>49693</td>\n",
       "      <td>SPRING WATER BODY WASH</td>\n",
       "      <td>127</td>\n",
       "      <td>11</td>\n",
       "    </tr>\n",
       "    <tr>\n",
       "      <th>49693</th>\n",
       "      <td>49694</td>\n",
       "      <td>BURRITO- STEAK &amp; CHEESE</td>\n",
       "      <td>38</td>\n",
       "      <td>1</td>\n",
       "    </tr>\n",
       "  </tbody>\n",
       "</table>\n",
       "<p>104 rows × 4 columns</p>\n",
       "</div>"
      ],
      "text/plain": [
       "       product_id                                     product_name  aisle_id  \\\n",
       "2058         2059                                  BIOTIN 1000 MCG        47   \n",
       "5455         5456                 GREEN TEA WITH GINSENG AND HONEY        96   \n",
       "5558         5559                           CREAM OF MUSHROOM SOUP        69   \n",
       "7558         7559                        CINNAMON ROLLS WITH ICING       105   \n",
       "9037         9038                           AMERICAN CHEESE SLICES        21   \n",
       "...           ...                                              ...       ...   \n",
       "49689       49690                    HIGH PERFORMANCE ENERGY DRINK        64   \n",
       "49690       49691                    ORIGINAL PANCAKE & WAFFLE MIX       130   \n",
       "49691       49692  ORGANIC INSTANT OATMEAL LIGHT MAPLE BROWN SUGAR       130   \n",
       "49692       49693                           SPRING WATER BODY WASH       127   \n",
       "49693       49694                          BURRITO- STEAK & CHEESE        38   \n",
       "\n",
       "       department_id  \n",
       "2058              11  \n",
       "5455              20  \n",
       "5558              15  \n",
       "7558              13  \n",
       "9037              16  \n",
       "...              ...  \n",
       "49689              7  \n",
       "49690             14  \n",
       "49691             14  \n",
       "49692             11  \n",
       "49693              1  \n",
       "\n",
       "[104 rows x 4 columns]"
      ]
     },
     "execution_count": 17,
     "metadata": {},
     "output_type": "execute_result"
    }
   ],
   "source": [
    "# Revisa si hay nombres duplicados de productos no faltantes\n",
    "product_names_duplicates = products[products.duplicated(subset='product_name') & products['product_name'].notna()]\n",
    "product_names_duplicates"
   ]
  },
  {
   "cell_type": "markdown",
   "id": "9da8d293",
   "metadata": {
    "id": "9da8d293"
   },
   "source": [
    "Describe brevemente tus hallazgos y lo que hiciste con ellos."
   ]
  },
  {
   "cell_type": "markdown",
   "id": "60f30db1",
   "metadata": {
    "id": "60f30db1"
   },
   "source": [
    "### `departments` data frame"
   ]
  },
  {
   "cell_type": "code",
   "execution_count": 18,
   "id": "fb410ad4-0fbf-4b80-bb09-23fdea79afe3",
   "metadata": {
    "id": "fb410ad4-0fbf-4b80-bb09-23fdea79afe3"
   },
   "outputs": [
    {
     "name": "stdout",
     "output_type": "stream",
     "text": [
      "No hay filas duplicadas en departments\n"
     ]
    }
   ],
   "source": [
    "# Revisa si hay filas totalmente duplicadas\n",
    "\n",
    "department_duplicates = departments.duplicated().sum()\n",
    "duplicatesSum(department_duplicates , \"departments\")\n"
   ]
  },
  {
   "cell_type": "code",
   "execution_count": 19,
   "id": "332b12bb",
   "metadata": {
    "id": "332b12bb"
   },
   "outputs": [
    {
     "data": {
      "text/html": [
       "<div>\n",
       "<style scoped>\n",
       "    .dataframe tbody tr th:only-of-type {\n",
       "        vertical-align: middle;\n",
       "    }\n",
       "\n",
       "    .dataframe tbody tr th {\n",
       "        vertical-align: top;\n",
       "    }\n",
       "\n",
       "    .dataframe thead th {\n",
       "        text-align: right;\n",
       "    }\n",
       "</style>\n",
       "<table border=\"1\" class=\"dataframe\">\n",
       "  <thead>\n",
       "    <tr style=\"text-align: right;\">\n",
       "      <th></th>\n",
       "      <th>product_id</th>\n",
       "      <th>product_name</th>\n",
       "      <th>aisle_id</th>\n",
       "      <th>department_id</th>\n",
       "      <th>department</th>\n",
       "    </tr>\n",
       "  </thead>\n",
       "  <tbody>\n",
       "  </tbody>\n",
       "</table>\n",
       "</div>"
      ],
      "text/plain": [
       "Empty DataFrame\n",
       "Columns: [product_id, product_name, aisle_id, department_id, department]\n",
       "Index: []"
      ]
     },
     "execution_count": 19,
     "metadata": {},
     "output_type": "execute_result"
    }
   ],
   "source": [
    "# Revisa únicamente si hay IDs duplicadas de productos\n",
    "\n",
    "# Unir las tablas products y departments usando department_id\n",
    "products_departments = pd.merge(products, departments, on='department_id', how='inner')\n",
    "\n",
    "# Verificar duplicados en la columna product_id\n",
    "duplicated_product_ids = products_departments[products_departments.duplicated(subset='product_id')]\n",
    "\n",
    "# Mostrar los resultados\n",
    "duplicated_product_ids"
   ]
  },
  {
   "cell_type": "markdown",
   "id": "bd30d78e",
   "metadata": {
    "id": "bd30d78e"
   },
   "source": [
    "Describe brevemente tus hallazgos y lo que hiciste con ellos : Al no tener la columna products_id en la tabla departments tuve que hacer una union entre las tablas departments y  products ya que tienen la columna department_id en comun para asi unir las 2 tablas y verificar  los products_id que se repitan y como podemos ver no hay products_id que se repitan\n"
   ]
  },
  {
   "cell_type": "markdown",
   "id": "889349c1",
   "metadata": {
    "id": "889349c1"
   },
   "source": [
    "### `aisles` data frame"
   ]
  },
  {
   "cell_type": "code",
   "execution_count": 20,
   "id": "9da89fb9-4679-40f5-ad0d-c34df753a3f8",
   "metadata": {
    "id": "9da89fb9-4679-40f5-ad0d-c34df753a3f8"
   },
   "outputs": [
    {
     "name": "stdout",
     "output_type": "stream",
     "text": [
      "No hay filas duplicadas en aisles\n"
     ]
    }
   ],
   "source": [
    "# Revisa si hay filas totalmente duplicadas\n",
    "aisles_duplicates = aisles.duplicated().sum()\n",
    "duplicatesSum(aisles_duplicates , \"aisles\")"
   ]
  },
  {
   "cell_type": "code",
   "execution_count": 21,
   "id": "da7c2822",
   "metadata": {
    "id": "da7c2822"
   },
   "outputs": [
    {
     "data": {
      "text/html": [
       "<div>\n",
       "<style scoped>\n",
       "    .dataframe tbody tr th:only-of-type {\n",
       "        vertical-align: middle;\n",
       "    }\n",
       "\n",
       "    .dataframe tbody tr th {\n",
       "        vertical-align: top;\n",
       "    }\n",
       "\n",
       "    .dataframe thead th {\n",
       "        text-align: right;\n",
       "    }\n",
       "</style>\n",
       "<table border=\"1\" class=\"dataframe\">\n",
       "  <thead>\n",
       "    <tr style=\"text-align: right;\">\n",
       "      <th></th>\n",
       "      <th>product_id</th>\n",
       "      <th>product_name</th>\n",
       "      <th>aisle_id</th>\n",
       "      <th>department_id</th>\n",
       "      <th>aisle</th>\n",
       "    </tr>\n",
       "  </thead>\n",
       "  <tbody>\n",
       "  </tbody>\n",
       "</table>\n",
       "</div>"
      ],
      "text/plain": [
       "Empty DataFrame\n",
       "Columns: [product_id, product_name, aisle_id, department_id, aisle]\n",
       "Index: []"
      ]
     },
     "execution_count": 21,
     "metadata": {},
     "output_type": "execute_result"
    }
   ],
   "source": [
    "# Revisa únicamente si hay IDs duplicadas de productos\n",
    "\n",
    "#Unir las tablas products y aisles usando department_id\n",
    "products_aisles = pd.merge(products, aisles, on='aisle_id', how='inner')\n",
    "\n",
    "# Verificar duplicados en la columna product_id\n",
    "duplicated_product_ids = products_aisles[products_aisles.duplicated(subset='product_id')]\n",
    "\n",
    "# Mostrar los resultados\n",
    "duplicated_product_ids"
   ]
  },
  {
   "cell_type": "markdown",
   "id": "ac63826f",
   "metadata": {
    "id": "ac63826f"
   },
   "source": [
    "Describe brevemente tus hallazgos y lo que hiciste con ello : Al igual que anteriormente la tabla aisles no cuenta con la columna product_id pero si comparte la misma columna aisle_id con la tabla products por lo que de igual manera relizo un join entre las dos tablas con la columna en comun para verificar los duplicados product_id a partir de la tabla aisles "
   ]
  },
  {
   "cell_type": "markdown",
   "id": "274cd06a",
   "metadata": {
    "id": "274cd06a"
   },
   "source": [
    "### `order_products` data frame"
   ]
  },
  {
   "cell_type": "code",
   "execution_count": 22,
   "id": "52326689-84a8-4b8f-a881-7c68780f62c9",
   "metadata": {
    "id": "52326689-84a8-4b8f-a881-7c68780f62c9"
   },
   "outputs": [
    {
     "name": "stdout",
     "output_type": "stream",
     "text": [
      "No hay filas duplicadas en order_products\n"
     ]
    }
   ],
   "source": [
    "# Revisa si hay filas totalmente duplicadas\n",
    "orders_products_duplicates = order_products.duplicated().sum()\n",
    "duplicatesSum(orders_products_duplicates , \"order_products\")"
   ]
  },
  {
   "cell_type": "markdown",
   "id": "1e46de76",
   "metadata": {
    "id": "1e46de76"
   },
   "source": [
    "## Encuentra y elimina los valores ausentes\n",
    "\n",
    "Al trabajar con valores duplicados, pudimos observar que también nos falta investigar valores ausentes:\n",
    "\n",
    "* La columna `'product_name'` de la tabla products.\n",
    "* La columna `'days_since_prior_order'` de la tabla orders.\n",
    "* La columna `'add_to_cart_order'` de la tabla order_productos."
   ]
  },
  {
   "cell_type": "markdown",
   "id": "c0aebd78",
   "metadata": {
    "id": "c0aebd78"
   },
   "source": [
    "### `products` data frame"
   ]
  },
  {
   "cell_type": "code",
   "execution_count": 24,
   "id": "fe4a8b0f",
   "metadata": {
    "id": "fe4a8b0f"
   },
   "outputs": [
    {
     "data": {
      "text/html": [
       "<div>\n",
       "<style scoped>\n",
       "    .dataframe tbody tr th:only-of-type {\n",
       "        vertical-align: middle;\n",
       "    }\n",
       "\n",
       "    .dataframe tbody tr th {\n",
       "        vertical-align: top;\n",
       "    }\n",
       "\n",
       "    .dataframe thead th {\n",
       "        text-align: right;\n",
       "    }\n",
       "</style>\n",
       "<table border=\"1\" class=\"dataframe\">\n",
       "  <thead>\n",
       "    <tr style=\"text-align: right;\">\n",
       "      <th></th>\n",
       "      <th>product_id</th>\n",
       "      <th>product_name</th>\n",
       "      <th>aisle_id</th>\n",
       "      <th>department_id</th>\n",
       "    </tr>\n",
       "  </thead>\n",
       "  <tbody>\n",
       "    <tr>\n",
       "      <th>37</th>\n",
       "      <td>38</td>\n",
       "      <td>NaN</td>\n",
       "      <td>100</td>\n",
       "      <td>21</td>\n",
       "    </tr>\n",
       "    <tr>\n",
       "      <th>71</th>\n",
       "      <td>72</td>\n",
       "      <td>NaN</td>\n",
       "      <td>100</td>\n",
       "      <td>21</td>\n",
       "    </tr>\n",
       "    <tr>\n",
       "      <th>109</th>\n",
       "      <td>110</td>\n",
       "      <td>NaN</td>\n",
       "      <td>100</td>\n",
       "      <td>21</td>\n",
       "    </tr>\n",
       "    <tr>\n",
       "      <th>296</th>\n",
       "      <td>297</td>\n",
       "      <td>NaN</td>\n",
       "      <td>100</td>\n",
       "      <td>21</td>\n",
       "    </tr>\n",
       "    <tr>\n",
       "      <th>416</th>\n",
       "      <td>417</td>\n",
       "      <td>NaN</td>\n",
       "      <td>100</td>\n",
       "      <td>21</td>\n",
       "    </tr>\n",
       "    <tr>\n",
       "      <th>...</th>\n",
       "      <td>...</td>\n",
       "      <td>...</td>\n",
       "      <td>...</td>\n",
       "      <td>...</td>\n",
       "    </tr>\n",
       "    <tr>\n",
       "      <th>49552</th>\n",
       "      <td>49553</td>\n",
       "      <td>NaN</td>\n",
       "      <td>100</td>\n",
       "      <td>21</td>\n",
       "    </tr>\n",
       "    <tr>\n",
       "      <th>49574</th>\n",
       "      <td>49575</td>\n",
       "      <td>NaN</td>\n",
       "      <td>100</td>\n",
       "      <td>21</td>\n",
       "    </tr>\n",
       "    <tr>\n",
       "      <th>49640</th>\n",
       "      <td>49641</td>\n",
       "      <td>NaN</td>\n",
       "      <td>100</td>\n",
       "      <td>21</td>\n",
       "    </tr>\n",
       "    <tr>\n",
       "      <th>49663</th>\n",
       "      <td>49664</td>\n",
       "      <td>NaN</td>\n",
       "      <td>100</td>\n",
       "      <td>21</td>\n",
       "    </tr>\n",
       "    <tr>\n",
       "      <th>49668</th>\n",
       "      <td>49669</td>\n",
       "      <td>NaN</td>\n",
       "      <td>100</td>\n",
       "      <td>21</td>\n",
       "    </tr>\n",
       "  </tbody>\n",
       "</table>\n",
       "<p>1258 rows × 4 columns</p>\n",
       "</div>"
      ],
      "text/plain": [
       "       product_id product_name  aisle_id  department_id\n",
       "37             38          NaN       100             21\n",
       "71             72          NaN       100             21\n",
       "109           110          NaN       100             21\n",
       "296           297          NaN       100             21\n",
       "416           417          NaN       100             21\n",
       "...           ...          ...       ...            ...\n",
       "49552       49553          NaN       100             21\n",
       "49574       49575          NaN       100             21\n",
       "49640       49641          NaN       100             21\n",
       "49663       49664          NaN       100             21\n",
       "49668       49669          NaN       100             21\n",
       "\n",
       "[1258 rows x 4 columns]"
      ]
     },
     "execution_count": 24,
     "metadata": {},
     "output_type": "execute_result"
    }
   ],
   "source": [
    "# Encuentra los valores ausentes en la columna 'product_name'\n",
    "missing_product_names = products[products['product_name'].isna()]\n",
    "missing_product_names"
   ]
  },
  {
   "cell_type": "markdown",
   "id": "-A6x1AbJhjkp",
   "metadata": {
    "id": "-A6x1AbJhjkp"
   },
   "source": [
    "Describe brevemente cuáles son tus hallazgos: Podemos observar que hay 1258 filas las cuales los productos no tienen nombre y a simple vista podemos ver un patron el cual el id de aisle y deparment es el mismo en tods las filas "
   ]
  },
  {
   "cell_type": "code",
   "execution_count": 25,
   "id": "e96167bc",
   "metadata": {
    "id": "e96167bc"
   },
   "outputs": [
    {
     "name": "stdout",
     "output_type": "stream",
     "text": [
      "1258\n"
     ]
    }
   ],
   "source": [
    "#  ¿Todos los nombres de productos ausentes están relacionados con el pasillo con ID 100?\n",
    "all_aisle_id_100 = (missing_product_names['aisle_id'] == 100).sum()\n",
    "print(all_aisle_id_100)"
   ]
  },
  {
   "cell_type": "markdown",
   "id": "WRpIfXRphpSL",
   "metadata": {
    "id": "WRpIfXRphpSL"
   },
   "source": [
    "Describe brevemente cuáles son tus hallazgos: El resultado nos indica que los product_name ausentes que tienen asile_id = 100 son 1258 mismo numero de filas las cuales nos dijeron que tienen valores ausentes en product_name por lo que esto quiere decir que todas las filas con product_name = NaN tienen un aisle_id = 100"
   ]
  },
  {
   "cell_type": "code",
   "execution_count": 26,
   "id": "8fd0a541",
   "metadata": {
    "id": "8fd0a541"
   },
   "outputs": [
    {
     "name": "stdout",
     "output_type": "stream",
     "text": [
      "1258\n"
     ]
    }
   ],
   "source": [
    "# ¿Todos los nombres de productos ausentes están relacionados con el departamento con ID 21?\n",
    "all_department_id_100 = (missing_product_names['department_id'] == 21).sum()\n",
    "print(all_aisle_id_100)"
   ]
  },
  {
   "cell_type": "markdown",
   "id": "qDpdYn1Fht_I",
   "metadata": {
    "id": "qDpdYn1Fht_I"
   },
   "source": [
    "Describe brevemente cuáles son tus hallazgos: De igual manera como en aisle_id pasa con department_id"
   ]
  },
  {
   "cell_type": "code",
   "execution_count": 27,
   "id": "325c3464",
   "metadata": {
    "id": "325c3464"
   },
   "outputs": [],
   "source": [
    "# Usa las tablas department y aisle para revisar los datos del pasillo con ID 100 y el departamento con ID 21."
   ]
  },
  {
   "cell_type": "code",
   "execution_count": 28,
   "id": "9b1fdd3a",
   "metadata": {},
   "outputs": [
    {
     "name": "stdout",
     "output_type": "stream",
     "text": [
      "Información del pasillo con ID 100:\n"
     ]
    },
    {
     "data": {
      "text/html": [
       "<div>\n",
       "<style scoped>\n",
       "    .dataframe tbody tr th:only-of-type {\n",
       "        vertical-align: middle;\n",
       "    }\n",
       "\n",
       "    .dataframe tbody tr th {\n",
       "        vertical-align: top;\n",
       "    }\n",
       "\n",
       "    .dataframe thead th {\n",
       "        text-align: right;\n",
       "    }\n",
       "</style>\n",
       "<table border=\"1\" class=\"dataframe\">\n",
       "  <thead>\n",
       "    <tr style=\"text-align: right;\">\n",
       "      <th></th>\n",
       "      <th>aisle_id</th>\n",
       "      <th>aisle</th>\n",
       "    </tr>\n",
       "  </thead>\n",
       "  <tbody>\n",
       "    <tr>\n",
       "      <th>99</th>\n",
       "      <td>100</td>\n",
       "      <td>missing</td>\n",
       "    </tr>\n",
       "  </tbody>\n",
       "</table>\n",
       "</div>"
      ],
      "text/plain": [
       "    aisle_id    aisle\n",
       "99       100  missing"
      ]
     },
     "execution_count": 28,
     "metadata": {},
     "output_type": "execute_result"
    }
   ],
   "source": [
    "# Información del pasillo con ID 100\n",
    "aisle_100_info = aisles[aisles['aisle_id'] == 100]\n",
    "print(\"Información del pasillo con ID 100:\")\n",
    "aisle_100_info"
   ]
  },
  {
   "cell_type": "code",
   "execution_count": 29,
   "id": "bd51b542",
   "metadata": {},
   "outputs": [
    {
     "name": "stdout",
     "output_type": "stream",
     "text": [
      "\n",
      "Información del departamento con ID 21:\n"
     ]
    },
    {
     "data": {
      "text/html": [
       "<div>\n",
       "<style scoped>\n",
       "    .dataframe tbody tr th:only-of-type {\n",
       "        vertical-align: middle;\n",
       "    }\n",
       "\n",
       "    .dataframe tbody tr th {\n",
       "        vertical-align: top;\n",
       "    }\n",
       "\n",
       "    .dataframe thead th {\n",
       "        text-align: right;\n",
       "    }\n",
       "</style>\n",
       "<table border=\"1\" class=\"dataframe\">\n",
       "  <thead>\n",
       "    <tr style=\"text-align: right;\">\n",
       "      <th></th>\n",
       "      <th>department_id</th>\n",
       "      <th>department</th>\n",
       "    </tr>\n",
       "  </thead>\n",
       "  <tbody>\n",
       "    <tr>\n",
       "      <th>20</th>\n",
       "      <td>21</td>\n",
       "      <td>missing</td>\n",
       "    </tr>\n",
       "  </tbody>\n",
       "</table>\n",
       "</div>"
      ],
      "text/plain": [
       "    department_id department\n",
       "20             21    missing"
      ]
     },
     "execution_count": 29,
     "metadata": {},
     "output_type": "execute_result"
    }
   ],
   "source": [
    "# Información del departamento con ID 21\n",
    "department_21_info = departments[departments['department_id'] == 21]\n",
    "print(\"\\nInformación del departamento con ID 21:\")\n",
    "department_21_info"
   ]
  },
  {
   "cell_type": "markdown",
   "id": "nqhSTUPhhvEJ",
   "metadata": {
    "id": "nqhSTUPhhvEJ"
   },
   "source": [
    "Describe brevemente cuáles son tus hallazgos : Lo que nos muestra nos indica que en ambas tablas en la columna aisle y department hay un dato con el valor de missing el cual nos estaria indicanto que es un valor ausente"
   ]
  },
  {
   "cell_type": "code",
   "execution_count": 30,
   "id": "6b295120",
   "metadata": {
    "id": "6b295120"
   },
   "outputs": [
    {
     "name": "stderr",
     "output_type": "stream",
     "text": [
      "C:\\Users\\rodri\\AppData\\Local\\Temp\\ipykernel_24168\\3586095999.py:2: FutureWarning: A value is trying to be set on a copy of a DataFrame or Series through chained assignment using an inplace method.\n",
      "The behavior will change in pandas 3.0. This inplace method will never work because the intermediate object on which we are setting values always behaves as a copy.\n",
      "\n",
      "For example, when doing 'df[col].method(value, inplace=True)', try using 'df.method({col: value}, inplace=True)' or df[col] = df[col].method(value) instead, to perform the operation inplace on the original object.\n",
      "\n",
      "\n",
      "  products['product_name'].fillna('Unknown', inplace=True)\n"
     ]
    }
   ],
   "source": [
    "# Completa los nombres de productos ausentes con 'Unknown'\n",
    "products['product_name'].fillna('Unknown', inplace=True)"
   ]
  },
  {
   "cell_type": "markdown",
   "id": "fc70e5ad",
   "metadata": {
    "id": "fc70e5ad"
   },
   "source": [
    "Describe brevemente tus hallazgos y lo que hiciste con ellos: Lo que hice con los nombres de productos faltantes fue rellenarlos con la funcion fillna y reemplazarlos con la palabra indicada que es 'Unknown'"
   ]
  },
  {
   "cell_type": "markdown",
   "id": "7eb45c86",
   "metadata": {
    "id": "7eb45c86"
   },
   "source": [
    "### `orders` data frame"
   ]
  },
  {
   "cell_type": "code",
   "execution_count": 31,
   "id": "93e41d96",
   "metadata": {
    "id": "93e41d96"
   },
   "outputs": [
    {
     "name": "stdout",
     "output_type": "stream",
     "text": [
      "Valores ausentes en la tabla 'orders':\n",
      "order_id                      0\n",
      "user_id                       0\n",
      "order_number                  0\n",
      "order_dow                     0\n",
      "order_hour_of_day             0\n",
      "days_since_prior_order    28817\n",
      "dtype: int64\n"
     ]
    }
   ],
   "source": [
    "# Encuentra los valores ausentes\n",
    "missing_orders = orders.isna().sum()\n",
    "\n",
    "# Mostrar los valores ausentes\n",
    "print(\"Valores ausentes en la tabla 'orders':\")\n",
    "print(missing_orders)"
   ]
  },
  {
   "cell_type": "code",
   "execution_count": 32,
   "id": "166e5a86",
   "metadata": {
    "id": "166e5a86"
   },
   "outputs": [
    {
     "name": "stdout",
     "output_type": "stream",
     "text": [
      "No hay valores ausentes que no sean el primer pedido del cliente.\n"
     ]
    }
   ],
   "source": [
    "# ¿Hay algún valor ausente que no sea el primer pedido del cliente?\n",
    "missing_not_first_orders = orders[(orders['days_since_prior_order'].isna()) & (orders['order_number'] != 1)]\n",
    "\n",
    "#Utilizo .empty para verificar si el DataFrame esta vacio para saber si hay valores ausente que no con el primer pedido o si no hay\n",
    "if missing_not_first_orders.empty:\n",
    "    print(\"No hay valores ausentes que no sean el primer pedido del cliente.\")\n",
    "else:\n",
    "    print(\"Hay valores ausentes que no son el primer pedido del cliente.\")\n",
    "    print(missing_not_first_orders)"
   ]
  },
  {
   "cell_type": "markdown",
   "id": "4e23d089",
   "metadata": {
    "id": "4e23d089"
   },
   "source": [
    "Describe brevemente tus hallazgos y lo que hiciste con ellos: El resultado nos indica que no hay valores ausentes que no sean el primer pedido de el cliente por lo que los datos estarian correctamente estructurados ya que es imposible tener el dato sobre la fecha en la que el cliente hizo un pedido anterior si este solo a realizado 1 pedido"
   ]
  },
  {
   "cell_type": "markdown",
   "id": "69dc9ca4",
   "metadata": {
    "id": "69dc9ca4"
   },
   "source": [
    "### `order_products` data frame"
   ]
  },
  {
   "cell_type": "code",
   "execution_count": 33,
   "id": "b8240253",
   "metadata": {
    "id": "b8240253"
   },
   "outputs": [
    {
     "name": "stdout",
     "output_type": "stream",
     "text": [
      "Valores ausentes en la tabla 'orders':\n",
      "order_id               0\n",
      "product_id             0\n",
      "add_to_cart_order    836\n",
      "reordered              0\n",
      "dtype: int64\n"
     ]
    }
   ],
   "source": [
    "# Encuentra los valores ausentes\n",
    "missing_order_products = order_products.isna().sum()\n",
    "\n",
    "print(\"Valores ausentes en la tabla 'orders':\")\n",
    "print(missing_order_products)"
   ]
  },
  {
   "cell_type": "code",
   "execution_count": 34,
   "id": "9a78e5ee",
   "metadata": {
    "id": "9a78e5ee"
   },
   "outputs": [
    {
     "name": "stdout",
     "output_type": "stream",
     "text": [
      "El valor maximo de la columna 'add_to_cart_order' es 64.0\n",
      "El valor minimimo de la columna 'add_to_cart_order' es 1.0\n"
     ]
    }
   ],
   "source": [
    "# ¿Cuáles son los valores mínimos y máximos en esta columna?\n",
    "max_value = order_products['add_to_cart_order'].max()\n",
    "print(f\"El valor maximo de la columna 'add_to_cart_order' es {max_value}\")\n",
    "\n",
    "min_value = order_products['add_to_cart_order'].min()\n",
    "print(f\"El valor minimimo de la columna 'add_to_cart_order' es {min_value}\")"
   ]
  },
  {
   "cell_type": "markdown",
   "id": "-Z2Ja215jW78",
   "metadata": {
    "id": "-Z2Ja215jW78"
   },
   "source": [
    "Describe brevemente cuáles son tus hallazgos: Suponiendo que en esta columna se refiera a la columna add_to_cart_order la cual contiene los valores ausentes la variación de valores en la columna 'add_to_cart_order', de 1 a 64, refleja la diversidad en los hábitos de compra de los usuarios, desde pedidos únicos hasta compras extensas y completas."
   ]
  },
  {
   "cell_type": "code",
   "execution_count": 35,
   "id": "ab9d0c2b",
   "metadata": {
    "id": "ab9d0c2b"
   },
   "outputs": [
    {
     "name": "stdout",
     "output_type": "stream",
     "text": [
      "IDs de pedidos con valores ausentes en 'add_to_cart_order':\n",
      "9310\n",
      "61355\n",
      "61355\n",
      "61355\n",
      "61355\n",
      "61355\n",
      "61355\n",
      "61355\n",
      "61355\n",
      "61355\n",
      "61355\n",
      "61355\n",
      "61355\n",
      "61355\n",
      "61355\n",
      "61355\n",
      "61355\n",
      "61355\n",
      "61355\n",
      "61355\n",
      "61355\n",
      "61355\n",
      "61355\n",
      "61355\n",
      "61355\n",
      "61355\n",
      "61355\n",
      "61355\n",
      "61355\n",
      "61355\n",
      "61355\n",
      "61355\n",
      "61355\n",
      "61355\n",
      "61355\n",
      "61355\n",
      "61355\n",
      "61355\n",
      "61355\n",
      "61355\n",
      "61355\n",
      "61355\n",
      "61355\n",
      "61355\n",
      "61355\n",
      "61355\n",
      "61355\n",
      "61355\n",
      "61355\n",
      "61355\n",
      "61355\n",
      "61355\n",
      "61355\n",
      "61355\n",
      "61355\n",
      "61355\n",
      "61355\n",
      "61355\n",
      "61355\n",
      "61355\n",
      "61355\n",
      "61355\n",
      "61355\n",
      "61355\n",
      "102236\n",
      "102236\n",
      "102236\n",
      "102236\n",
      "102236\n",
      "102236\n",
      "102236\n",
      "102236\n",
      "102236\n",
      "102236\n",
      "102236\n",
      "102236\n",
      "102236\n",
      "102236\n",
      "102236\n",
      "102236\n",
      "102236\n",
      "102236\n",
      "102236\n",
      "102236\n",
      "102236\n",
      "102236\n",
      "102236\n",
      "102236\n",
      "102236\n",
      "102236\n",
      "102236\n",
      "102236\n",
      "102236\n",
      "102236\n",
      "102236\n",
      "129627\n",
      "129627\n",
      "129627\n",
      "129627\n",
      "129627\n",
      "165801\n",
      "165801\n",
      "165801\n",
      "165801\n",
      "165801\n",
      "165801\n",
      "171934\n",
      "171934\n",
      "171934\n",
      "171934\n",
      "171934\n",
      "171934\n",
      "171934\n",
      "171934\n",
      "171934\n",
      "171934\n",
      "171934\n",
      "171934\n",
      "171934\n",
      "171934\n",
      "171934\n",
      "171934\n",
      "171934\n",
      "171934\n",
      "171934\n",
      "171934\n",
      "171934\n",
      "171934\n",
      "171934\n",
      "171934\n",
      "171934\n",
      "171934\n",
      "171934\n",
      "171934\n",
      "171934\n",
      "171934\n",
      "171934\n",
      "171934\n",
      "171934\n",
      "171934\n",
      "171934\n",
      "171934\n",
      "171934\n",
      "171934\n",
      "171934\n",
      "171934\n",
      "180546\n",
      "180546\n",
      "264710\n",
      "264710\n",
      "264710\n",
      "264710\n",
      "264710\n",
      "264710\n",
      "264710\n",
      "264710\n",
      "264710\n",
      "264710\n",
      "264710\n",
      "264710\n",
      "264710\n",
      "264710\n",
      "264710\n",
      "264710\n",
      "264710\n",
      "264710\n",
      "264710\n",
      "264710\n",
      "264710\n",
      "264710\n",
      "264710\n",
      "264710\n",
      "264710\n",
      "264710\n",
      "264710\n",
      "293169\n",
      "293169\n",
      "293169\n",
      "293169\n",
      "293169\n",
      "293169\n",
      "293169\n",
      "293169\n",
      "293169\n",
      "293169\n",
      "293169\n",
      "293169\n",
      "293169\n",
      "388234\n",
      "388234\n",
      "388234\n",
      "388234\n",
      "388234\n",
      "388234\n",
      "404157\n",
      "404157\n",
      "404157\n",
      "404157\n",
      "404157\n",
      "404157\n",
      "404157\n",
      "404157\n",
      "404157\n",
      "404157\n",
      "404157\n",
      "404157\n",
      "678116\n",
      "678116\n",
      "678116\n",
      "678116\n",
      "678116\n",
      "678116\n",
      "733526\n",
      "733526\n",
      "733526\n",
      "733526\n",
      "733526\n",
      "747668\n",
      "813364\n",
      "813364\n",
      "813364\n",
      "813364\n",
      "813364\n",
      "813364\n",
      "813364\n",
      "813364\n",
      "813364\n",
      "813364\n",
      "813364\n",
      "813364\n",
      "813364\n",
      "813364\n",
      "813364\n",
      "813364\n",
      "813364\n",
      "813364\n",
      "813364\n",
      "813364\n",
      "813364\n",
      "844733\n",
      "844733\n",
      "844733\n",
      "844733\n",
      "844733\n",
      "844733\n",
      "844733\n",
      "844733\n",
      "844733\n",
      "844733\n",
      "844733\n",
      "844733\n",
      "844733\n",
      "854647\n",
      "854647\n",
      "854647\n",
      "871281\n",
      "871281\n",
      "871281\n",
      "871281\n",
      "871281\n",
      "871281\n",
      "871281\n",
      "871281\n",
      "871281\n",
      "871281\n",
      "888470\n",
      "903110\n",
      "903110\n",
      "903110\n",
      "903110\n",
      "903110\n",
      "903110\n",
      "903110\n",
      "903110\n",
      "903110\n",
      "903110\n",
      "936852\n",
      "936852\n",
      "936852\n",
      "936852\n",
      "936852\n",
      "936852\n",
      "936852\n",
      "936852\n",
      "936852\n",
      "936852\n",
      "936852\n",
      "936852\n",
      "936852\n",
      "936852\n",
      "936852\n",
      "936852\n",
      "936852\n",
      "936852\n",
      "936852\n",
      "936852\n",
      "936852\n",
      "936852\n",
      "936852\n",
      "1021563\n",
      "1021563\n",
      "1021563\n",
      "1021563\n",
      "1021563\n",
      "1021563\n",
      "1021563\n",
      "1021563\n",
      "1021563\n",
      "1038146\n",
      "1038146\n",
      "1038146\n",
      "1038146\n",
      "1038146\n",
      "1038146\n",
      "1169835\n",
      "1169835\n",
      "1169835\n",
      "1169835\n",
      "1169835\n",
      "1183255\n",
      "1183255\n",
      "1183255\n",
      "1183255\n",
      "1183255\n",
      "1183255\n",
      "1183255\n",
      "1183255\n",
      "1183255\n",
      "1183255\n",
      "1183255\n",
      "1220886\n",
      "1220886\n",
      "1220886\n",
      "1220886\n",
      "1220886\n",
      "1220886\n",
      "1220886\n",
      "1220886\n",
      "1302315\n",
      "1302315\n",
      "1302315\n",
      "1308785\n",
      "1308785\n",
      "1386261\n",
      "1386261\n",
      "1386261\n",
      "1386261\n",
      "1386261\n",
      "1386261\n",
      "1386261\n",
      "1386261\n",
      "1386261\n",
      "1386261\n",
      "1386261\n",
      "1386261\n",
      "1386261\n",
      "1386261\n",
      "1386261\n",
      "1386261\n",
      "1386261\n",
      "1386261\n",
      "1386261\n",
      "1386261\n",
      "1386261\n",
      "1386261\n",
      "1386261\n",
      "1386261\n",
      "1386261\n",
      "1386261\n",
      "1386261\n",
      "1477139\n",
      "1477139\n",
      "1477139\n",
      "1477139\n",
      "1529171\n",
      "1529171\n",
      "1564093\n",
      "1564093\n",
      "1564093\n",
      "1564093\n",
      "1564093\n",
      "1598369\n",
      "1625713\n",
      "1625713\n",
      "1633337\n",
      "1633337\n",
      "1633337\n",
      "1648217\n",
      "1648217\n",
      "1648217\n",
      "1648217\n",
      "1648217\n",
      "1648217\n",
      "1673227\n",
      "1673227\n",
      "1673227\n",
      "1673227\n",
      "1673227\n",
      "1673227\n",
      "1673227\n",
      "1673227\n",
      "1673227\n",
      "1673227\n",
      "1673227\n",
      "1673227\n",
      "1673227\n",
      "1673227\n",
      "1677118\n",
      "1713430\n",
      "1713430\n",
      "1713430\n",
      "1717990\n",
      "1717990\n",
      "1717990\n",
      "1717990\n",
      "1717990\n",
      "1717990\n",
      "1717990\n",
      "1717990\n",
      "1717990\n",
      "1717990\n",
      "1717990\n",
      "1717990\n",
      "1717990\n",
      "1717990\n",
      "1717990\n",
      "1717990\n",
      "1717990\n",
      "1717990\n",
      "1717990\n",
      "1717990\n",
      "1717990\n",
      "1717990\n",
      "1730767\n",
      "1730767\n",
      "1730767\n",
      "1730767\n",
      "1730767\n",
      "1730767\n",
      "1730767\n",
      "1730767\n",
      "1730767\n",
      "1730767\n",
      "1730767\n",
      "1730767\n",
      "1730767\n",
      "1730767\n",
      "1730767\n",
      "1730767\n",
      "1730767\n",
      "1730767\n",
      "1730767\n",
      "1730767\n",
      "1730767\n",
      "1730767\n",
      "1730767\n",
      "1730767\n",
      "1730767\n",
      "1730767\n",
      "1730767\n",
      "1730767\n",
      "1730767\n",
      "1730767\n",
      "1730767\n",
      "1800005\n",
      "1800005\n",
      "1800005\n",
      "1800005\n",
      "1800005\n",
      "1800005\n",
      "1800005\n",
      "1800005\n",
      "1800005\n",
      "1800005\n",
      "1800005\n",
      "1800005\n",
      "1800005\n",
      "1800005\n",
      "1800005\n",
      "1800005\n",
      "1800005\n",
      "1800005\n",
      "1800005\n",
      "1800005\n",
      "1800005\n",
      "1800005\n",
      "1800005\n",
      "1800005\n",
      "1800005\n",
      "1800005\n",
      "1800005\n",
      "1800005\n",
      "1832957\n",
      "1832957\n",
      "1832957\n",
      "1832957\n",
      "1832957\n",
      "1832957\n",
      "1832957\n",
      "1832957\n",
      "1832957\n",
      "1832957\n",
      "1832957\n",
      "1832957\n",
      "1832957\n",
      "1832957\n",
      "1888628\n",
      "1888628\n",
      "1888628\n",
      "1888628\n",
      "1888628\n",
      "1888628\n",
      "1888628\n",
      "1888628\n",
      "1888628\n",
      "1888628\n",
      "1916118\n",
      "1916118\n",
      "1916118\n",
      "1959075\n",
      "1959075\n",
      "1959075\n",
      "1959075\n",
      "1959075\n",
      "1959075\n",
      "1959075\n",
      "1959075\n",
      "1959075\n",
      "1959075\n",
      "1959075\n",
      "1959075\n",
      "1959075\n",
      "1959075\n",
      "1959075\n",
      "1959075\n",
      "1959075\n",
      "1959075\n",
      "1959075\n",
      "1959075\n",
      "1959075\n",
      "1959075\n",
      "1959075\n",
      "1959075\n",
      "1959075\n",
      "1959075\n",
      "1959075\n",
      "1959075\n",
      "1959075\n",
      "1959075\n",
      "1959075\n",
      "1959075\n",
      "1959075\n",
      "1959075\n",
      "1961723\n",
      "1961723\n",
      "1961723\n",
      "1961723\n",
      "1961723\n",
      "1961723\n",
      "1961723\n",
      "1961723\n",
      "1961723\n",
      "1968313\n",
      "1968313\n",
      "1968313\n",
      "1968313\n",
      "1968313\n",
      "1968313\n",
      "1968313\n",
      "1968313\n",
      "1968313\n",
      "1968313\n",
      "1968313\n",
      "1968313\n",
      "1968313\n",
      "1968313\n",
      "1968313\n",
      "1968313\n",
      "2094761\n",
      "2094761\n",
      "2094761\n",
      "2094761\n",
      "2094761\n",
      "2094761\n",
      "2094761\n",
      "2094761\n",
      "2094761\n",
      "2136777\n",
      "2136777\n",
      "2136777\n",
      "2136777\n",
      "2136777\n",
      "2136777\n",
      "2136777\n",
      "2136777\n",
      "2136777\n",
      "2136777\n",
      "2136777\n",
      "2136777\n",
      "2136777\n",
      "2136777\n",
      "2136777\n",
      "2136777\n",
      "2136777\n",
      "2136777\n",
      "2136777\n",
      "2136777\n",
      "2136777\n",
      "2136777\n",
      "2136777\n",
      "2136777\n",
      "2136777\n",
      "2136777\n",
      "2136777\n",
      "2136777\n",
      "2136777\n",
      "2136777\n",
      "2136777\n",
      "2136777\n",
      "2136777\n",
      "2136777\n",
      "2136777\n",
      "2136777\n",
      "2136777\n",
      "2136777\n",
      "2136777\n",
      "2136777\n",
      "2136777\n",
      "2136777\n",
      "2136777\n",
      "2136777\n",
      "2170451\n",
      "2256933\n",
      "2256933\n",
      "2256933\n",
      "2256933\n",
      "2256933\n",
      "2256933\n",
      "2256933\n",
      "2409109\n",
      "2409109\n",
      "2409109\n",
      "2409109\n",
      "2409109\n",
      "2449164\n",
      "2449164\n",
      "2449164\n",
      "2449164\n",
      "2449164\n",
      "2449164\n",
      "2449164\n",
      "2449164\n",
      "2449164\n",
      "2449164\n",
      "2449164\n",
      "2449164\n",
      "2470674\n",
      "2470674\n",
      "2470674\n",
      "2470674\n",
      "2470674\n",
      "2470674\n",
      "2470674\n",
      "2479011\n",
      "2479011\n",
      "2479011\n",
      "2479011\n",
      "2479011\n",
      "2479011\n",
      "2479011\n",
      "2479011\n",
      "2479011\n",
      "2621907\n",
      "2625444\n",
      "2625444\n",
      "2625444\n",
      "2652650\n",
      "2721963\n",
      "2721963\n",
      "2721963\n",
      "2721963\n",
      "2721963\n",
      "2721963\n",
      "2721963\n",
      "2721963\n",
      "2721963\n",
      "2721963\n",
      "2721963\n",
      "2721963\n",
      "2721963\n",
      "2721963\n",
      "2721963\n",
      "2721963\n",
      "2721963\n",
      "2721963\n",
      "2721963\n",
      "2721963\n",
      "2721963\n",
      "2721963\n",
      "2729254\n",
      "2849370\n",
      "2849370\n",
      "2849370\n",
      "2849370\n",
      "2849370\n",
      "2849370\n",
      "2849370\n",
      "2849370\n",
      "2849370\n",
      "2849370\n",
      "2849370\n",
      "2926893\n",
      "2926893\n",
      "2926893\n",
      "2926893\n",
      "2926893\n",
      "2926893\n",
      "2926893\n",
      "2926893\n",
      "2926893\n",
      "2926893\n",
      "2926893\n",
      "2926893\n",
      "2926893\n",
      "2926893\n",
      "2926893\n",
      "2926893\n",
      "2926893\n",
      "2926893\n",
      "2926893\n",
      "2926893\n",
      "2926893\n",
      "2926893\n",
      "2926893\n",
      "2926893\n",
      "2926893\n",
      "2926893\n",
      "2926893\n",
      "2926893\n",
      "2979697\n",
      "2979697\n",
      "2997021\n",
      "2997021\n",
      "2997021\n",
      "2997021\n",
      "2999801\n",
      "2999801\n",
      "2999801\n",
      "2999801\n",
      "2999801\n",
      "2999801\n",
      "3125735\n",
      "3125735\n",
      "3125735\n",
      "3125735\n",
      "3125735\n",
      "3125735\n",
      "3125735\n",
      "3125735\n",
      "3125735\n",
      "3125735\n",
      "3125735\n",
      "3125735\n",
      "3125735\n",
      "3125735\n",
      "3125735\n",
      "3125735\n",
      "3125735\n",
      "3125735\n",
      "3125735\n",
      "3125735\n",
      "3125735\n",
      "3125735\n",
      "3308010\n",
      "3308010\n",
      "3308010\n",
      "3308010\n",
      "3308010\n",
      "3308010\n",
      "3308010\n",
      "3308010\n",
      "3308010\n",
      "3308010\n",
      "3308010\n",
      "3308010\n",
      "3308010\n",
      "3308010\n",
      "3308010\n",
      "3308010\n",
      "3308010\n",
      "3308010\n",
      "3308010\n",
      "3308010\n",
      "3308010\n",
      "3308010\n",
      "3308010\n",
      "3308010\n",
      "3308010\n",
      "3308010\n",
      "3308010\n",
      "3308010\n",
      "3308010\n",
      "3308010\n",
      "3308010\n",
      "3308010\n",
      "3308010\n",
      "3308010\n",
      "3308010\n",
      "3308010\n",
      "3308010\n",
      "3308010\n",
      "3308010\n",
      "3308010\n",
      "3308010\n",
      "3308010\n",
      "3308010\n",
      "3308010\n",
      "3308010\n",
      "3308010\n",
      "3308010\n",
      "3308010\n",
      "3308010\n",
      "3308010\n",
      "3308010\n",
      "3347453\n",
      "3347453\n",
      "3347453\n",
      "3347453\n",
      "3347453\n",
      "3347453\n",
      "3347453\n",
      "3383594\n",
      "3383594\n",
      "3383594\n",
      "3383594\n",
      "3383594\n"
     ]
    }
   ],
   "source": [
    "# Guarda todas las IDs de pedidos que tengan un valor ausente en 'add_to_cart_order'\n",
    "\n",
    "orders_with_missing_values = sorted(order_products.loc[order_products['add_to_cart_order'].isna(), 'order_id'])\n",
    "\n",
    "# Mostrar las IDs de pedidos\n",
    "print(\"IDs de pedidos con valores ausentes en 'add_to_cart_order':\")\n",
    "for order_id in orders_with_missing_values:\n",
    "    print(order_id)"
   ]
  },
  {
   "cell_type": "code",
   "execution_count": 36,
   "id": "54c31695",
   "metadata": {
    "id": "54c31695"
   },
   "outputs": [
    {
     "name": "stdout",
     "output_type": "stream",
     "text": [
      "El número mínimo de productos en pedidos con valores ausentes es: 1\n",
      "El número maximo de productos en pedidos con valores ausentes es: 95\n"
     ]
    }
   ],
   "source": [
    "# ¿Todos los pedidos con valores ausentes tienen más de 64 productos?\n",
    "# Agrupa todos los pedidos con datos ausentes por su ID de pedido.\n",
    "# Cuenta el número de 'product_id' en cada pedido y revisa el valor mínimo del conteo.\n",
    "\n",
    "# Unir orders con order_products para obtener la información completa de los pedidos\n",
    "merged_data = pd.merge(orders, order_products, on='order_id')\n",
    "\n",
    "# Identificar los pedidos que contienen valores ausentes\n",
    "# Esto puede incluir valores ausentes en cualquier columna relevante\n",
    "orders_with_missing_values = merged_data[merged_data.isnull().any(axis=1)]\n",
    "\n",
    "# Agrupar los pedidos con valores ausentes por su ID de pedido\n",
    "grouped_missing_orders = orders_with_missing_values.groupby('order_id')['product_id'].count().reset_index()\n",
    "\n",
    "# Revisar el valor mínimo del conteo de productos en los pedidos con valores ausentes\n",
    "min_product_count_in_missing_orders = grouped_missing_orders['product_id'].min()\n",
    "max_product_count_in_missing_orders = grouped_missing_orders['product_id'].max()\n",
    "\n",
    "\n",
    "print(\"El número mínimo de productos en pedidos con valores ausentes es:\", min_product_count_in_missing_orders)\n",
    "print(\"El número maximo de productos en pedidos con valores ausentes es:\", max_product_count_in_missing_orders)"
   ]
  },
  {
   "cell_type": "markdown",
   "id": "p9V6pddtjglj",
   "metadata": {
    "id": "p9V6pddtjglj"
   },
   "source": [
    "Describe brevemente cuáles son tus hallazgos: podemos ver que no todos los pedidos con valores usentes tienen mas de 64 productos ya que el valor numero encontrado es 1 por lo que ya hace nula esa suposicion de que los pedidos con valores ausentes tengan más de 64 productos"
   ]
  },
  {
   "cell_type": "code",
   "execution_count": 37,
   "id": "7a987d08",
   "metadata": {
    "id": "7a987d08"
   },
   "outputs": [
    {
     "name": "stdout",
     "output_type": "stream",
     "text": [
      "No perderemos valores por lo que se puede hacer la conversion!!\n",
      "\n",
      "   order_id  product_id  add_to_cart_order  reordered\n",
      "0   2141543       11440                 17          0\n",
      "1    567889        1560                  1          1\n",
      "2   2261212       26683                  1          1\n",
      "3    491251        8670                 35          1\n",
      "4   2571142        1940                  5          1\n"
     ]
    }
   ],
   "source": [
    "# Remplaza los valores ausentes en la columna 'add_to_cart' con 999 y convierte la columna al tipo entero.\n",
    "\n",
    "order_products['add_to_cart_order'] = order_products['add_to_cart_order'].fillna(999)\n",
    "\n",
    "convert = np.array_equal(order_products['add_to_cart_order'], order_products['add_to_cart_order'].astype('int'))\n",
    "\n",
    "if convert == True:\n",
    "    print(\"No perderemos valores por lo que se puede hacer la conversion!!\\n\")\n",
    "    # Convertir la columna 'add_to_cart_order' al tipo entero\n",
    "    order_products['add_to_cart_order'] = order_products['add_to_cart_order'].astype(int)\n",
    "    \n",
    "    # Verificar el resultado\n",
    "    print(order_products.head())\n"
   ]
  },
  {
   "cell_type": "markdown",
   "id": "fea4bcc7",
   "metadata": {
    "id": "fea4bcc7"
   },
   "source": [
    "Describe brevemente tus hallazgos y lo que hiciste con ellos."
   ]
  },
  {
   "cell_type": "markdown",
   "id": "UjrOIwTcz3ri",
   "metadata": {
    "id": "UjrOIwTcz3ri"
   },
   "source": [
    "# Paso 3. Análisis de los datos\n",
    "\n",
    "Una vez los datos estén procesados y listos, haz el siguiente análisis:"
   ]
  },
  {
   "cell_type": "markdown",
   "id": "turkish-kidney",
   "metadata": {
    "id": "turkish-kidney"
   },
   "source": [
    "# [A] Fácil (deben completarse todos para aprobar)\n",
    "\n",
    "1. Verifica que los valores en las columnas `'order_hour_of_day'` y `'order_dow'` en la tabla orders sean razonables (es decir, `'order_hour_of_day'` oscile entre 0 y 23 y `'order_dow'` oscile entre 0 y 6).\n",
    "2. Crea un gráfico que muestre el número de personas que hacen pedidos dependiendo de la hora del día.\n",
    "3. Crea un gráfico que muestre qué día de la semana la gente hace sus compras.\n",
    "4. Crea un gráfico que muestre el tiempo que la gente espera hasta hacer su siguiente pedido, y comenta sobre los valores mínimos y máximos."
   ]
  },
  {
   "cell_type": "markdown",
   "id": "short-capability",
   "metadata": {
    "id": "short-capability"
   },
   "source": [
    "### [A1] Verifica que los valores sean sensibles"
   ]
  },
  {
   "cell_type": "code",
   "execution_count": 38,
   "id": "growing-fruit",
   "metadata": {
    "id": "growing-fruit"
   },
   "outputs": [
    {
     "name": "stdout",
     "output_type": "stream",
     "text": [
      "Valores en la columna 'order_hour_of_day':\n",
      "Mínimo: 0\n",
      "Máximo: 23\n"
     ]
    }
   ],
   "source": [
    "# Verificar los valores en la columna 'order_hour_of_day'\n",
    "min_order_hour_of_day = orders['order_hour_of_day'].min()\n",
    "max_order_hour_of_day = orders['order_hour_of_day'].max()\n",
    "\n",
    "print(\"Valores en la columna 'order_hour_of_day':\")\n",
    "print(\"Mínimo:\", min_order_hour_of_day)\n",
    "print(\"Máximo:\", max_order_hour_of_day)"
   ]
  },
  {
   "cell_type": "code",
   "execution_count": 39,
   "id": "accessory-malaysia",
   "metadata": {
    "id": "accessory-malaysia"
   },
   "outputs": [
    {
     "name": "stdout",
     "output_type": "stream",
     "text": [
      "Valores en la columna 'order_dow':\n",
      "Mínimo: 0\n",
      "Máximo: 6\n"
     ]
    }
   ],
   "source": [
    "# Verificar los valores en la columna 'order_dow'\n",
    "min_order_dow = orders['order_dow'].min()\n",
    "max_order_dow = orders['order_dow'].max()\n",
    "\n",
    "print(\"Valores en la columna 'order_dow':\")\n",
    "print(\"Mínimo:\", min_order_dow)\n",
    "print(\"Máximo:\", max_order_dow)"
   ]
  },
  {
   "cell_type": "markdown",
   "id": "hmR2GNQ6lCsX",
   "metadata": {
    "id": "hmR2GNQ6lCsX"
   },
   "source": [
    "Escribe aquí tus conclusiones: los valores en las columnas 'order_hour_of_day' y 'order_dow' en la tabla orders son razonables ya que, 'order_hour_of_day' oscila entre 0 y 23 y 'order_dow' oscila entre 0 y 6 por lo que los datos son razonables"
   ]
  },
  {
   "cell_type": "markdown",
   "id": "a6743a70",
   "metadata": {
    "id": "a6743a70"
   },
   "source": [
    "### [A2] Para cada hora del día, ¿cuántas personas hacen órdenes?"
   ]
  },
  {
   "cell_type": "code",
   "execution_count": 40,
   "id": "a36cca27",
   "metadata": {
    "id": "a36cca27"
   },
   "outputs": [
    {
     "data": {
      "image/png": "[encoded data removed]",
      "text/plain": [
       "<Figure size 1000x500 with 1 Axes>"
      ]
     },
     "metadata": {},
     "output_type": "display_data"
    }
   ],
   "source": [
    "# Contar el número de pedidos para cada hora del día\n",
    "orders_per_hour = orders['order_hour_of_day'].value_counts().sort_index()\n",
    "\n",
    "# Crear el gráfico\n",
    "plt.figure(figsize=(10, 5))\n",
    "plt.plot(orders_per_hour.index, orders_per_hour.values, marker='*', linestyle='-')\n",
    "plt.title('Número de Pedidos por Hora del Día')\n",
    "plt.xlabel('Hora del Día')\n",
    "plt.ylabel('Número de Pedidos')\n",
    "plt.xticks(range(24))  # Establecer las etiquetas del eje x como horas del día (0-23)\n",
    "plt.grid(True)\n",
    "plt.show()"
   ]
  },
  {
   "cell_type": "markdown",
   "id": "11270eed",
   "metadata": {
    "id": "11270eed"
   },
   "source": [
    "Escribe aquí tus conclusiones: La representacion que tenemos nos indica que de 8:00am a 15:00pm hay una mayor cantidad de numeros de pedidos en ese momento de el dia."
   ]
  },
  {
   "cell_type": "markdown",
   "id": "documented-command",
   "metadata": {
    "id": "documented-command"
   },
   "source": [
    "### [A3] ¿Qué día de la semana compran víveres las personas?"
   ]
  },
  {
   "cell_type": "code",
   "execution_count": 41,
   "id": "chief-digit",
   "metadata": {
    "id": "chief-digit"
   },
   "outputs": [
    {
     "data": {
      "image/png": "[encoded data removed]",
      "text/plain": [
       "<Figure size 1000x600 with 1 Axes>"
      ]
     },
     "metadata": {},
     "output_type": "display_data"
    }
   ],
   "source": [
    "orders_per_dow = orders['order_dow'].value_counts().sort_index()\n",
    "\n",
    "# Crear el gráfico de barras\n",
    "plt.figure(figsize=(10, 6))\n",
    "plt.bar(orders_per_dow.index, orders_per_dow.values, color='skyblue')\n",
    "plt.title('Cantidad de Pedidos por Día de la Semana')\n",
    "plt.xlabel('Día de la Semana')\n",
    "plt.ylabel('Cantidad de Pedidos')\n",
    "plt.xticks(range(7), ['Lunes', 'Martes', 'Miércoles', 'Jueves', 'Viernes', 'Sábado', 'Domingo'])  # Etiquetas personalizadas para los días de la semana\n",
    "plt.grid(True)\n",
    "plt.show()"
   ]
  },
  {
   "cell_type": "markdown",
   "id": "dominant-lightning",
   "metadata": {
    "id": "dominant-lightning"
   },
   "source": [
    "Escribe aquí tus conclusiones: Este cuadro nos representa que los dias lunes y martes son los dias de la semana que se han registrado mayor cantidad de productos."
   ]
  },
  {
   "cell_type": "markdown",
   "id": "cutting-concert",
   "metadata": {
    "id": "cutting-concert"
   },
   "source": [
    "### [A4] ¿Cuánto tiempo esperan las personas hasta hacer otro pedido? Comenta sobre los valores mínimos y máximos."
   ]
  },
  {
   "cell_type": "code",
   "execution_count": 42,
   "id": "c231f523",
   "metadata": {
    "id": "c231f523"
   },
   "outputs": [
    {
     "data": {
      "image/png": "[encoded data removed]",
      "text/plain": [
       "<Figure size 1000x600 with 1 Axes>"
      ]
     },
     "metadata": {},
     "output_type": "display_data"
    }
   ],
   "source": [
    "days_since_prior_order = orders['days_since_prior_order'].dropna()\n",
    "\n",
    "# Crear el histograma\n",
    "plt.figure(figsize=(10, 6))\n",
    "plt.hist(days_since_prior_order, bins=30, color='skyblue', edgecolor='black')\n",
    "plt.title('Distribución de Tiempo hasta el Siguiente Pedido')\n",
    "plt.xlabel('Días Transcurridos')\n",
    "plt.ylabel('Frecuencia')\n",
    "plt.grid(True)\n",
    "plt.show()"
   ]
  },
  {
   "cell_type": "markdown",
   "id": "discrete-vertex",
   "metadata": {
    "id": "discrete-vertex"
   },
   "source": [
    "Escribe aquí tus conclusiones: La distribucion muestra una alta frecuencia de pedidos con intervalos cortos (0-10 dias), pero también una cola larga con pedidos espaciados hasta 30 dias o mas, lo que indica una variabilidad significativa en los tiempos entre pedidos."
   ]
  },
  {
   "cell_type": "markdown",
   "id": "tight-staff",
   "metadata": {
    "id": "tight-staff"
   },
   "source": [
    "# [B] Intermedio (deben completarse todos para aprobar)\n",
    "\n",
    "1. ¿Existe alguna diferencia entre las distribuciones `'order_hour_of_day'` de los miércoles y los sábados? Traza gráficos de barra de `'order_hour_of_day'` para ambos días en la misma figura y describe las diferencias que observes.\n",
    "2. Grafica la distribución para el número de órdenes que hacen los clientes (es decir, cuántos clientes hicieron solo 1 pedido, cuántos hicieron 2, cuántos 3, y así sucesivamente...).\n",
    "3. ¿Cuáles son los 20 principales productos que se piden con más frecuencia (muestra su identificación y nombre)?"
   ]
  },
  {
   "cell_type": "markdown",
   "id": "packed-classic",
   "metadata": {
    "id": "packed-classic"
   },
   "source": [
    "### [B1] Diferencia entre miércoles y sábados para  `'order_hour_of_day'`. Traza gráficos de barra para los dos días y describe las diferencias que veas."
   ]
  },
  {
   "cell_type": "code",
   "execution_count": 43,
   "id": "d89b8403",
   "metadata": {
    "id": "d89b8403"
   },
   "outputs": [
    {
     "data": {
      "image/png": "[encoded data removed]",
      "text/plain": [
       "<Figure size 1200x600 with 1 Axes>"
      ]
     },
     "metadata": {},
     "output_type": "display_data"
    }
   ],
   "source": [
    "# Filtrar los datos para obtener solo los pedidos realizados los miercoles\n",
    "orders_wednesday = orders[orders['order_dow'] == 3]\n",
    "# Contar la cantidad de pedidos por hora del día para los miercoles\n",
    "orders_per_hour_wednesday = orders_wednesday['order_hour_of_day'].value_counts().sort_index()\n",
    "\n",
    "# Crear el grafico para los pedidos realizados los miercoles\n",
    "plt.figure(figsize=(12, 6))\n",
    "plt.bar(orders_per_hour_wednesday.index, orders_per_hour_wednesday.values, color='skyblue', alpha=0.7)\n",
    "plt.title('Numero de Pedidos por Hora del Día (Miercoles)')\n",
    "plt.xlabel('Hora del Dia')\n",
    "plt.ylabel('Numero de Pedidos')\n",
    "plt.xticks(range(24))  \n",
    "plt.grid(True)\n",
    "plt.show()"
   ]
  },
  {
   "cell_type": "code",
   "execution_count": 44,
   "id": "94e54e8a",
   "metadata": {
    "id": "94e54e8a"
   },
   "outputs": [
    {
     "data": {
      "image/png": "[encoded data removed]",
      "text/plain": [
       "<Figure size 1200x600 with 1 Axes>"
      ]
     },
     "metadata": {},
     "output_type": "display_data"
    }
   ],
   "source": [
    "# Filtrar los datos para obtener solo los pedidos realizados los sabados\n",
    "orders_saturday = orders[orders['order_dow'] == 5]\n",
    "# Contar la cantidad de pedidos por hora del dia para los sabados\n",
    "orders_per_hour_saturday = orders_saturday['order_hour_of_day'].value_counts().sort_index()\n",
    "\n",
    "# Crear el grafico para los pedidos realizados los sabados\n",
    "plt.figure(figsize=(12, 6))\n",
    "plt.bar(orders_per_hour_saturday.index, orders_per_hour_saturday.values, color='salmon', alpha=0.7)\n",
    "plt.title('Numero de Pedidos por Hora del Dia (Sabado)')\n",
    "plt.xlabel('Hora del Dia')\n",
    "plt.ylabel('Numero de Pedidos')\n",
    "plt.xticks(range(24))  \n",
    "plt.grid(True)\n",
    "plt.show()"
   ]
  },
  {
   "cell_type": "code",
   "execution_count": 45,
   "id": "797c90a8",
   "metadata": {
    "id": "797c90a8"
   },
   "outputs": [
    {
     "data": {
      "image/png": "[encoded data removed]",
      "text/plain": [
       "<Figure size 1200x600 with 1 Axes>"
      ]
     },
     "metadata": {},
     "output_type": "display_data"
    }
   ],
   "source": [
    "plt.figure(figsize=(12, 6))\n",
    "\n",
    "# Grafico de barras para los pedidos realizados los miercoles\n",
    "plt.bar(orders_per_hour_wednesday.index, orders_per_hour_wednesday.values, color='black', alpha=0.7, label='Miercoles')\n",
    "\n",
    "# Grafico de barras para los pedidos realizados los sabados\n",
    "plt.bar(orders_per_hour_saturday.index, orders_per_hour_saturday.values, color='salmon', alpha=0.7, label='Sabado')\n",
    "\n",
    "# Configuración del titulo y etiquetas de los ejes\n",
    "plt.title('Numero de Pedidos por Hora del Día (Miercoles vs Sabado)')\n",
    "plt.xlabel('Hora del Dia')\n",
    "plt.ylabel('Numero de Pedidos')\n",
    "plt.xticks(range(24))  # Establecer las etiquetas del eje x como horas del día (0-23)\n",
    "plt.legend()  # Mostrar la leyenda\n",
    "\n",
    "# Mostrar el gráfico\n",
    "plt.grid(True)\n",
    "plt.show()"
   ]
  },
  {
   "cell_type": "markdown",
   "id": "charitable-congo",
   "metadata": {
    "id": "charitable-congo"
   },
   "source": [
    "Escribe aquí tus conclusiones : podemos observar al juntar las 2 graficas que los dias sabado la mayor parte de el dia hay un mayor numero de pedidos con excepcion de el horario de 18:00 a 22:00pm "
   ]
  },
  {
   "cell_type": "markdown",
   "id": "e3891143",
   "metadata": {
    "id": "e3891143"
   },
   "source": [
    "### [B2] ¿Cuál es la distribución para el número de pedidos por cliente?"
   ]
  },
  {
   "cell_type": "code",
   "execution_count": 46,
   "id": "d8c26c23",
   "metadata": {
    "id": "d8c26c23"
   },
   "outputs": [
    {
     "data": {
      "image/png": "[encoded data removed]",
      "text/plain": [
       "<Figure size 1200x600 with 1 Axes>"
      ]
     },
     "metadata": {},
     "output_type": "display_data"
    }
   ],
   "source": [
    "# Contar la cantidad de pedidos realizados por cada cliente\n",
    "orders_per_user = orders['user_id'].value_counts().sort_index()\n",
    "\n",
    "# Contar la cantidad de clientes que han realizado cada cantidad de pedidos\n",
    "orders_per_user_distribution = orders_per_user.value_counts().sort_index()\n",
    "\n",
    "# Crear el grafico de barras\n",
    "plt.figure(figsize=(12, 6))\n",
    "plt.bar(orders_per_user_distribution.index, orders_per_user_distribution.values, color='skyblue', alpha=0.7)\n",
    "\n",
    "# Configuración del titulo y etiquetas de los ejes\n",
    "plt.title('Distribucion del Numero de ordenes por Cliente')\n",
    "plt.xlabel('Numero de ordenes por Cliente')\n",
    "plt.ylabel('Numero de Clientes')\n",
    "\n",
    "plt.grid(True)\n",
    "plt.show()"
   ]
  },
  {
   "cell_type": "markdown",
   "id": "d2eff7d5",
   "metadata": {
    "id": "d2eff7d5"
   },
   "source": [
    "Escribe aquí tus conclusiones: La distribucion del numero de ordenes por cliente muestra un patron decreciente, donde la mayoria de los clientes tienen pocas ordenes (entre 0 y 5 aproximadamente)"
   ]
  },
  {
   "cell_type": "markdown",
   "id": "54a0319c",
   "metadata": {
    "id": "54a0319c"
   },
   "source": [
    "### [B3] ¿Cuáles son los 20 productos más populares (muestra su ID y nombre)?"
   ]
  },
  {
   "cell_type": "code",
   "execution_count": 47,
   "id": "exterior-arizona",
   "metadata": {
    "id": "exterior-arizona",
    "scrolled": true
   },
   "outputs": [
    {
     "name": "stdout",
     "output_type": "stream",
     "text": [
      "Los 20 principales productos que se piden con más frecuencia son:\n",
      "    product_id              product_name  Frecuencia_pedidos\n",
      "0        24852                    BANANA               66050\n",
      "1        13176    BAG OF ORGANIC BANANAS               53297\n",
      "2        21137      ORGANIC STRAWBERRIES               37039\n",
      "3        21903      ORGANIC BABY SPINACH               33971\n",
      "4        47209      ORGANIC HASS AVOCADO               29773\n",
      "5        47766           ORGANIC AVOCADO               24689\n",
      "6        47626               LARGE LEMON               21495\n",
      "7        16797              STRAWBERRIES               20018\n",
      "8        26209                     LIMES               19690\n",
      "9        27845        ORGANIC WHOLE MILK               19600\n",
      "10       27966       ORGANIC RASPBERRIES               19197\n",
      "11       22935      ORGANIC YELLOW ONION               15898\n",
      "12       24964            ORGANIC GARLIC               15292\n",
      "13       45007          ORGANIC ZUCCHINI               14584\n",
      "14       39275       ORGANIC BLUEBERRIES               13879\n",
      "15       49683            CUCUMBER KIRBY               13675\n",
      "16       28204        ORGANIC FUJI APPLE               12544\n",
      "17        5876             ORGANIC LEMON               12232\n",
      "18        8277  APPLE HONEYCRISP ORGANIC               11993\n",
      "19       40706    ORGANIC GRAPE TOMATOES               11781\n"
     ]
    }
   ],
   "source": [
    "\n",
    "# Crear una tabla dinámica para contar el número de veces que se ha pedido cada producto\n",
    "product_counts = pd.pivot_table(order_products, index='product_id', values='order_id', aggfunc='count')\n",
    "\n",
    "# Renombrar la columna resultante\n",
    "product_counts = product_counts.rename(columns={'order_id': 'Frecuencia_pedidos'})\n",
    "\n",
    "# Ordenar los resultados en orden descendente y seleccionar los 20 primeros productos\n",
    "top_20_products = product_counts.sort_values(by='Frecuencia_pedidos', ascending=False).head(20)\n",
    "\n",
    "# Unir esta información con el DataFrame products para obtener los nombres de los productos correspondientes\n",
    "top_20_products_with_names = pd.merge(top_20_products, products, how='left', on='product_id')\n",
    "\n",
    "# Mostrar los 20 principales productos con su identificación y nombre\n",
    "print(\"Los 20 principales productos que se piden con más frecuencia son:\")\n",
    "print(top_20_products_with_names[['product_id', 'product_name', 'Frecuencia_pedidos']])"
   ]
  },
  {
   "cell_type": "code",
   "execution_count": 48,
   "id": "5156fe08",
   "metadata": {},
   "outputs": [
    {
     "data": {
      "image/png": "[encoded data removed]",
      "text/plain": [
       "<Figure size 1200x800 with 1 Axes>"
      ]
     },
     "metadata": {},
     "output_type": "display_data"
    }
   ],
   "source": [
    "# Crear la gráfica de barras\n",
    "plt.figure(figsize=(12, 8))\n",
    "plt.barh(top_20_products_with_names['product_name'], top_20_products_with_names['Frecuencia_pedidos'], color='skyblue')\n",
    "plt.xlabel('Frecuencia de Pedidos')\n",
    "plt.ylabel('Nombre del Producto')\n",
    "plt.title('Top 20 Productos Más Populares en Instacart')\n",
    "plt.gca().invert_yaxis()  # Invertir el eje y para que el producto más popular esté en la parte superior\n",
    "plt.grid(True)\n",
    "plt.show()"
   ]
  },
  {
   "cell_type": "markdown",
   "id": "7df00f47",
   "metadata": {
    "id": "7df00f47"
   },
   "source": [
    "Escribe aquí tus conclusiones: Como podemos ver el product BANANA es el producto el cual se a pedido mas veces con una frecuencia de 66050 pedidos."
   ]
  },
  {
   "cell_type": "markdown",
   "id": "gross-theme",
   "metadata": {
    "id": "gross-theme"
   },
   "source": [
    "# [C] Difícil (deben completarse todos para aprobar)\n",
    "\n",
    "1. ¿Cuántos artículos suelen comprar las personas en un pedido? ¿Cómo es la distribución?\n",
    "2. ¿Cuáles son los 20 principales artículos que vuelven a pedirse con mayor frecuencia (muestra sus nombres e IDs de los productos)?\n",
    "3. Para cada producto, ¿cuál es la tasa de repetición del pedido (número de repeticiones de pedido/total de pedidos?\n",
    "4. Para cada cliente, ¿qué proporción de los productos que pidió ya los había pedido? Calcula la tasa de repetición de pedido para cada usuario en lugar de para cada producto.\n",
    "5. ¿Cuáles son los 20 principales artículos que la gente pone primero en sus carritos (muestra las IDs de los productos, sus nombres, y el número de veces en que fueron el primer artículo en añadirse al carrito)?"
   ]
  },
  {
   "cell_type": "markdown",
   "id": "romantic-deposit",
   "metadata": {
    "id": "romantic-deposit"
   },
   "source": [
    "### [C1] ¿Cuántos artículos compran normalmente las personas en un pedido? ¿Cómo es la distribución?"
   ]
  },
  {
   "cell_type": "code",
   "execution_count": 49,
   "id": "virtual-punch",
   "metadata": {
    "id": "virtual-punch"
   },
   "outputs": [
    {
     "name": "stdout",
     "output_type": "stream",
     "text": [
      "Cantidad promedio de productos por pedido: 10.098983215049127\n"
     ]
    },
    {
     "data": {
      "image/png": "[encoded data removed]",
      "text/plain": [
       "<Figure size 1000x600 with 1 Axes>"
      ]
     },
     "metadata": {},
     "output_type": "display_data"
    }
   ],
   "source": [
    "# Unir order_products con orders para obtener información sobre los productos en cada pedido\n",
    "merged_data = pd.merge(orders, order_products, on='order_id')\n",
    "\n",
    "# Contar la cantidad de productos por pedido\n",
    "products_per_order = merged_data.groupby('order_id')['product_id'].count().reset_index()\n",
    "\n",
    "# Calcular la cantidad promedio de productos por pedido\n",
    "average_products_per_order = products_per_order['product_id'].mean()\n",
    "\n",
    "print(\"Cantidad promedio de productos por pedido:\", average_products_per_order)\n",
    "\n",
    "plt.figure(figsize=(10, 6))\n",
    "plt.hist(products_per_order['product_id'], bins=100, color='skyblue', edgecolor='black')\n",
    "plt.title('Distribución de la cantidad de productos por pedido')\n",
    "plt.xlabel('Cantidad de productos por pedido')\n",
    "plt.ylabel('Frecuencia')\n",
    "plt.grid(True)\n",
    "plt.show()"
   ]
  },
  {
   "cell_type": "markdown",
   "id": "designed-mortality",
   "metadata": {
    "id": "designed-mortality"
   },
   "source": [
    "Escribe aquí tus conclusiones : Segun el grafico y el calculo sobre cantidad promedio de productos por pedido tenemos un valor de aproximadamente 10 productos por pedido en promedio"
   ]
  },
  {
   "cell_type": "markdown",
   "id": "5e6b5537",
   "metadata": {
    "id": "5e6b5537"
   },
   "source": [
    "### [C2] ¿Cuáles son los 20 principales artículos que vuelven a pedirse con mayor frecuencia (muestra sus nombres e IDs de los productos)?"
   ]
  },
  {
   "cell_type": "code",
   "execution_count": 50,
   "id": "9374e55a",
   "metadata": {
    "id": "9374e55a"
   },
   "outputs": [
    {
     "name": "stdout",
     "output_type": "stream",
     "text": [
      "Los 20 principales artículos que vuelven a pedirse con mayor frecuencia son:\n",
      "    product_id              product_name  reordered\n",
      "0        24852                    BANANA      55763\n",
      "1        13176    BAG OF ORGANIC BANANAS      44450\n",
      "2        21137      ORGANIC STRAWBERRIES      28639\n",
      "3        21903      ORGANIC BABY SPINACH      26233\n",
      "4        47209      ORGANIC HASS AVOCADO      23629\n",
      "5        47766           ORGANIC AVOCADO      18743\n",
      "6        27845        ORGANIC WHOLE MILK      16251\n",
      "7        47626               LARGE LEMON      15044\n",
      "8        27966       ORGANIC RASPBERRIES      14748\n",
      "9        16797              STRAWBERRIES      13945\n",
      "10       26209                     LIMES      13327\n",
      "11       22935      ORGANIC YELLOW ONION      11145\n",
      "12       24964            ORGANIC GARLIC      10411\n",
      "13       45007          ORGANIC ZUCCHINI      10076\n",
      "14       49683            CUCUMBER KIRBY       9538\n",
      "15       28204        ORGANIC FUJI APPLE       8989\n",
      "16        8277  APPLE HONEYCRISP ORGANIC       8836\n",
      "17       39275       ORGANIC BLUEBERRIES       8799\n",
      "18        5876             ORGANIC LEMON       8412\n",
      "19       49235       ORGANIC HALF & HALF       8389\n"
     ]
    }
   ],
   "source": [
    "# Productos que vuelven a pedirse con frecuencia\n",
    "reorder_rates = order_products.groupby('product_id')['reordered'].sum().reset_index()\n",
    "\n",
    "# Ordenar los productos por su tasa de reincidencia en orden descendente y seleccionar los 20 primeros\n",
    "top_20_reorder_products = reorder_rates.sort_values(by='reordered', ascending=False).head(20)\n",
    "\n",
    "# Unir con el DataFrame de productos para obtener los nombres de los productos\n",
    "top_20_reorder_products_with_names = pd.merge(top_20_reorder_products, products, on='product_id')\n",
    "\n",
    "print(\"Los 20 principales artículos que vuelven a pedirse con mayor frecuencia son:\")\n",
    "print(top_20_reorder_products_with_names[['product_id', 'product_name', 'reordered']])\n",
    "\n"
   ]
  },
  {
   "cell_type": "code",
   "execution_count": 51,
   "id": "883553b0",
   "metadata": {},
   "outputs": [
    {
     "data": {
      "image/png": "[encoded data removed]",
      "text/plain": [
       "<Figure size 1000x800 with 1 Axes>"
      ]
     },
     "metadata": {},
     "output_type": "display_data"
    }
   ],
   "source": [
    "#Mostrar Grafico con los 20 productos\n",
    "plt.figure(figsize = [10,8])\n",
    "plt.title('Top 20 productos que se reordenan con mayor frecuencia')\n",
    "plt.barh(top_20_reorder_products_with_names['product_name'],top_20_reorder_products_with_names['reordered'] , color = 'skyblue')\n",
    "plt.xlabel('Veces reordenado')\n",
    "plt.ylabel('Nombre del Producto')\n",
    "plt.gca().invert_yaxis()  # Invertir el eje y para que el producto más reordenado esté en la parte superior\n",
    "plt.grid(True)\n",
    "plt.show()"
   ]
  },
  {
   "cell_type": "markdown",
   "id": "80e70c74",
   "metadata": {
    "id": "80e70c74"
   },
   "source": [
    "Podemos ver que Banana es el producto el cual mas veces a sido pedido nuevamente y en la grafica podemos ver los otros 19 productos con mayor frecuencia de reorden"
   ]
  },
  {
   "cell_type": "markdown",
   "id": "9d312b14",
   "metadata": {
    "id": "9d312b14"
   },
   "source": [
    "### [C3] Para cada producto, ¿cuál es la proporción de las veces que se pide y que se vuelve a pedir?"
   ]
  },
  {
   "cell_type": "code",
   "execution_count": 52,
   "id": "8ae9f4b1",
   "metadata": {
    "id": "8ae9f4b1"
   },
   "outputs": [
    {
     "name": "stdout",
     "output_type": "stream",
     "text": [
      "Proporción de reordenamiento para cada producto:\n"
     ]
    },
    {
     "data": {
      "text/html": [
       "<div>\n",
       "<style scoped>\n",
       "    .dataframe tbody tr th:only-of-type {\n",
       "        vertical-align: middle;\n",
       "    }\n",
       "\n",
       "    .dataframe tbody tr th {\n",
       "        vertical-align: top;\n",
       "    }\n",
       "\n",
       "    .dataframe thead th {\n",
       "        text-align: right;\n",
       "    }\n",
       "</style>\n",
       "<table border=\"1\" class=\"dataframe\">\n",
       "  <thead>\n",
       "    <tr style=\"text-align: right;\">\n",
       "      <th></th>\n",
       "      <th>product_id</th>\n",
       "      <th>product_name</th>\n",
       "      <th>total_orders</th>\n",
       "      <th>total_reorders</th>\n",
       "      <th>reorder_proportion</th>\n",
       "    </tr>\n",
       "  </thead>\n",
       "  <tbody>\n",
       "    <tr>\n",
       "      <th>0</th>\n",
       "      <td>1</td>\n",
       "      <td>CHOCOLATE SANDWICH COOKIES</td>\n",
       "      <td>280</td>\n",
       "      <td>158</td>\n",
       "      <td>0.564286</td>\n",
       "    </tr>\n",
       "    <tr>\n",
       "      <th>1</th>\n",
       "      <td>2</td>\n",
       "      <td>ALL-SEASONS SALT</td>\n",
       "      <td>11</td>\n",
       "      <td>0</td>\n",
       "      <td>0.000000</td>\n",
       "    </tr>\n",
       "    <tr>\n",
       "      <th>2</th>\n",
       "      <td>3</td>\n",
       "      <td>ROBUST GOLDEN UNSWEETENED OOLONG TEA</td>\n",
       "      <td>42</td>\n",
       "      <td>31</td>\n",
       "      <td>0.738095</td>\n",
       "    </tr>\n",
       "    <tr>\n",
       "      <th>3</th>\n",
       "      <td>4</td>\n",
       "      <td>SMART ONES CLASSIC FAVORITES MINI RIGATONI WIT...</td>\n",
       "      <td>49</td>\n",
       "      <td>25</td>\n",
       "      <td>0.510204</td>\n",
       "    </tr>\n",
       "    <tr>\n",
       "      <th>4</th>\n",
       "      <td>7</td>\n",
       "      <td>PURE COCONUT WATER WITH ORANGE</td>\n",
       "      <td>2</td>\n",
       "      <td>1</td>\n",
       "      <td>0.500000</td>\n",
       "    </tr>\n",
       "    <tr>\n",
       "      <th>...</th>\n",
       "      <td>...</td>\n",
       "      <td>...</td>\n",
       "      <td>...</td>\n",
       "      <td>...</td>\n",
       "      <td>...</td>\n",
       "    </tr>\n",
       "    <tr>\n",
       "      <th>45568</th>\n",
       "      <td>49690</td>\n",
       "      <td>HIGH PERFORMANCE ENERGY DRINK</td>\n",
       "      <td>5</td>\n",
       "      <td>4</td>\n",
       "      <td>0.800000</td>\n",
       "    </tr>\n",
       "    <tr>\n",
       "      <th>45569</th>\n",
       "      <td>49691</td>\n",
       "      <td>ORIGINAL PANCAKE &amp; WAFFLE MIX</td>\n",
       "      <td>72</td>\n",
       "      <td>31</td>\n",
       "      <td>0.430556</td>\n",
       "    </tr>\n",
       "    <tr>\n",
       "      <th>45570</th>\n",
       "      <td>49692</td>\n",
       "      <td>ORGANIC INSTANT OATMEAL LIGHT MAPLE BROWN SUGAR</td>\n",
       "      <td>12</td>\n",
       "      <td>5</td>\n",
       "      <td>0.416667</td>\n",
       "    </tr>\n",
       "    <tr>\n",
       "      <th>45571</th>\n",
       "      <td>49693</td>\n",
       "      <td>SPRING WATER BODY WASH</td>\n",
       "      <td>25</td>\n",
       "      <td>11</td>\n",
       "      <td>0.440000</td>\n",
       "    </tr>\n",
       "    <tr>\n",
       "      <th>45572</th>\n",
       "      <td>49694</td>\n",
       "      <td>BURRITO- STEAK &amp; CHEESE</td>\n",
       "      <td>9</td>\n",
       "      <td>3</td>\n",
       "      <td>0.333333</td>\n",
       "    </tr>\n",
       "  </tbody>\n",
       "</table>\n",
       "<p>45573 rows × 5 columns</p>\n",
       "</div>"
      ],
      "text/plain": [
       "       product_id                                       product_name  \\\n",
       "0               1                         CHOCOLATE SANDWICH COOKIES   \n",
       "1               2                                   ALL-SEASONS SALT   \n",
       "2               3               ROBUST GOLDEN UNSWEETENED OOLONG TEA   \n",
       "3               4  SMART ONES CLASSIC FAVORITES MINI RIGATONI WIT...   \n",
       "4               7                     PURE COCONUT WATER WITH ORANGE   \n",
       "...           ...                                                ...   \n",
       "45568       49690                      HIGH PERFORMANCE ENERGY DRINK   \n",
       "45569       49691                      ORIGINAL PANCAKE & WAFFLE MIX   \n",
       "45570       49692    ORGANIC INSTANT OATMEAL LIGHT MAPLE BROWN SUGAR   \n",
       "45571       49693                             SPRING WATER BODY WASH   \n",
       "45572       49694                            BURRITO- STEAK & CHEESE   \n",
       "\n",
       "       total_orders  total_reorders  reorder_proportion  \n",
       "0               280             158            0.564286  \n",
       "1                11               0            0.000000  \n",
       "2                42              31            0.738095  \n",
       "3                49              25            0.510204  \n",
       "4                 2               1            0.500000  \n",
       "...             ...             ...                 ...  \n",
       "45568             5               4            0.800000  \n",
       "45569            72              31            0.430556  \n",
       "45570            12               5            0.416667  \n",
       "45571            25              11            0.440000  \n",
       "45572             9               3            0.333333  \n",
       "\n",
       "[45573 rows x 5 columns]"
      ]
     },
     "execution_count": 52,
     "metadata": {},
     "output_type": "execute_result"
    }
   ],
   "source": [
    "# Calcular el total de veces que cada producto se ha pedido\n",
    "total_orders = order_products.groupby('product_id').size().reset_index(name='total_orders')\n",
    "\n",
    "# Calcular el total de veces que cada producto se ha vuelto a pedir\n",
    "total_reorders = order_products.groupby('product_id')['reordered'].sum().reset_index(name='total_reorders')\n",
    "\n",
    "# Unir los DataFrames de total_orders y total_reorders\n",
    "order_reorder_counts = pd.merge(total_orders, total_reorders, on='product_id')\n",
    "\n",
    "# Calcular la proporción de las veces que se vuelve a pedir sobre el total de veces que se ha pedido para cada producto\n",
    "order_reorder_counts['reorder_proportion'] = order_reorder_counts['total_reorders'] / order_reorder_counts['total_orders']\n",
    "\n",
    "# Unir con el DataFrame de productos para obtener los nombres de los productos\n",
    "order_reorder_proportions_with_names = pd.merge(order_reorder_counts, products, on='product_id')\n",
    "\n",
    "# Mostrar el resultado\n",
    "print(\"Proporción de reordenamiento para cada producto:\")\n",
    "order_reorder_proportions_with_names[['product_id', 'product_name', 'total_orders', 'total_reorders', 'reorder_proportion']]"
   ]
  },
  {
   "cell_type": "code",
   "execution_count": 53,
   "id": "103e7fe1",
   "metadata": {
    "id": "103e7fe1"
   },
   "outputs": [
    {
     "name": "stdout",
     "output_type": "stream",
     "text": [
      "Proporcion media de todos los productos reordenados 0.38670677893645\n"
     ]
    },
    {
     "data": {
      "image/png": "[encoded data removed]",
      "text/plain": [
       "<Figure size 1000x800 with 1 Axes>"
      ]
     },
     "metadata": {},
     "output_type": "display_data"
    }
   ],
   "source": [
    "#grafico sobre la proporcion de los productos reordenados\n",
    "mean_proportion = order_reorder_proportions_with_names['reorder_proportion'].mean()\n",
    "print(f\"Proporcion media de todos los productos reordenados {mean_proportion}\")\n",
    "o = order_reorder_proportions_with_names[['product_id', 'product_name', 'total_orders', 'total_reorders', 'reorder_proportion']].head(20)\n",
    "plt.figure(figsize = [10,8])\n",
    "plt.barh(o['product_name'] , o['reorder_proportion'])\n",
    "plt.title('Proporcion de 20 productos reordenados')\n",
    "plt.xlabel('Prodporcion de los productos reordenados')\n",
    "plt.ylabel('Nombre de el producto')\n",
    "plt.show()"
   ]
  },
  {
   "cell_type": "markdown",
   "id": "I10dEIAyldcO",
   "metadata": {
    "id": "I10dEIAyldcO"
   },
   "source": [
    "Escribe aquí tus conclusiones : A partir de la grafica simplemente es darnos una idea de las proporciones de 20 productos que han sido reordenados y la media de proporcion de los productos reordenados es 0.38670677893645"
   ]
  },
  {
   "cell_type": "markdown",
   "id": "subject-boxing",
   "metadata": {
    "id": "subject-boxing"
   },
   "source": [
    "### [C4] Para cada cliente, ¿qué proporción de sus productos ya los había pedido?"
   ]
  },
  {
   "cell_type": "code",
   "execution_count": 54,
   "id": "medical-couple",
   "metadata": {
    "id": "medical-couple",
    "scrolled": true
   },
   "outputs": [
    {
     "name": "stdout",
     "output_type": "stream",
     "text": [
      "Proporción de productos reordenados para cada cliente:\n"
     ]
    },
    {
     "data": {
      "text/html": [
       "<div>\n",
       "<style scoped>\n",
       "    .dataframe tbody tr th:only-of-type {\n",
       "        vertical-align: middle;\n",
       "    }\n",
       "\n",
       "    .dataframe tbody tr th {\n",
       "        vertical-align: top;\n",
       "    }\n",
       "\n",
       "    .dataframe thead th {\n",
       "        text-align: right;\n",
       "    }\n",
       "</style>\n",
       "<table border=\"1\" class=\"dataframe\">\n",
       "  <thead>\n",
       "    <tr style=\"text-align: right;\">\n",
       "      <th></th>\n",
       "      <th>user_id</th>\n",
       "      <th>reorder_proportion</th>\n",
       "    </tr>\n",
       "  </thead>\n",
       "  <tbody>\n",
       "    <tr>\n",
       "      <th>68493</th>\n",
       "      <td>106148</td>\n",
       "      <td>0.014925</td>\n",
       "    </tr>\n",
       "    <tr>\n",
       "      <th>130092</th>\n",
       "      <td>201663</td>\n",
       "      <td>0.015152</td>\n",
       "    </tr>\n",
       "    <tr>\n",
       "      <th>100199</th>\n",
       "      <td>155522</td>\n",
       "      <td>0.017241</td>\n",
       "    </tr>\n",
       "    <tr>\n",
       "      <th>37089</th>\n",
       "      <td>57630</td>\n",
       "      <td>0.017544</td>\n",
       "    </tr>\n",
       "    <tr>\n",
       "      <th>4778</th>\n",
       "      <td>7349</td>\n",
       "      <td>0.018182</td>\n",
       "    </tr>\n",
       "    <tr>\n",
       "      <th>...</th>\n",
       "      <td>...</td>\n",
       "      <td>...</td>\n",
       "    </tr>\n",
       "    <tr>\n",
       "      <th>75056</th>\n",
       "      <td>116344</td>\n",
       "      <td>1.000000</td>\n",
       "    </tr>\n",
       "    <tr>\n",
       "      <th>118491</th>\n",
       "      <td>183769</td>\n",
       "      <td>1.000000</td>\n",
       "    </tr>\n",
       "    <tr>\n",
       "      <th>75050</th>\n",
       "      <td>116337</td>\n",
       "      <td>1.000000</td>\n",
       "    </tr>\n",
       "    <tr>\n",
       "      <th>2906</th>\n",
       "      <td>4473</td>\n",
       "      <td>1.000000</td>\n",
       "    </tr>\n",
       "    <tr>\n",
       "      <th>11842</th>\n",
       "      <td>18308</td>\n",
       "      <td>1.000000</td>\n",
       "    </tr>\n",
       "  </tbody>\n",
       "</table>\n",
       "<p>132991 rows × 2 columns</p>\n",
       "</div>"
      ],
      "text/plain": [
       "        user_id  reorder_proportion\n",
       "68493    106148            0.014925\n",
       "130092   201663            0.015152\n",
       "100199   155522            0.017241\n",
       "37089     57630            0.017544\n",
       "4778       7349            0.018182\n",
       "...         ...                 ...\n",
       "75056    116344            1.000000\n",
       "118491   183769            1.000000\n",
       "75050    116337            1.000000\n",
       "2906       4473            1.000000\n",
       "11842     18308            1.000000\n",
       "\n",
       "[132991 rows x 2 columns]"
      ]
     },
     "execution_count": 54,
     "metadata": {},
     "output_type": "execute_result"
    }
   ],
   "source": [
    "# Calcular el número total de productos únicos que cada cliente ha pedido\n",
    "total_products_per_user = order_products.groupby('order_id')['product_id'].nunique().reset_index(name='total_products_per_order')\n",
    "total_products_per_user = pd.merge(orders[['order_id', 'user_id']], total_products_per_user, on='order_id')\n",
    "total_products_per_user = total_products_per_user.groupby('user_id')['total_products_per_order'].sum().reset_index()\n",
    "\n",
    "# Calcular el número total de productos reordenados que cada cliente ha pedido\n",
    "total_reordered_per_user = order_products.groupby(['order_id', 'reordered'])['product_id'].nunique().reset_index(name='total_reorders_per_order')\n",
    "total_reordered_per_user = total_reordered_per_user[total_reordered_per_user['reordered'] == 1]\n",
    "total_reordered_per_user = pd.merge(orders[['order_id', 'user_id']], total_reordered_per_user, on='order_id')\n",
    "total_reordered_per_user = total_reordered_per_user.groupby('user_id')['total_reorders_per_order'].sum()\n",
    "\n",
    "# Unir los DataFrames y calcular la proporción de productos reordenados sobre el total de productos únicos para cada cliente\n",
    "user_reorder_proportions = pd.merge(total_products_per_user, total_reordered_per_user, on='user_id')\n",
    "user_reorder_proportions['reorder_proportion'] = user_reorder_proportions['total_reorders_per_order'] / user_reorder_proportions['total_products_per_order']\n",
    "\n",
    "# Ordenar el DataFrame por la columna 'reorder_proportion' de menor a mayor\n",
    "user_reorder_proportions_sorted = user_reorder_proportions.sort_values(by='reorder_proportion')\n",
    "\n",
    "# Mostrar el resultado\n",
    "print(\"Proporción de productos reordenados para cada cliente:\")\n",
    "user_reorder_proportions_sorted[['user_id', 'reorder_proportion']]"
   ]
  },
  {
   "cell_type": "markdown",
   "id": "BgJSvXDsleXz",
   "metadata": {
    "id": "BgJSvXDsleXz"
   },
   "source": [
    "Escribe aquí tus conclusiones: Podemos observar en la tabla resultante que para cada cliente, la proporción de los productos que ya había pedido va desde 0.0149 hasta 1 de tener los nombres de los usuarios se podria proporcionar una grafica la cual te muestre las proporciones de manera grafica"
   ]
  },
  {
   "cell_type": "markdown",
   "id": "92d35137",
   "metadata": {
    "id": "92d35137"
   },
   "source": [
    "### [C5] ¿Cuáles son los 20 principales artículos que las personas ponen primero en sus carritos?"
   ]
  },
  {
   "cell_type": "code",
   "execution_count": 55,
   "id": "0ae57274",
   "metadata": {
    "id": "0ae57274",
    "scrolled": true
   },
   "outputs": [
    {
     "name": "stdout",
     "output_type": "stream",
     "text": [
      "Los 20 principales artículos que se añaden primero al carrito son:\n"
     ]
    },
    {
     "data": {
      "text/html": [
       "<div>\n",
       "<style scoped>\n",
       "    .dataframe tbody tr th:only-of-type {\n",
       "        vertical-align: middle;\n",
       "    }\n",
       "\n",
       "    .dataframe tbody tr th {\n",
       "        vertical-align: top;\n",
       "    }\n",
       "\n",
       "    .dataframe thead th {\n",
       "        text-align: right;\n",
       "    }\n",
       "</style>\n",
       "<table border=\"1\" class=\"dataframe\">\n",
       "  <thead>\n",
       "    <tr style=\"text-align: right;\">\n",
       "      <th></th>\n",
       "      <th>product_id</th>\n",
       "      <th>product_name</th>\n",
       "      <th>count</th>\n",
       "    </tr>\n",
       "  </thead>\n",
       "  <tbody>\n",
       "    <tr>\n",
       "      <th>0</th>\n",
       "      <td>24852</td>\n",
       "      <td>BANANA</td>\n",
       "      <td>15562</td>\n",
       "    </tr>\n",
       "    <tr>\n",
       "      <th>1</th>\n",
       "      <td>13176</td>\n",
       "      <td>BAG OF ORGANIC BANANAS</td>\n",
       "      <td>11026</td>\n",
       "    </tr>\n",
       "    <tr>\n",
       "      <th>2</th>\n",
       "      <td>27845</td>\n",
       "      <td>ORGANIC WHOLE MILK</td>\n",
       "      <td>4363</td>\n",
       "    </tr>\n",
       "    <tr>\n",
       "      <th>3</th>\n",
       "      <td>21137</td>\n",
       "      <td>ORGANIC STRAWBERRIES</td>\n",
       "      <td>3946</td>\n",
       "    </tr>\n",
       "    <tr>\n",
       "      <th>4</th>\n",
       "      <td>47209</td>\n",
       "      <td>ORGANIC HASS AVOCADO</td>\n",
       "      <td>3390</td>\n",
       "    </tr>\n",
       "    <tr>\n",
       "      <th>5</th>\n",
       "      <td>21903</td>\n",
       "      <td>ORGANIC BABY SPINACH</td>\n",
       "      <td>3336</td>\n",
       "    </tr>\n",
       "    <tr>\n",
       "      <th>6</th>\n",
       "      <td>47766</td>\n",
       "      <td>ORGANIC AVOCADO</td>\n",
       "      <td>3044</td>\n",
       "    </tr>\n",
       "    <tr>\n",
       "      <th>7</th>\n",
       "      <td>19660</td>\n",
       "      <td>SPRING WATER</td>\n",
       "      <td>2336</td>\n",
       "    </tr>\n",
       "    <tr>\n",
       "      <th>8</th>\n",
       "      <td>16797</td>\n",
       "      <td>STRAWBERRIES</td>\n",
       "      <td>2308</td>\n",
       "    </tr>\n",
       "    <tr>\n",
       "      <th>9</th>\n",
       "      <td>27966</td>\n",
       "      <td>ORGANIC RASPBERRIES</td>\n",
       "      <td>2024</td>\n",
       "    </tr>\n",
       "    <tr>\n",
       "      <th>10</th>\n",
       "      <td>44632</td>\n",
       "      <td>SPARKLING WATER GRAPEFRUIT</td>\n",
       "      <td>1914</td>\n",
       "    </tr>\n",
       "    <tr>\n",
       "      <th>11</th>\n",
       "      <td>49235</td>\n",
       "      <td>ORGANIC HALF &amp; HALF</td>\n",
       "      <td>1797</td>\n",
       "    </tr>\n",
       "    <tr>\n",
       "      <th>12</th>\n",
       "      <td>47626</td>\n",
       "      <td>LARGE LEMON</td>\n",
       "      <td>1737</td>\n",
       "    </tr>\n",
       "    <tr>\n",
       "      <th>13</th>\n",
       "      <td>196</td>\n",
       "      <td>SODA</td>\n",
       "      <td>1733</td>\n",
       "    </tr>\n",
       "    <tr>\n",
       "      <th>14</th>\n",
       "      <td>38689</td>\n",
       "      <td>ORGANIC REDUCED FAT MILK</td>\n",
       "      <td>1397</td>\n",
       "    </tr>\n",
       "    <tr>\n",
       "      <th>15</th>\n",
       "      <td>26209</td>\n",
       "      <td>LIMES</td>\n",
       "      <td>1370</td>\n",
       "    </tr>\n",
       "    <tr>\n",
       "      <th>16</th>\n",
       "      <td>12341</td>\n",
       "      <td>HASS AVOCADOS</td>\n",
       "      <td>1340</td>\n",
       "    </tr>\n",
       "    <tr>\n",
       "      <th>17</th>\n",
       "      <td>5785</td>\n",
       "      <td>ORGANIC REDUCED FAT 2% MILK</td>\n",
       "      <td>1310</td>\n",
       "    </tr>\n",
       "    <tr>\n",
       "      <th>18</th>\n",
       "      <td>27086</td>\n",
       "      <td>HALF &amp; HALF</td>\n",
       "      <td>1309</td>\n",
       "    </tr>\n",
       "    <tr>\n",
       "      <th>19</th>\n",
       "      <td>43352</td>\n",
       "      <td>RASPBERRIES</td>\n",
       "      <td>1246</td>\n",
       "    </tr>\n",
       "  </tbody>\n",
       "</table>\n",
       "</div>"
      ],
      "text/plain": [
       "    product_id                 product_name  count\n",
       "0        24852                       BANANA  15562\n",
       "1        13176       BAG OF ORGANIC BANANAS  11026\n",
       "2        27845           ORGANIC WHOLE MILK   4363\n",
       "3        21137         ORGANIC STRAWBERRIES   3946\n",
       "4        47209         ORGANIC HASS AVOCADO   3390\n",
       "5        21903         ORGANIC BABY SPINACH   3336\n",
       "6        47766              ORGANIC AVOCADO   3044\n",
       "7        19660                 SPRING WATER   2336\n",
       "8        16797                 STRAWBERRIES   2308\n",
       "9        27966          ORGANIC RASPBERRIES   2024\n",
       "10       44632   SPARKLING WATER GRAPEFRUIT   1914\n",
       "11       49235          ORGANIC HALF & HALF   1797\n",
       "12       47626                  LARGE LEMON   1737\n",
       "13         196                         SODA   1733\n",
       "14       38689     ORGANIC REDUCED FAT MILK   1397\n",
       "15       26209                        LIMES   1370\n",
       "16       12341                HASS AVOCADOS   1340\n",
       "17        5785  ORGANIC REDUCED FAT 2% MILK   1310\n",
       "18       27086                  HALF & HALF   1309\n",
       "19       43352                  RASPBERRIES   1246"
      ]
     },
     "execution_count": 55,
     "metadata": {},
     "output_type": "execute_result"
    }
   ],
   "source": [
    "# Calcular la cantidad de veces que cada producto se añade primero al carrito\n",
    "first_added_counts = order_products[order_products['add_to_cart_order'] == 1]['product_id'].value_counts().reset_index()\n",
    "first_added_counts.columns = ['product_id', 'count']\n",
    "\n",
    "# Unir con el DataFrame de productos para obtener los nombres de los productos\n",
    "top_20_first_added = pd.merge(first_added_counts.head(20), products, on='product_id')\n",
    "\n",
    "# Mostrar los 20 principales artículos que se añaden primero al carrito\n",
    "print(\"Los 20 principales artículos que se añaden primero al carrito son:\")\n",
    "top_20_first_added[['product_id', 'product_name', 'count']]"
   ]
  }
 ],
 "metadata": {
  "ExecuteTimeLog": [
   {
    "duration": 4,
    "start_time": "2024-05-22T17:24:11.533Z"
   },
   {
    "duration": 1505,
    "start_time": "2024-05-22T17:24:18.153Z"
   },
   {
    "duration": 16,
    "start_time": "2024-05-22T17:24:57.976Z"
   },
   {
    "duration": 15,
    "start_time": "2024-05-22T17:24:59.044Z"
   },
   {
    "duration": 12,
    "start_time": "2024-05-22T17:25:01.383Z"
   },
   {
    "duration": 19,
    "start_time": "2024-05-22T17:25:02.129Z"
   },
   {
    "duration": 13,
    "start_time": "2024-05-22T17:25:06.630Z"
   },
   {
    "duration": 67,
    "start_time": "2024-05-22T17:30:36.297Z"
   },
   {
    "duration": 18,
    "start_time": "2024-05-22T17:30:53.676Z"
   },
   {
    "duration": 161,
    "start_time": "2024-05-22T17:31:12.424Z"
   },
   {
    "duration": 147,
    "start_time": "2024-05-22T17:31:26.960Z"
   },
   {
    "duration": 15,
    "start_time": "2024-05-22T17:31:33.030Z"
   },
   {
    "duration": 6,
    "start_time": "2024-05-22T17:31:47.824Z"
   },
   {
    "duration": 23,
    "start_time": "2024-05-22T17:32:16.644Z"
   },
   {
    "duration": 21,
    "start_time": "2024-05-22T17:32:21.573Z"
   },
   {
    "duration": 32,
    "start_time": "2024-05-22T17:32:42.987Z"
   },
   {
    "duration": 25,
    "start_time": "2024-05-22T17:33:10.015Z"
   },
   {
    "duration": 23,
    "start_time": "2024-05-22T17:33:22.242Z"
   },
   {
    "duration": 21,
    "start_time": "2024-05-22T17:34:12.967Z"
   },
   {
    "duration": 24,
    "start_time": "2024-05-22T17:35:24.256Z"
   },
   {
    "duration": 657,
    "start_time": "2024-05-22T17:35:40.460Z"
   },
   {
    "duration": 1595,
    "start_time": "2024-05-22T17:35:41.669Z"
   },
   {
    "duration": 18,
    "start_time": "2024-05-22T17:35:43.441Z"
   },
   {
    "duration": 17,
    "start_time": "2024-05-22T17:35:44.025Z"
   },
   {
    "duration": 12,
    "start_time": "2024-05-22T17:35:44.424Z"
   },
   {
    "duration": 13,
    "start_time": "2024-05-22T17:35:44.825Z"
   },
   {
    "duration": 15,
    "start_time": "2024-05-22T17:35:46.278Z"
   },
   {
    "duration": 49,
    "start_time": "2024-05-22T17:35:52.638Z"
   },
   {
    "duration": 45,
    "start_time": "2024-05-22T17:36:02.656Z"
   },
   {
    "duration": 38,
    "start_time": "2024-05-22T17:36:07.829Z"
   },
   {
    "duration": 426,
    "start_time": "2024-05-22T17:37:05.738Z"
   },
   {
    "duration": 92,
    "start_time": "2024-05-22T17:37:16.730Z"
   },
   {
    "duration": 12,
    "start_time": "2024-05-22T17:37:24.588Z"
   },
   {
    "duration": 10,
    "start_time": "2024-05-22T17:37:39.029Z"
   },
   {
    "duration": 10,
    "start_time": "2024-05-22T17:37:53.980Z"
   },
   {
    "duration": 702,
    "start_time": "2024-05-22T17:38:10.728Z"
   },
   {
    "duration": 1584,
    "start_time": "2024-05-22T17:38:11.434Z"
   },
   {
    "duration": 25,
    "start_time": "2024-05-22T17:38:13.020Z"
   },
   {
    "duration": 16,
    "start_time": "2024-05-22T17:38:13.050Z"
   },
   {
    "duration": 14,
    "start_time": "2024-05-22T17:38:13.069Z"
   },
   {
    "duration": 54,
    "start_time": "2024-05-22T17:38:13.086Z"
   },
   {
    "duration": 14,
    "start_time": "2024-05-22T17:38:13.143Z"
   },
   {
    "duration": 44,
    "start_time": "2024-05-22T17:38:14.944Z"
   },
   {
    "duration": 40,
    "start_time": "2024-05-22T17:43:29.695Z"
   },
   {
    "duration": 206,
    "start_time": "2024-05-22T17:44:50.441Z"
   },
   {
    "duration": 372,
    "start_time": "2024-05-22T17:45:59.426Z"
   },
   {
    "duration": 769,
    "start_time": "2024-05-22T17:46:08.626Z"
   },
   {
    "duration": 1706,
    "start_time": "2024-05-22T17:46:09.399Z"
   },
   {
    "duration": 27,
    "start_time": "2024-05-22T17:46:11.108Z"
   },
   {
    "duration": 17,
    "start_time": "2024-05-22T17:46:11.139Z"
   },
   {
    "duration": 13,
    "start_time": "2024-05-22T17:46:11.163Z"
   },
   {
    "duration": 54,
    "start_time": "2024-05-22T17:46:11.179Z"
   },
   {
    "duration": 15,
    "start_time": "2024-05-22T17:46:11.236Z"
   },
   {
    "duration": 381,
    "start_time": "2024-05-22T17:46:11.255Z"
   },
   {
    "duration": 4,
    "start_time": "2024-05-22T17:46:11.639Z"
   },
   {
    "duration": 3,
    "start_time": "2024-05-22T17:46:11.647Z"
   },
   {
    "duration": 4,
    "start_time": "2024-05-22T17:46:11.653Z"
   },
   {
    "duration": 4,
    "start_time": "2024-05-22T17:46:11.660Z"
   },
   {
    "duration": 3,
    "start_time": "2024-05-22T17:46:11.667Z"
   },
   {
    "duration": 53,
    "start_time": "2024-05-22T17:46:11.678Z"
   },
   {
    "duration": 3,
    "start_time": "2024-05-22T17:46:11.735Z"
   },
   {
    "duration": 3,
    "start_time": "2024-05-22T17:46:11.742Z"
   },
   {
    "duration": 9,
    "start_time": "2024-05-22T17:46:11.749Z"
   },
   {
    "duration": 4,
    "start_time": "2024-05-22T17:46:11.762Z"
   },
   {
    "duration": 5,
    "start_time": "2024-05-22T17:46:11.768Z"
   },
   {
    "duration": 5,
    "start_time": "2024-05-22T17:46:11.776Z"
   },
   {
    "duration": 4,
    "start_time": "2024-05-22T17:46:11.832Z"
   },
   {
    "duration": 4,
    "start_time": "2024-05-22T17:46:11.838Z"
   },
   {
    "duration": 4,
    "start_time": "2024-05-22T17:46:11.845Z"
   },
   {
    "duration": 4,
    "start_time": "2024-05-22T17:46:11.852Z"
   },
   {
    "duration": 4,
    "start_time": "2024-05-22T17:46:11.859Z"
   },
   {
    "duration": 4,
    "start_time": "2024-05-22T17:46:11.867Z"
   },
   {
    "duration": 57,
    "start_time": "2024-05-22T17:46:11.874Z"
   },
   {
    "duration": 3,
    "start_time": "2024-05-22T17:46:11.935Z"
   },
   {
    "duration": 4,
    "start_time": "2024-05-22T17:46:11.941Z"
   },
   {
    "duration": 4,
    "start_time": "2024-05-22T17:46:11.948Z"
   },
   {
    "duration": 4,
    "start_time": "2024-05-22T17:46:11.955Z"
   },
   {
    "duration": 5,
    "start_time": "2024-05-22T17:46:11.962Z"
   },
   {
    "duration": 3,
    "start_time": "2024-05-22T17:46:11.971Z"
   },
   {
    "duration": 7,
    "start_time": "2024-05-22T17:46:12.032Z"
   },
   {
    "duration": 387,
    "start_time": "2024-05-22T17:48:03.142Z"
   },
   {
    "duration": 692,
    "start_time": "2024-05-22T17:48:45.948Z"
   },
   {
    "duration": 1618,
    "start_time": "2024-05-22T17:48:46.643Z"
   },
   {
    "duration": 20,
    "start_time": "2024-05-22T17:48:48.264Z"
   },
   {
    "duration": 18,
    "start_time": "2024-05-22T17:48:48.286Z"
   },
   {
    "duration": 11,
    "start_time": "2024-05-22T17:48:48.334Z"
   },
   {
    "duration": 17,
    "start_time": "2024-05-22T17:48:48.348Z"
   },
   {
    "duration": 18,
    "start_time": "2024-05-22T17:48:48.368Z"
   },
   {
    "duration": 388,
    "start_time": "2024-05-22T17:48:48.390Z"
   },
   {
    "duration": 3,
    "start_time": "2024-05-22T17:48:48.781Z"
   },
   {
    "duration": 4,
    "start_time": "2024-05-22T17:48:48.787Z"
   },
   {
    "duration": 5,
    "start_time": "2024-05-22T17:48:48.794Z"
   },
   {
    "duration": 32,
    "start_time": "2024-05-22T17:48:48.801Z"
   },
   {
    "duration": 4,
    "start_time": "2024-05-22T17:48:48.836Z"
   },
   {
    "duration": 2,
    "start_time": "2024-05-22T17:48:48.847Z"
   },
   {
    "duration": 3,
    "start_time": "2024-05-22T17:48:48.853Z"
   },
   {
    "duration": 4,
    "start_time": "2024-05-22T17:48:48.859Z"
   },
   {
    "duration": 4,
    "start_time": "2024-05-22T17:48:48.866Z"
   },
   {
    "duration": 61,
    "start_time": "2024-05-22T17:48:48.873Z"
   },
   {
    "duration": 4,
    "start_time": "2024-05-22T17:48:48.936Z"
   },
   {
    "duration": 4,
    "start_time": "2024-05-22T17:48:48.943Z"
   },
   {
    "duration": 4,
    "start_time": "2024-05-22T17:48:48.950Z"
   },
   {
    "duration": 3,
    "start_time": "2024-05-22T17:48:48.957Z"
   },
   {
    "duration": 4,
    "start_time": "2024-05-22T17:48:48.963Z"
   },
   {
    "duration": 4,
    "start_time": "2024-05-22T17:48:48.971Z"
   },
   {
    "duration": 56,
    "start_time": "2024-05-22T17:48:48.977Z"
   },
   {
    "duration": 4,
    "start_time": "2024-05-22T17:48:49.036Z"
   },
   {
    "duration": 4,
    "start_time": "2024-05-22T17:48:49.043Z"
   },
   {
    "duration": 3,
    "start_time": "2024-05-22T17:48:49.050Z"
   },
   {
    "duration": 7,
    "start_time": "2024-05-22T17:48:49.056Z"
   },
   {
    "duration": 3,
    "start_time": "2024-05-22T17:48:49.066Z"
   },
   {
    "duration": 58,
    "start_time": "2024-05-22T17:48:49.072Z"
   },
   {
    "duration": 3,
    "start_time": "2024-05-22T17:48:49.134Z"
   },
   {
    "duration": 4,
    "start_time": "2024-05-22T17:48:49.140Z"
   },
   {
    "duration": 24,
    "start_time": "2024-05-22T17:49:24.712Z"
   },
   {
    "duration": 11,
    "start_time": "2024-05-22T17:49:54.931Z"
   },
   {
    "duration": 12,
    "start_time": "2024-05-22T17:50:07.237Z"
   },
   {
    "duration": 17,
    "start_time": "2024-05-22T17:50:20.506Z"
   },
   {
    "duration": 17,
    "start_time": "2024-05-22T17:50:33.527Z"
   },
   {
    "duration": 18,
    "start_time": "2024-05-22T17:50:43.189Z"
   },
   {
    "duration": 338,
    "start_time": "2024-05-22T17:52:49.913Z"
   },
   {
    "duration": 703,
    "start_time": "2024-05-22T17:52:56.843Z"
   },
   {
    "duration": 1560,
    "start_time": "2024-05-22T17:52:57.549Z"
   },
   {
    "duration": 25,
    "start_time": "2024-05-22T17:52:59.112Z"
   },
   {
    "duration": 15,
    "start_time": "2024-05-22T17:52:59.141Z"
   },
   {
    "duration": 12,
    "start_time": "2024-05-22T17:52:59.159Z"
   },
   {
    "duration": 13,
    "start_time": "2024-05-22T17:52:59.174Z"
   },
   {
    "duration": 51,
    "start_time": "2024-05-22T17:52:59.190Z"
   },
   {
    "duration": 381,
    "start_time": "2024-05-22T17:52:59.243Z"
   },
   {
    "duration": 19,
    "start_time": "2024-05-22T17:52:59.631Z"
   },
   {
    "duration": 3,
    "start_time": "2024-05-22T17:52:59.657Z"
   },
   {
    "duration": 4,
    "start_time": "2024-05-22T17:52:59.663Z"
   },
   {
    "duration": 5,
    "start_time": "2024-05-22T17:52:59.670Z"
   },
   {
    "duration": 4,
    "start_time": "2024-05-22T17:52:59.678Z"
   },
   {
    "duration": 3,
    "start_time": "2024-05-22T17:52:59.732Z"
   },
   {
    "duration": 4,
    "start_time": "2024-05-22T17:52:59.738Z"
   },
   {
    "duration": 3,
    "start_time": "2024-05-22T17:52:59.746Z"
   },
   {
    "duration": 4,
    "start_time": "2024-05-22T17:52:59.752Z"
   },
   {
    "duration": 4,
    "start_time": "2024-05-22T17:52:59.759Z"
   },
   {
    "duration": 3,
    "start_time": "2024-05-22T17:52:59.767Z"
   },
   {
    "duration": 57,
    "start_time": "2024-05-22T17:52:59.773Z"
   },
   {
    "duration": 4,
    "start_time": "2024-05-22T17:52:59.833Z"
   },
   {
    "duration": 3,
    "start_time": "2024-05-22T17:52:59.840Z"
   },
   {
    "duration": 4,
    "start_time": "2024-05-22T17:52:59.846Z"
   },
   {
    "duration": 3,
    "start_time": "2024-05-22T17:52:59.853Z"
   },
   {
    "duration": 4,
    "start_time": "2024-05-22T17:52:59.859Z"
   },
   {
    "duration": 4,
    "start_time": "2024-05-22T17:52:59.866Z"
   },
   {
    "duration": 3,
    "start_time": "2024-05-22T17:52:59.873Z"
   },
   {
    "duration": 3,
    "start_time": "2024-05-22T17:52:59.931Z"
   },
   {
    "duration": 4,
    "start_time": "2024-05-22T17:52:59.937Z"
   },
   {
    "duration": 3,
    "start_time": "2024-05-22T17:52:59.945Z"
   },
   {
    "duration": 3,
    "start_time": "2024-05-22T17:52:59.952Z"
   },
   {
    "duration": 3,
    "start_time": "2024-05-22T17:52:59.959Z"
   },
   {
    "duration": 3,
    "start_time": "2024-05-22T17:52:59.966Z"
   },
   {
    "duration": 60,
    "start_time": "2024-05-22T17:52:59.972Z"
   },
   {
    "duration": 16,
    "start_time": "2024-05-22T17:53:23.562Z"
   },
   {
    "duration": 227,
    "start_time": "2024-05-22T17:55:25.140Z"
   },
   {
    "duration": 161,
    "start_time": "2024-05-22T17:55:33.816Z"
   },
   {
    "duration": 189,
    "start_time": "2024-05-22T17:56:11.094Z"
   },
   {
    "duration": 145,
    "start_time": "2024-05-22T17:56:14.910Z"
   },
   {
    "duration": 204,
    "start_time": "2024-05-22T17:56:24.445Z"
   },
   {
    "duration": 160,
    "start_time": "2024-05-22T17:56:27.006Z"
   },
   {
    "duration": 73,
    "start_time": "2024-05-22T17:57:49.978Z"
   },
   {
    "duration": 709,
    "start_time": "2024-05-22T18:05:42.743Z"
   },
   {
    "duration": 1566,
    "start_time": "2024-05-22T18:05:43.456Z"
   },
   {
    "duration": 19,
    "start_time": "2024-05-22T18:05:45.025Z"
   },
   {
    "duration": 17,
    "start_time": "2024-05-22T18:05:45.046Z"
   },
   {
    "duration": 13,
    "start_time": "2024-05-22T18:05:45.069Z"
   },
   {
    "duration": 54,
    "start_time": "2024-05-22T18:05:45.084Z"
   },
   {
    "duration": 14,
    "start_time": "2024-05-22T18:05:45.141Z"
   },
   {
    "duration": 4,
    "start_time": "2024-05-22T18:05:45.158Z"
   },
   {
    "duration": 378,
    "start_time": "2024-05-22T18:05:45.165Z"
   },
   {
    "duration": 18,
    "start_time": "2024-05-22T18:05:45.546Z"
   },
   {
    "duration": 221,
    "start_time": "2024-05-22T18:05:45.566Z"
   },
   {
    "duration": 192,
    "start_time": "2024-05-22T18:05:45.789Z"
   },
   {
    "duration": 113,
    "start_time": "2024-05-22T18:05:45.984Z"
   },
   {
    "duration": 381,
    "start_time": "2024-05-22T18:05:46.105Z"
   },
   {
    "duration": 0,
    "start_time": "2024-05-22T18:05:46.488Z"
   },
   {
    "duration": 0,
    "start_time": "2024-05-22T18:05:46.491Z"
   },
   {
    "duration": 0,
    "start_time": "2024-05-22T18:05:46.493Z"
   },
   {
    "duration": 0,
    "start_time": "2024-05-22T18:05:46.495Z"
   },
   {
    "duration": 0,
    "start_time": "2024-05-22T18:05:46.498Z"
   },
   {
    "duration": 0,
    "start_time": "2024-05-22T18:05:46.499Z"
   },
   {
    "duration": 0,
    "start_time": "2024-05-22T18:05:46.502Z"
   },
   {
    "duration": 0,
    "start_time": "2024-05-22T18:05:46.531Z"
   },
   {
    "duration": 0,
    "start_time": "2024-05-22T18:05:46.533Z"
   },
   {
    "duration": 1,
    "start_time": "2024-05-22T18:05:46.535Z"
   },
   {
    "duration": 0,
    "start_time": "2024-05-22T18:05:46.537Z"
   },
   {
    "duration": 0,
    "start_time": "2024-05-22T18:05:46.539Z"
   },
   {
    "duration": 0,
    "start_time": "2024-05-22T18:05:46.540Z"
   },
   {
    "duration": 0,
    "start_time": "2024-05-22T18:05:46.543Z"
   },
   {
    "duration": 0,
    "start_time": "2024-05-22T18:05:46.545Z"
   },
   {
    "duration": 0,
    "start_time": "2024-05-22T18:05:46.548Z"
   },
   {
    "duration": 0,
    "start_time": "2024-05-22T18:05:46.551Z"
   },
   {
    "duration": 0,
    "start_time": "2024-05-22T18:05:46.554Z"
   },
   {
    "duration": 0,
    "start_time": "2024-05-22T18:05:46.557Z"
   },
   {
    "duration": 0,
    "start_time": "2024-05-22T18:05:46.559Z"
   },
   {
    "duration": 1,
    "start_time": "2024-05-22T18:05:46.561Z"
   },
   {
    "duration": 174,
    "start_time": "2024-05-22T18:06:38.217Z"
   },
   {
    "duration": 315,
    "start_time": "2024-05-22T18:07:03.861Z"
   },
   {
    "duration": 685,
    "start_time": "2024-05-22T18:07:11.155Z"
   },
   {
    "duration": 1617,
    "start_time": "2024-05-22T18:07:11.843Z"
   },
   {
    "duration": 18,
    "start_time": "2024-05-22T18:07:13.463Z"
   },
   {
    "duration": 17,
    "start_time": "2024-05-22T18:07:13.484Z"
   },
   {
    "duration": 12,
    "start_time": "2024-05-22T18:07:13.533Z"
   },
   {
    "duration": 13,
    "start_time": "2024-05-22T18:07:13.548Z"
   },
   {
    "duration": 13,
    "start_time": "2024-05-22T18:07:13.565Z"
   },
   {
    "duration": 4,
    "start_time": "2024-05-22T18:07:13.582Z"
   },
   {
    "duration": 512,
    "start_time": "2024-05-22T18:07:13.631Z"
   },
   {
    "duration": 0,
    "start_time": "2024-05-22T18:07:14.147Z"
   },
   {
    "duration": 0,
    "start_time": "2024-05-22T18:07:14.149Z"
   },
   {
    "duration": 1,
    "start_time": "2024-05-22T18:07:14.150Z"
   },
   {
    "duration": 0,
    "start_time": "2024-05-22T18:07:14.155Z"
   },
   {
    "duration": 0,
    "start_time": "2024-05-22T18:07:14.157Z"
   },
   {
    "duration": 0,
    "start_time": "2024-05-22T18:07:14.159Z"
   },
   {
    "duration": 0,
    "start_time": "2024-05-22T18:07:14.161Z"
   },
   {
    "duration": 0,
    "start_time": "2024-05-22T18:07:14.163Z"
   },
   {
    "duration": 0,
    "start_time": "2024-05-22T18:07:14.166Z"
   },
   {
    "duration": 0,
    "start_time": "2024-05-22T18:07:14.168Z"
   },
   {
    "duration": 0,
    "start_time": "2024-05-22T18:07:14.171Z"
   },
   {
    "duration": 0,
    "start_time": "2024-05-22T18:07:14.173Z"
   },
   {
    "duration": 0,
    "start_time": "2024-05-22T18:07:14.175Z"
   },
   {
    "duration": 0,
    "start_time": "2024-05-22T18:07:14.178Z"
   },
   {
    "duration": 0,
    "start_time": "2024-05-22T18:07:14.180Z"
   },
   {
    "duration": 0,
    "start_time": "2024-05-22T18:07:14.231Z"
   },
   {
    "duration": 0,
    "start_time": "2024-05-22T18:07:14.233Z"
   },
   {
    "duration": 0,
    "start_time": "2024-05-22T18:07:14.235Z"
   },
   {
    "duration": 0,
    "start_time": "2024-05-22T18:07:14.238Z"
   },
   {
    "duration": 0,
    "start_time": "2024-05-22T18:07:14.240Z"
   },
   {
    "duration": 0,
    "start_time": "2024-05-22T18:07:14.243Z"
   },
   {
    "duration": 0,
    "start_time": "2024-05-22T18:07:14.246Z"
   },
   {
    "duration": 0,
    "start_time": "2024-05-22T18:07:14.248Z"
   },
   {
    "duration": 0,
    "start_time": "2024-05-22T18:07:14.250Z"
   },
   {
    "duration": 0,
    "start_time": "2024-05-22T18:07:14.253Z"
   },
   {
    "duration": 0,
    "start_time": "2024-05-22T18:07:14.255Z"
   },
   {
    "duration": 4,
    "start_time": "2024-05-22T18:07:26.887Z"
   },
   {
    "duration": 658,
    "start_time": "2024-05-22T18:08:18.462Z"
   },
   {
    "duration": 1579,
    "start_time": "2024-05-22T18:08:19.123Z"
   },
   {
    "duration": 27,
    "start_time": "2024-05-22T18:08:20.705Z"
   },
   {
    "duration": 16,
    "start_time": "2024-05-22T18:08:20.737Z"
   },
   {
    "duration": 12,
    "start_time": "2024-05-22T18:08:20.757Z"
   },
   {
    "duration": 13,
    "start_time": "2024-05-22T18:08:20.772Z"
   },
   {
    "duration": 53,
    "start_time": "2024-05-22T18:08:20.788Z"
   },
   {
    "duration": 4,
    "start_time": "2024-05-22T18:08:20.844Z"
   },
   {
    "duration": 364,
    "start_time": "2024-05-22T18:08:20.851Z"
   },
   {
    "duration": 26,
    "start_time": "2024-05-22T18:08:21.221Z"
   },
   {
    "duration": 208,
    "start_time": "2024-05-22T18:08:21.250Z"
   },
   {
    "duration": 190,
    "start_time": "2024-05-22T18:08:21.461Z"
   },
   {
    "duration": 103,
    "start_time": "2024-05-22T18:08:21.653Z"
   },
   {
    "duration": 410,
    "start_time": "2024-05-22T18:08:21.759Z"
   },
   {
    "duration": 0,
    "start_time": "2024-05-22T18:08:22.173Z"
   },
   {
    "duration": 0,
    "start_time": "2024-05-22T18:08:22.175Z"
   },
   {
    "duration": 0,
    "start_time": "2024-05-22T18:08:22.176Z"
   },
   {
    "duration": 0,
    "start_time": "2024-05-22T18:08:22.178Z"
   },
   {
    "duration": 0,
    "start_time": "2024-05-22T18:08:22.180Z"
   },
   {
    "duration": 0,
    "start_time": "2024-05-22T18:08:22.181Z"
   },
   {
    "duration": 0,
    "start_time": "2024-05-22T18:08:22.184Z"
   },
   {
    "duration": 0,
    "start_time": "2024-05-22T18:08:22.186Z"
   },
   {
    "duration": 0,
    "start_time": "2024-05-22T18:08:22.188Z"
   },
   {
    "duration": 0,
    "start_time": "2024-05-22T18:08:22.190Z"
   },
   {
    "duration": 0,
    "start_time": "2024-05-22T18:08:22.192Z"
   },
   {
    "duration": 0,
    "start_time": "2024-05-22T18:08:22.194Z"
   },
   {
    "duration": 0,
    "start_time": "2024-05-22T18:08:22.197Z"
   },
   {
    "duration": 0,
    "start_time": "2024-05-22T18:08:22.231Z"
   },
   {
    "duration": 0,
    "start_time": "2024-05-22T18:08:22.233Z"
   },
   {
    "duration": 0,
    "start_time": "2024-05-22T18:08:22.239Z"
   },
   {
    "duration": 0,
    "start_time": "2024-05-22T18:08:22.242Z"
   },
   {
    "duration": 0,
    "start_time": "2024-05-22T18:08:22.244Z"
   },
   {
    "duration": 0,
    "start_time": "2024-05-22T18:08:22.246Z"
   },
   {
    "duration": 0,
    "start_time": "2024-05-22T18:08:22.248Z"
   },
   {
    "duration": 0,
    "start_time": "2024-05-22T18:08:22.251Z"
   },
   {
    "duration": 651,
    "start_time": "2024-05-22T18:10:00.476Z"
   },
   {
    "duration": 1614,
    "start_time": "2024-05-22T18:10:01.130Z"
   },
   {
    "duration": 17,
    "start_time": "2024-05-22T18:10:02.750Z"
   },
   {
    "duration": 17,
    "start_time": "2024-05-22T18:10:02.771Z"
   },
   {
    "duration": 42,
    "start_time": "2024-05-22T18:10:02.792Z"
   },
   {
    "duration": 14,
    "start_time": "2024-05-22T18:10:02.840Z"
   },
   {
    "duration": 15,
    "start_time": "2024-05-22T18:10:02.857Z"
   },
   {
    "duration": 5,
    "start_time": "2024-05-22T18:10:02.877Z"
   },
   {
    "duration": 400,
    "start_time": "2024-05-22T18:10:02.884Z"
   },
   {
    "duration": 17,
    "start_time": "2024-05-22T18:10:03.291Z"
   },
   {
    "duration": 219,
    "start_time": "2024-05-22T18:10:03.311Z"
   },
   {
    "duration": 167,
    "start_time": "2024-05-22T18:10:03.532Z"
   },
   {
    "duration": 96,
    "start_time": "2024-05-22T18:10:03.702Z"
   },
   {
    "duration": 384,
    "start_time": "2024-05-22T18:10:03.801Z"
   },
   {
    "duration": 0,
    "start_time": "2024-05-22T18:10:04.189Z"
   },
   {
    "duration": 0,
    "start_time": "2024-05-22T18:10:04.191Z"
   },
   {
    "duration": 0,
    "start_time": "2024-05-22T18:10:04.193Z"
   },
   {
    "duration": 0,
    "start_time": "2024-05-22T18:10:04.196Z"
   },
   {
    "duration": 0,
    "start_time": "2024-05-22T18:10:04.198Z"
   },
   {
    "duration": 0,
    "start_time": "2024-05-22T18:10:04.199Z"
   },
   {
    "duration": 0,
    "start_time": "2024-05-22T18:10:04.202Z"
   },
   {
    "duration": 0,
    "start_time": "2024-05-22T18:10:04.204Z"
   },
   {
    "duration": 0,
    "start_time": "2024-05-22T18:10:04.231Z"
   },
   {
    "duration": 0,
    "start_time": "2024-05-22T18:10:04.232Z"
   },
   {
    "duration": 0,
    "start_time": "2024-05-22T18:10:04.234Z"
   },
   {
    "duration": 0,
    "start_time": "2024-05-22T18:10:04.236Z"
   },
   {
    "duration": 0,
    "start_time": "2024-05-22T18:10:04.237Z"
   },
   {
    "duration": 0,
    "start_time": "2024-05-22T18:10:04.240Z"
   },
   {
    "duration": 0,
    "start_time": "2024-05-22T18:10:04.241Z"
   },
   {
    "duration": 0,
    "start_time": "2024-05-22T18:10:04.244Z"
   },
   {
    "duration": 0,
    "start_time": "2024-05-22T18:10:04.245Z"
   },
   {
    "duration": 0,
    "start_time": "2024-05-22T18:10:04.247Z"
   },
   {
    "duration": 0,
    "start_time": "2024-05-22T18:10:04.249Z"
   },
   {
    "duration": 0,
    "start_time": "2024-05-22T18:10:04.251Z"
   },
   {
    "duration": 0,
    "start_time": "2024-05-22T18:10:04.253Z"
   },
   {
    "duration": 691,
    "start_time": "2024-05-22T18:18:56.533Z"
   },
   {
    "duration": 1560,
    "start_time": "2024-05-22T18:18:57.230Z"
   },
   {
    "duration": 18,
    "start_time": "2024-05-22T18:18:58.793Z"
   },
   {
    "duration": 28,
    "start_time": "2024-05-22T18:18:58.814Z"
   },
   {
    "duration": 11,
    "start_time": "2024-05-22T18:18:58.847Z"
   },
   {
    "duration": 15,
    "start_time": "2024-05-22T18:18:58.861Z"
   },
   {
    "duration": 52,
    "start_time": "2024-05-22T18:18:58.879Z"
   },
   {
    "duration": 5,
    "start_time": "2024-05-22T18:18:58.934Z"
   },
   {
    "duration": 362,
    "start_time": "2024-05-22T18:18:58.942Z"
   },
   {
    "duration": 25,
    "start_time": "2024-05-22T18:18:59.307Z"
   },
   {
    "duration": 210,
    "start_time": "2024-05-22T18:18:59.335Z"
   },
   {
    "duration": 186,
    "start_time": "2024-05-22T18:18:59.548Z"
   },
   {
    "duration": 97,
    "start_time": "2024-05-22T18:18:59.737Z"
   },
   {
    "duration": 377,
    "start_time": "2024-05-22T18:18:59.839Z"
   },
   {
    "duration": 0,
    "start_time": "2024-05-22T18:19:00.219Z"
   },
   {
    "duration": 0,
    "start_time": "2024-05-22T18:19:00.221Z"
   },
   {
    "duration": 0,
    "start_time": "2024-05-22T18:19:00.222Z"
   },
   {
    "duration": 0,
    "start_time": "2024-05-22T18:19:00.223Z"
   },
   {
    "duration": 0,
    "start_time": "2024-05-22T18:19:00.224Z"
   },
   {
    "duration": 0,
    "start_time": "2024-05-22T18:19:00.229Z"
   },
   {
    "duration": 0,
    "start_time": "2024-05-22T18:19:00.235Z"
   },
   {
    "duration": 0,
    "start_time": "2024-05-22T18:19:00.237Z"
   },
   {
    "duration": 0,
    "start_time": "2024-05-22T18:19:00.241Z"
   },
   {
    "duration": 0,
    "start_time": "2024-05-22T18:19:00.244Z"
   },
   {
    "duration": 0,
    "start_time": "2024-05-22T18:19:00.246Z"
   },
   {
    "duration": 0,
    "start_time": "2024-05-22T18:19:00.249Z"
   },
   {
    "duration": 0,
    "start_time": "2024-05-22T18:19:00.251Z"
   },
   {
    "duration": 0,
    "start_time": "2024-05-22T18:19:00.254Z"
   },
   {
    "duration": 0,
    "start_time": "2024-05-22T18:19:00.257Z"
   },
   {
    "duration": 0,
    "start_time": "2024-05-22T18:19:00.260Z"
   },
   {
    "duration": 0,
    "start_time": "2024-05-22T18:19:00.262Z"
   },
   {
    "duration": 0,
    "start_time": "2024-05-22T18:19:00.264Z"
   },
   {
    "duration": 0,
    "start_time": "2024-05-22T18:19:00.266Z"
   },
   {
    "duration": 0,
    "start_time": "2024-05-22T18:19:00.268Z"
   },
   {
    "duration": 0,
    "start_time": "2024-05-22T18:19:00.330Z"
   },
   {
    "duration": 147,
    "start_time": "2024-05-22T18:20:06.173Z"
   },
   {
    "duration": 688,
    "start_time": "2024-05-22T18:20:19.938Z"
   },
   {
    "duration": 1571,
    "start_time": "2024-05-22T18:20:20.632Z"
   },
   {
    "duration": 24,
    "start_time": "2024-05-22T18:20:22.206Z"
   },
   {
    "duration": 18,
    "start_time": "2024-05-22T18:20:22.237Z"
   },
   {
    "duration": 13,
    "start_time": "2024-05-22T18:20:22.258Z"
   },
   {
    "duration": 15,
    "start_time": "2024-05-22T18:20:22.274Z"
   },
   {
    "duration": 16,
    "start_time": "2024-05-22T18:20:22.331Z"
   },
   {
    "duration": 5,
    "start_time": "2024-05-22T18:20:22.351Z"
   },
   {
    "duration": 394,
    "start_time": "2024-05-22T18:20:22.359Z"
   },
   {
    "duration": 18,
    "start_time": "2024-05-22T18:20:22.759Z"
   },
   {
    "duration": 218,
    "start_time": "2024-05-22T18:20:22.780Z"
   },
   {
    "duration": 175,
    "start_time": "2024-05-22T18:20:23.001Z"
   },
   {
    "duration": 97,
    "start_time": "2024-05-22T18:20:23.179Z"
   },
   {
    "duration": 407,
    "start_time": "2024-05-22T18:20:23.279Z"
   },
   {
    "duration": 0,
    "start_time": "2024-05-22T18:20:23.690Z"
   },
   {
    "duration": 0,
    "start_time": "2024-05-22T18:20:23.692Z"
   },
   {
    "duration": 0,
    "start_time": "2024-05-22T18:20:23.694Z"
   },
   {
    "duration": 0,
    "start_time": "2024-05-22T18:20:23.696Z"
   },
   {
    "duration": 0,
    "start_time": "2024-05-22T18:20:23.699Z"
   },
   {
    "duration": 0,
    "start_time": "2024-05-22T18:20:23.702Z"
   },
   {
    "duration": 1,
    "start_time": "2024-05-22T18:20:23.703Z"
   },
   {
    "duration": 0,
    "start_time": "2024-05-22T18:20:23.706Z"
   },
   {
    "duration": 0,
    "start_time": "2024-05-22T18:20:23.733Z"
   },
   {
    "duration": 0,
    "start_time": "2024-05-22T18:20:23.735Z"
   },
   {
    "duration": 0,
    "start_time": "2024-05-22T18:20:23.737Z"
   },
   {
    "duration": 0,
    "start_time": "2024-05-22T18:20:23.740Z"
   },
   {
    "duration": 0,
    "start_time": "2024-05-22T18:20:23.743Z"
   },
   {
    "duration": 0,
    "start_time": "2024-05-22T18:20:23.745Z"
   },
   {
    "duration": 0,
    "start_time": "2024-05-22T18:20:23.747Z"
   },
   {
    "duration": 0,
    "start_time": "2024-05-22T18:20:23.750Z"
   },
   {
    "duration": 0,
    "start_time": "2024-05-22T18:20:23.751Z"
   },
   {
    "duration": 0,
    "start_time": "2024-05-22T18:20:23.754Z"
   },
   {
    "duration": 0,
    "start_time": "2024-05-22T18:20:23.756Z"
   },
   {
    "duration": 0,
    "start_time": "2024-05-22T18:20:23.759Z"
   },
   {
    "duration": 0,
    "start_time": "2024-05-22T18:20:23.760Z"
   },
   {
    "duration": 20,
    "start_time": "2024-05-22T18:21:23.656Z"
   },
   {
    "duration": 19,
    "start_time": "2024-05-22T18:21:30.048Z"
   },
   {
    "duration": 9,
    "start_time": "2024-05-22T18:22:37.436Z"
   },
   {
    "duration": 9,
    "start_time": "2024-05-22T18:22:41.888Z"
   },
   {
    "duration": 645,
    "start_time": "2024-05-22T18:23:38.383Z"
   },
   {
    "duration": 1585,
    "start_time": "2024-05-22T18:23:39.031Z"
   },
   {
    "duration": 22,
    "start_time": "2024-05-22T18:23:40.619Z"
   },
   {
    "duration": 17,
    "start_time": "2024-05-22T18:23:40.645Z"
   },
   {
    "duration": 13,
    "start_time": "2024-05-22T18:23:40.664Z"
   },
   {
    "duration": 50,
    "start_time": "2024-05-22T18:23:40.682Z"
   },
   {
    "duration": 14,
    "start_time": "2024-05-22T18:23:40.736Z"
   },
   {
    "duration": 5,
    "start_time": "2024-05-22T18:23:40.754Z"
   },
   {
    "duration": 377,
    "start_time": "2024-05-22T18:23:40.765Z"
   },
   {
    "duration": 17,
    "start_time": "2024-05-22T18:23:41.148Z"
   },
   {
    "duration": 217,
    "start_time": "2024-05-22T18:23:41.168Z"
   },
   {
    "duration": 167,
    "start_time": "2024-05-22T18:23:41.388Z"
   },
   {
    "duration": 95,
    "start_time": "2024-05-22T18:23:41.559Z"
   },
   {
    "duration": 22,
    "start_time": "2024-05-22T18:23:41.656Z"
   },
   {
    "duration": 8,
    "start_time": "2024-05-22T18:23:41.681Z"
   },
   {
    "duration": 4,
    "start_time": "2024-05-22T18:23:41.692Z"
   },
   {
    "duration": 3,
    "start_time": "2024-05-22T18:23:41.731Z"
   },
   {
    "duration": 4,
    "start_time": "2024-05-22T18:23:41.737Z"
   },
   {
    "duration": 4,
    "start_time": "2024-05-22T18:23:41.744Z"
   },
   {
    "duration": 4,
    "start_time": "2024-05-22T18:23:41.751Z"
   },
   {
    "duration": 3,
    "start_time": "2024-05-22T18:23:41.759Z"
   },
   {
    "duration": 11,
    "start_time": "2024-05-22T18:23:41.766Z"
   },
   {
    "duration": 4,
    "start_time": "2024-05-22T18:23:41.784Z"
   },
   {
    "duration": 5,
    "start_time": "2024-05-22T18:23:41.832Z"
   },
   {
    "duration": 5,
    "start_time": "2024-05-22T18:23:41.840Z"
   },
   {
    "duration": 4,
    "start_time": "2024-05-22T18:23:41.848Z"
   },
   {
    "duration": 4,
    "start_time": "2024-05-22T18:23:41.856Z"
   },
   {
    "duration": 4,
    "start_time": "2024-05-22T18:23:41.869Z"
   },
   {
    "duration": 55,
    "start_time": "2024-05-22T18:23:41.877Z"
   },
   {
    "duration": 4,
    "start_time": "2024-05-22T18:23:41.938Z"
   },
   {
    "duration": 4,
    "start_time": "2024-05-22T18:23:41.945Z"
   },
   {
    "duration": 3,
    "start_time": "2024-05-22T18:23:41.955Z"
   },
   {
    "duration": 4,
    "start_time": "2024-05-22T18:23:41.962Z"
   },
   {
    "duration": 4,
    "start_time": "2024-05-22T18:23:41.969Z"
   },
   {
    "duration": 3,
    "start_time": "2024-05-22T18:23:41.976Z"
   },
   {
    "duration": 18,
    "start_time": "2024-05-22T18:24:41.406Z"
   },
   {
    "duration": 14,
    "start_time": "2024-05-22T18:28:42.539Z"
   },
   {
    "duration": 1201,
    "start_time": "2024-05-22T18:30:41.987Z"
   },
   {
    "duration": 650,
    "start_time": "2024-05-22T18:30:49.765Z"
   },
   {
    "duration": 1604,
    "start_time": "2024-05-22T18:30:50.418Z"
   },
   {
    "duration": 23,
    "start_time": "2024-05-22T18:30:52.026Z"
   },
   {
    "duration": 22,
    "start_time": "2024-05-22T18:30:52.052Z"
   },
   {
    "duration": 11,
    "start_time": "2024-05-22T18:30:52.078Z"
   },
   {
    "duration": 47,
    "start_time": "2024-05-22T18:30:52.092Z"
   },
   {
    "duration": 17,
    "start_time": "2024-05-22T18:30:52.142Z"
   },
   {
    "duration": 5,
    "start_time": "2024-05-22T18:30:52.161Z"
   },
   {
    "duration": 404,
    "start_time": "2024-05-22T18:30:52.169Z"
   },
   {
    "duration": 18,
    "start_time": "2024-05-22T18:30:52.576Z"
   },
   {
    "duration": 218,
    "start_time": "2024-05-22T18:30:52.597Z"
   },
   {
    "duration": 180,
    "start_time": "2024-05-22T18:30:52.818Z"
   },
   {
    "duration": 111,
    "start_time": "2024-05-22T18:30:53.000Z"
   },
   {
    "duration": 31,
    "start_time": "2024-05-22T18:30:53.120Z"
   },
   {
    "duration": 1193,
    "start_time": "2024-05-22T18:30:53.154Z"
   },
   {
    "duration": 0,
    "start_time": "2024-05-22T18:30:54.351Z"
   },
   {
    "duration": 0,
    "start_time": "2024-05-22T18:30:54.353Z"
   },
   {
    "duration": 0,
    "start_time": "2024-05-22T18:30:54.355Z"
   },
   {
    "duration": 0,
    "start_time": "2024-05-22T18:30:54.357Z"
   },
   {
    "duration": 0,
    "start_time": "2024-05-22T18:30:54.359Z"
   },
   {
    "duration": 0,
    "start_time": "2024-05-22T18:30:54.361Z"
   },
   {
    "duration": 0,
    "start_time": "2024-05-22T18:30:54.364Z"
   },
   {
    "duration": 0,
    "start_time": "2024-05-22T18:30:54.365Z"
   },
   {
    "duration": 0,
    "start_time": "2024-05-22T18:30:54.367Z"
   },
   {
    "duration": 0,
    "start_time": "2024-05-22T18:30:54.368Z"
   },
   {
    "duration": 0,
    "start_time": "2024-05-22T18:30:54.371Z"
   },
   {
    "duration": 0,
    "start_time": "2024-05-22T18:30:54.373Z"
   },
   {
    "duration": 0,
    "start_time": "2024-05-22T18:30:54.375Z"
   },
   {
    "duration": 0,
    "start_time": "2024-05-22T18:30:54.378Z"
   },
   {
    "duration": 0,
    "start_time": "2024-05-22T18:30:54.379Z"
   },
   {
    "duration": 0,
    "start_time": "2024-05-22T18:30:54.431Z"
   },
   {
    "duration": 0,
    "start_time": "2024-05-22T18:30:54.433Z"
   },
   {
    "duration": 0,
    "start_time": "2024-05-22T18:30:54.436Z"
   },
   {
    "duration": 0,
    "start_time": "2024-05-22T18:30:54.438Z"
   },
   {
    "duration": 0,
    "start_time": "2024-05-22T18:30:54.441Z"
   },
   {
    "duration": 24,
    "start_time": "2024-05-22T18:31:19.921Z"
   },
   {
    "duration": 17,
    "start_time": "2024-05-22T18:31:37.673Z"
   },
   {
    "duration": 22,
    "start_time": "2024-05-22T18:31:43.765Z"
   },
   {
    "duration": 21,
    "start_time": "2024-05-22T18:32:07.102Z"
   },
   {
    "duration": 7,
    "start_time": "2024-05-22T18:32:50.732Z"
   },
   {
    "duration": 661,
    "start_time": "2024-05-22T18:32:58.399Z"
   },
   {
    "duration": 1586,
    "start_time": "2024-05-22T18:32:59.063Z"
   },
   {
    "duration": 19,
    "start_time": "2024-05-22T18:33:00.652Z"
   },
   {
    "duration": 21,
    "start_time": "2024-05-22T18:33:00.675Z"
   },
   {
    "duration": 36,
    "start_time": "2024-05-22T18:33:00.698Z"
   },
   {
    "duration": 14,
    "start_time": "2024-05-22T18:33:00.737Z"
   },
   {
    "duration": 13,
    "start_time": "2024-05-22T18:33:00.754Z"
   },
   {
    "duration": 4,
    "start_time": "2024-05-22T18:33:00.771Z"
   },
   {
    "duration": 423,
    "start_time": "2024-05-22T18:33:00.778Z"
   },
   {
    "duration": 29,
    "start_time": "2024-05-22T18:33:01.207Z"
   },
   {
    "duration": 202,
    "start_time": "2024-05-22T18:33:01.239Z"
   },
   {
    "duration": 170,
    "start_time": "2024-05-22T18:33:01.444Z"
   },
   {
    "duration": 91,
    "start_time": "2024-05-22T18:33:01.617Z"
   },
   {
    "duration": 34,
    "start_time": "2024-05-22T18:33:01.711Z"
   },
   {
    "duration": 22,
    "start_time": "2024-05-22T18:33:01.752Z"
   },
   {
    "duration": 0,
    "start_time": "2024-05-22T18:33:01.781Z"
   },
   {
    "duration": 0,
    "start_time": "2024-05-22T18:33:01.785Z"
   },
   {
    "duration": 0,
    "start_time": "2024-05-22T18:33:01.787Z"
   },
   {
    "duration": 0,
    "start_time": "2024-05-22T18:33:01.789Z"
   },
   {
    "duration": 0,
    "start_time": "2024-05-22T18:33:01.790Z"
   },
   {
    "duration": 0,
    "start_time": "2024-05-22T18:33:01.800Z"
   },
   {
    "duration": 0,
    "start_time": "2024-05-22T18:33:01.802Z"
   },
   {
    "duration": 0,
    "start_time": "2024-05-22T18:33:01.804Z"
   },
   {
    "duration": 0,
    "start_time": "2024-05-22T18:33:01.805Z"
   },
   {
    "duration": 0,
    "start_time": "2024-05-22T18:33:01.808Z"
   },
   {
    "duration": 0,
    "start_time": "2024-05-22T18:33:01.815Z"
   },
   {
    "duration": 0,
    "start_time": "2024-05-22T18:33:01.817Z"
   },
   {
    "duration": 0,
    "start_time": "2024-05-22T18:33:01.832Z"
   },
   {
    "duration": 0,
    "start_time": "2024-05-22T18:33:01.839Z"
   },
   {
    "duration": 0,
    "start_time": "2024-05-22T18:33:01.841Z"
   },
   {
    "duration": 0,
    "start_time": "2024-05-22T18:33:01.844Z"
   },
   {
    "duration": 0,
    "start_time": "2024-05-22T18:33:01.847Z"
   },
   {
    "duration": 0,
    "start_time": "2024-05-22T18:33:01.849Z"
   },
   {
    "duration": 0,
    "start_time": "2024-05-22T18:33:01.853Z"
   },
   {
    "duration": 0,
    "start_time": "2024-05-22T18:33:01.856Z"
   },
   {
    "duration": 22,
    "start_time": "2024-05-22T18:33:09.567Z"
   },
   {
    "duration": 148,
    "start_time": "2024-05-22T18:34:22.752Z"
   },
   {
    "duration": 36,
    "start_time": "2024-05-22T18:36:03.846Z"
   },
   {
    "duration": 22,
    "start_time": "2024-05-22T18:36:16.731Z"
   },
   {
    "duration": 702,
    "start_time": "2024-05-22T18:36:24.010Z"
   },
   {
    "duration": 1612,
    "start_time": "2024-05-22T18:36:24.716Z"
   },
   {
    "duration": 20,
    "start_time": "2024-05-22T18:36:26.332Z"
   },
   {
    "duration": 19,
    "start_time": "2024-05-22T18:36:26.354Z"
   },
   {
    "duration": 15,
    "start_time": "2024-05-22T18:36:26.378Z"
   },
   {
    "duration": 14,
    "start_time": "2024-05-22T18:36:26.431Z"
   },
   {
    "duration": 15,
    "start_time": "2024-05-22T18:36:26.448Z"
   },
   {
    "duration": 6,
    "start_time": "2024-05-22T18:36:26.465Z"
   },
   {
    "duration": 384,
    "start_time": "2024-05-22T18:36:26.475Z"
   },
   {
    "duration": 19,
    "start_time": "2024-05-22T18:36:26.862Z"
   },
   {
    "duration": 218,
    "start_time": "2024-05-22T18:36:26.883Z"
   },
   {
    "duration": 170,
    "start_time": "2024-05-22T18:36:27.103Z"
   },
   {
    "duration": 97,
    "start_time": "2024-05-22T18:36:27.277Z"
   },
   {
    "duration": 21,
    "start_time": "2024-05-22T18:36:27.380Z"
   },
   {
    "duration": 41,
    "start_time": "2024-05-22T18:36:27.406Z"
   },
   {
    "duration": 42,
    "start_time": "2024-05-22T18:36:27.450Z"
   },
   {
    "duration": 36,
    "start_time": "2024-05-22T18:36:27.495Z"
   },
   {
    "duration": 4,
    "start_time": "2024-05-22T18:36:27.534Z"
   },
   {
    "duration": 4,
    "start_time": "2024-05-22T18:36:27.540Z"
   },
   {
    "duration": 4,
    "start_time": "2024-05-22T18:36:27.547Z"
   },
   {
    "duration": 3,
    "start_time": "2024-05-22T18:36:27.555Z"
   },
   {
    "duration": 4,
    "start_time": "2024-05-22T18:36:27.561Z"
   },
   {
    "duration": 4,
    "start_time": "2024-05-22T18:36:27.568Z"
   },
   {
    "duration": 56,
    "start_time": "2024-05-22T18:36:27.574Z"
   },
   {
    "duration": 4,
    "start_time": "2024-05-22T18:36:27.633Z"
   },
   {
    "duration": 4,
    "start_time": "2024-05-22T18:36:27.639Z"
   },
   {
    "duration": 4,
    "start_time": "2024-05-22T18:36:27.646Z"
   },
   {
    "duration": 3,
    "start_time": "2024-05-22T18:36:27.654Z"
   },
   {
    "duration": 4,
    "start_time": "2024-05-22T18:36:27.660Z"
   },
   {
    "duration": 5,
    "start_time": "2024-05-22T18:36:27.667Z"
   },
   {
    "duration": 57,
    "start_time": "2024-05-22T18:36:27.675Z"
   },
   {
    "duration": 3,
    "start_time": "2024-05-22T18:36:27.736Z"
   },
   {
    "duration": 4,
    "start_time": "2024-05-22T18:36:27.742Z"
   },
   {
    "duration": 3,
    "start_time": "2024-05-22T18:36:27.749Z"
   },
   {
    "duration": 4,
    "start_time": "2024-05-22T18:36:27.756Z"
   },
   {
    "duration": 31,
    "start_time": "2024-05-22T18:42:41.949Z"
   },
   {
    "duration": 28,
    "start_time": "2024-05-22T18:43:06.512Z"
   },
   {
    "duration": 674,
    "start_time": "2024-05-22T18:47:05.672Z"
   },
   {
    "duration": 1555,
    "start_time": "2024-05-22T18:47:06.350Z"
   },
   {
    "duration": 27,
    "start_time": "2024-05-22T18:47:07.907Z"
   },
   {
    "duration": 17,
    "start_time": "2024-05-22T18:47:07.937Z"
   },
   {
    "duration": 12,
    "start_time": "2024-05-22T18:47:07.958Z"
   },
   {
    "duration": 14,
    "start_time": "2024-05-22T18:47:07.973Z"
   },
   {
    "duration": 57,
    "start_time": "2024-05-22T18:47:07.989Z"
   },
   {
    "duration": 5,
    "start_time": "2024-05-22T18:47:08.050Z"
   },
   {
    "duration": 412,
    "start_time": "2024-05-22T18:47:08.059Z"
   },
   {
    "duration": 18,
    "start_time": "2024-05-22T18:47:08.474Z"
   },
   {
    "duration": 213,
    "start_time": "2024-05-22T18:47:08.495Z"
   },
   {
    "duration": 168,
    "start_time": "2024-05-22T18:47:08.711Z"
   },
   {
    "duration": 95,
    "start_time": "2024-05-22T18:47:08.882Z"
   },
   {
    "duration": 21,
    "start_time": "2024-05-22T18:47:08.985Z"
   },
   {
    "duration": 40,
    "start_time": "2024-05-22T18:47:09.009Z"
   },
   {
    "duration": 24,
    "start_time": "2024-05-22T18:47:09.054Z"
   },
   {
    "duration": 5,
    "start_time": "2024-05-22T18:47:09.081Z"
   },
   {
    "duration": 3,
    "start_time": "2024-05-22T18:47:09.089Z"
   },
   {
    "duration": 3,
    "start_time": "2024-05-22T18:47:09.131Z"
   },
   {
    "duration": 4,
    "start_time": "2024-05-22T18:47:09.137Z"
   },
   {
    "duration": 4,
    "start_time": "2024-05-22T18:47:09.144Z"
   },
   {
    "duration": 5,
    "start_time": "2024-05-22T18:47:09.151Z"
   },
   {
    "duration": 5,
    "start_time": "2024-05-22T18:47:09.161Z"
   },
   {
    "duration": 3,
    "start_time": "2024-05-22T18:47:09.170Z"
   },
   {
    "duration": 55,
    "start_time": "2024-05-22T18:47:09.177Z"
   },
   {
    "duration": 4,
    "start_time": "2024-05-22T18:47:09.235Z"
   },
   {
    "duration": 3,
    "start_time": "2024-05-22T18:47:09.243Z"
   },
   {
    "duration": 3,
    "start_time": "2024-05-22T18:47:09.250Z"
   },
   {
    "duration": 3,
    "start_time": "2024-05-22T18:47:09.257Z"
   },
   {
    "duration": 4,
    "start_time": "2024-05-22T18:47:09.263Z"
   },
   {
    "duration": 5,
    "start_time": "2024-05-22T18:47:09.270Z"
   },
   {
    "duration": 55,
    "start_time": "2024-05-22T18:47:09.278Z"
   },
   {
    "duration": 3,
    "start_time": "2024-05-22T18:47:09.336Z"
   },
   {
    "duration": 5,
    "start_time": "2024-05-22T18:47:09.342Z"
   },
   {
    "duration": 659,
    "start_time": "2024-05-22T18:47:33.754Z"
   },
   {
    "duration": 1605,
    "start_time": "2024-05-22T18:47:34.416Z"
   },
   {
    "duration": 24,
    "start_time": "2024-05-22T18:47:36.028Z"
   },
   {
    "duration": 21,
    "start_time": "2024-05-22T18:47:36.057Z"
   },
   {
    "duration": 15,
    "start_time": "2024-05-22T18:47:36.083Z"
   },
   {
    "duration": 42,
    "start_time": "2024-05-22T18:47:36.102Z"
   },
   {
    "duration": 15,
    "start_time": "2024-05-22T18:47:36.148Z"
   },
   {
    "duration": 6,
    "start_time": "2024-05-22T18:47:36.166Z"
   },
   {
    "duration": 392,
    "start_time": "2024-05-22T18:47:36.176Z"
   },
   {
    "duration": 17,
    "start_time": "2024-05-22T18:47:36.575Z"
   },
   {
    "duration": 218,
    "start_time": "2024-05-22T18:47:36.595Z"
   },
   {
    "duration": 163,
    "start_time": "2024-05-22T18:47:36.816Z"
   },
   {
    "duration": 94,
    "start_time": "2024-05-22T18:47:36.982Z"
   },
   {
    "duration": 23,
    "start_time": "2024-05-22T18:47:37.080Z"
   },
   {
    "duration": 42,
    "start_time": "2024-05-22T18:47:37.106Z"
   },
   {
    "duration": 36,
    "start_time": "2024-05-22T18:47:37.151Z"
   },
   {
    "duration": 62,
    "start_time": "2024-05-22T18:47:37.190Z"
   },
   {
    "duration": 4,
    "start_time": "2024-05-22T18:47:37.256Z"
   },
   {
    "duration": 3,
    "start_time": "2024-05-22T18:47:37.266Z"
   },
   {
    "duration": 9,
    "start_time": "2024-05-22T18:47:37.272Z"
   },
   {
    "duration": 3,
    "start_time": "2024-05-22T18:47:37.285Z"
   },
   {
    "duration": 41,
    "start_time": "2024-05-22T18:47:37.291Z"
   },
   {
    "duration": 4,
    "start_time": "2024-05-22T18:47:37.335Z"
   },
   {
    "duration": 4,
    "start_time": "2024-05-22T18:47:37.342Z"
   },
   {
    "duration": 3,
    "start_time": "2024-05-22T18:47:37.350Z"
   },
   {
    "duration": 4,
    "start_time": "2024-05-22T18:47:37.356Z"
   },
   {
    "duration": 4,
    "start_time": "2024-05-22T18:47:37.362Z"
   },
   {
    "duration": 3,
    "start_time": "2024-05-22T18:47:37.430Z"
   },
   {
    "duration": 3,
    "start_time": "2024-05-22T18:47:37.436Z"
   },
   {
    "duration": 3,
    "start_time": "2024-05-22T18:47:37.443Z"
   },
   {
    "duration": 4,
    "start_time": "2024-05-22T18:47:37.450Z"
   },
   {
    "duration": 3,
    "start_time": "2024-05-22T18:47:37.457Z"
   },
   {
    "duration": 4,
    "start_time": "2024-05-22T18:47:37.463Z"
   },
   {
    "duration": 4,
    "start_time": "2024-05-22T18:47:37.471Z"
   },
   {
    "duration": 55,
    "start_time": "2024-05-22T18:47:37.478Z"
   },
   {
    "duration": 361,
    "start_time": "2024-05-22T18:50:50.190Z"
   },
   {
    "duration": 28,
    "start_time": "2024-05-22T18:51:02.124Z"
   },
   {
    "duration": 7,
    "start_time": "2024-05-22T18:51:28.932Z"
   },
   {
    "duration": 12,
    "start_time": "2024-05-22T18:54:25.310Z"
   },
   {
    "duration": 24,
    "start_time": "2024-05-22T18:57:40.666Z"
   },
   {
    "duration": 27,
    "start_time": "2024-05-22T18:57:50.207Z"
   },
   {
    "duration": 29,
    "start_time": "2024-05-22T18:58:14.738Z"
   },
   {
    "duration": 44,
    "start_time": "2024-05-22T18:59:07.619Z"
   },
   {
    "duration": 6,
    "start_time": "2024-05-22T19:00:49.032Z"
   },
   {
    "duration": 25,
    "start_time": "2024-05-22T19:00:53.788Z"
   },
   {
    "duration": 26,
    "start_time": "2024-05-22T19:02:34.021Z"
   },
   {
    "duration": 26,
    "start_time": "2024-05-22T19:03:47.179Z"
   },
   {
    "duration": 706,
    "start_time": "2024-05-22T19:03:57.340Z"
   },
   {
    "duration": 1569,
    "start_time": "2024-05-22T19:03:58.050Z"
   },
   {
    "duration": 18,
    "start_time": "2024-05-22T19:03:59.621Z"
   },
   {
    "duration": 16,
    "start_time": "2024-05-22T19:03:59.643Z"
   },
   {
    "duration": 13,
    "start_time": "2024-05-22T19:03:59.661Z"
   },
   {
    "duration": 54,
    "start_time": "2024-05-22T19:03:59.677Z"
   },
   {
    "duration": 13,
    "start_time": "2024-05-22T19:03:59.734Z"
   },
   {
    "duration": 181,
    "start_time": "2024-05-22T19:03:59.751Z"
   },
   {
    "duration": 0,
    "start_time": "2024-05-22T19:03:59.938Z"
   },
   {
    "duration": 0,
    "start_time": "2024-05-22T19:03:59.940Z"
   },
   {
    "duration": 0,
    "start_time": "2024-05-22T19:03:59.943Z"
   },
   {
    "duration": 0,
    "start_time": "2024-05-22T19:03:59.945Z"
   },
   {
    "duration": 0,
    "start_time": "2024-05-22T19:03:59.946Z"
   },
   {
    "duration": 1,
    "start_time": "2024-05-22T19:03:59.948Z"
   },
   {
    "duration": 0,
    "start_time": "2024-05-22T19:03:59.951Z"
   },
   {
    "duration": 0,
    "start_time": "2024-05-22T19:03:59.953Z"
   },
   {
    "duration": 0,
    "start_time": "2024-05-22T19:03:59.955Z"
   },
   {
    "duration": 0,
    "start_time": "2024-05-22T19:03:59.958Z"
   },
   {
    "duration": 0,
    "start_time": "2024-05-22T19:03:59.960Z"
   },
   {
    "duration": 0,
    "start_time": "2024-05-22T19:03:59.963Z"
   },
   {
    "duration": 0,
    "start_time": "2024-05-22T19:03:59.965Z"
   },
   {
    "duration": 0,
    "start_time": "2024-05-22T19:03:59.967Z"
   },
   {
    "duration": 0,
    "start_time": "2024-05-22T19:03:59.969Z"
   },
   {
    "duration": 0,
    "start_time": "2024-05-22T19:03:59.972Z"
   },
   {
    "duration": 0,
    "start_time": "2024-05-22T19:03:59.974Z"
   },
   {
    "duration": 0,
    "start_time": "2024-05-22T19:04:00.031Z"
   },
   {
    "duration": 0,
    "start_time": "2024-05-22T19:04:00.034Z"
   },
   {
    "duration": 0,
    "start_time": "2024-05-22T19:04:00.036Z"
   },
   {
    "duration": 0,
    "start_time": "2024-05-22T19:04:00.038Z"
   },
   {
    "duration": 0,
    "start_time": "2024-05-22T19:04:00.040Z"
   },
   {
    "duration": 0,
    "start_time": "2024-05-22T19:04:00.042Z"
   },
   {
    "duration": 0,
    "start_time": "2024-05-22T19:04:00.044Z"
   },
   {
    "duration": 0,
    "start_time": "2024-05-22T19:04:00.045Z"
   },
   {
    "duration": 0,
    "start_time": "2024-05-22T19:04:00.048Z"
   },
   {
    "duration": 0,
    "start_time": "2024-05-22T19:04:00.051Z"
   },
   {
    "duration": 1,
    "start_time": "2024-05-22T19:04:00.053Z"
   },
   {
    "duration": 10,
    "start_time": "2024-05-22T19:04:07.429Z"
   },
   {
    "duration": 30,
    "start_time": "2024-05-22T19:04:54.920Z"
   },
   {
    "duration": 677,
    "start_time": "2024-05-22T19:05:07.556Z"
   },
   {
    "duration": 1560,
    "start_time": "2024-05-22T19:05:08.236Z"
   },
   {
    "duration": 31,
    "start_time": "2024-05-22T19:05:09.800Z"
   },
   {
    "duration": 18,
    "start_time": "2024-05-22T19:05:09.835Z"
   },
   {
    "duration": 13,
    "start_time": "2024-05-22T19:05:09.859Z"
   },
   {
    "duration": 54,
    "start_time": "2024-05-22T19:05:09.876Z"
   },
   {
    "duration": 15,
    "start_time": "2024-05-22T19:05:09.933Z"
   },
   {
    "duration": 5,
    "start_time": "2024-05-22T19:05:09.950Z"
   },
   {
    "duration": 384,
    "start_time": "2024-05-22T19:05:09.958Z"
   },
   {
    "duration": 18,
    "start_time": "2024-05-22T19:05:10.345Z"
   },
   {
    "duration": 213,
    "start_time": "2024-05-22T19:05:10.366Z"
   },
   {
    "duration": 167,
    "start_time": "2024-05-22T19:05:10.581Z"
   },
   {
    "duration": 95,
    "start_time": "2024-05-22T19:05:10.750Z"
   },
   {
    "duration": 23,
    "start_time": "2024-05-22T19:05:10.852Z"
   },
   {
    "duration": 23,
    "start_time": "2024-05-22T19:05:10.877Z"
   },
   {
    "duration": 39,
    "start_time": "2024-05-22T19:05:10.932Z"
   },
   {
    "duration": 56,
    "start_time": "2024-05-22T19:05:10.978Z"
   },
   {
    "duration": 7,
    "start_time": "2024-05-22T19:05:11.037Z"
   },
   {
    "duration": 28,
    "start_time": "2024-05-22T19:05:11.047Z"
   },
   {
    "duration": 3,
    "start_time": "2024-05-22T19:05:11.078Z"
   },
   {
    "duration": 4,
    "start_time": "2024-05-22T19:05:11.084Z"
   },
   {
    "duration": 4,
    "start_time": "2024-05-22T19:05:11.131Z"
   },
   {
    "duration": 3,
    "start_time": "2024-05-22T19:05:11.139Z"
   },
   {
    "duration": 3,
    "start_time": "2024-05-22T19:05:11.145Z"
   },
   {
    "duration": 4,
    "start_time": "2024-05-22T19:05:11.151Z"
   },
   {
    "duration": 3,
    "start_time": "2024-05-22T19:05:11.159Z"
   },
   {
    "duration": 4,
    "start_time": "2024-05-22T19:05:11.166Z"
   },
   {
    "duration": 59,
    "start_time": "2024-05-22T19:05:11.172Z"
   },
   {
    "duration": 4,
    "start_time": "2024-05-22T19:05:11.234Z"
   },
   {
    "duration": 4,
    "start_time": "2024-05-22T19:05:11.241Z"
   },
   {
    "duration": 3,
    "start_time": "2024-05-22T19:05:11.249Z"
   },
   {
    "duration": 4,
    "start_time": "2024-05-22T19:05:11.255Z"
   },
   {
    "duration": 19,
    "start_time": "2024-05-22T19:05:11.263Z"
   },
   {
    "duration": 3,
    "start_time": "2024-05-22T19:05:11.286Z"
   },
   {
    "duration": 3,
    "start_time": "2024-05-22T19:05:11.330Z"
   },
   {
    "duration": 6,
    "start_time": "2024-05-22T19:06:22.617Z"
   },
   {
    "duration": 28,
    "start_time": "2024-05-22T19:08:11.878Z"
   },
   {
    "duration": 1734,
    "start_time": "2024-05-22T19:12:10.696Z"
   },
   {
    "duration": 1361,
    "start_time": "2024-05-22T19:12:18.722Z"
   },
   {
    "duration": 26,
    "start_time": "2024-05-22T19:14:41.946Z"
   },
   {
    "duration": 16,
    "start_time": "2024-05-22T19:15:05.880Z"
   },
   {
    "duration": 18,
    "start_time": "2024-05-22T19:15:17.900Z"
   },
   {
    "duration": 14,
    "start_time": "2024-05-22T19:17:23.471Z"
   },
   {
    "duration": 5,
    "start_time": "2024-05-22T19:19:08.445Z"
   },
   {
    "duration": 7,
    "start_time": "2024-05-22T19:19:17.994Z"
   },
   {
    "duration": 5,
    "start_time": "2024-05-22T19:19:36.884Z"
   },
   {
    "duration": 14,
    "start_time": "2024-05-22T19:20:34.956Z"
   },
   {
    "duration": 18,
    "start_time": "2024-05-22T19:20:49.351Z"
   },
   {
    "duration": 869,
    "start_time": "2024-05-22T19:21:13.073Z"
   },
   {
    "duration": 19,
    "start_time": "2024-05-22T19:21:20.475Z"
   },
   {
    "duration": 81,
    "start_time": "2024-05-22T19:21:26.868Z"
   },
   {
    "duration": 24,
    "start_time": "2024-05-22T19:21:30.378Z"
   },
   {
    "duration": 6,
    "start_time": "2024-05-22T19:21:52.618Z"
   },
   {
    "duration": 5,
    "start_time": "2024-05-22T19:24:01.067Z"
   },
   {
    "duration": 644,
    "start_time": "2024-05-22T19:34:57.398Z"
   },
   {
    "duration": 1566,
    "start_time": "2024-05-22T19:34:58.659Z"
   },
   {
    "duration": 18,
    "start_time": "2024-05-22T19:35:00.228Z"
   },
   {
    "duration": 20,
    "start_time": "2024-05-22T19:35:00.248Z"
   },
   {
    "duration": 13,
    "start_time": "2024-05-22T19:35:00.277Z"
   },
   {
    "duration": 46,
    "start_time": "2024-05-22T19:35:00.295Z"
   },
   {
    "duration": 15,
    "start_time": "2024-05-22T19:35:00.345Z"
   },
   {
    "duration": 4,
    "start_time": "2024-05-22T19:35:11.070Z"
   },
   {
    "duration": 341,
    "start_time": "2024-05-22T19:35:16.076Z"
   },
   {
    "duration": 18,
    "start_time": "2024-05-22T19:35:36.572Z"
   },
   {
    "duration": 189,
    "start_time": "2024-05-22T19:35:44.695Z"
   },
   {
    "duration": 170,
    "start_time": "2024-05-22T19:35:46.025Z"
   },
   {
    "duration": 84,
    "start_time": "2024-05-22T19:35:53.687Z"
   },
   {
    "duration": 25,
    "start_time": "2024-05-22T19:36:11.998Z"
   },
   {
    "duration": 26,
    "start_time": "2024-05-22T19:36:16.331Z"
   },
   {
    "duration": 36,
    "start_time": "2024-05-22T19:36:21.693Z"
   },
   {
    "duration": 25,
    "start_time": "2024-05-22T19:37:03.767Z"
   },
   {
    "duration": 28,
    "start_time": "2024-05-22T19:37:10.807Z"
   },
   {
    "duration": 41,
    "start_time": "2024-05-22T19:47:13.063Z"
   },
   {
    "duration": 36,
    "start_time": "2024-05-22T19:47:28.095Z"
   },
   {
    "duration": 6,
    "start_time": "2024-05-22T19:49:10.306Z"
   },
   {
    "duration": 7,
    "start_time": "2024-05-22T19:49:42.532Z"
   },
   {
    "duration": 390,
    "start_time": "2024-05-22T19:50:28.260Z"
   },
   {
    "duration": 466,
    "start_time": "2024-05-22T19:51:14.278Z"
   },
   {
    "duration": 662,
    "start_time": "2024-05-22T19:52:40.673Z"
   },
   {
    "duration": 1637,
    "start_time": "2024-05-22T19:52:41.339Z"
   },
   {
    "duration": 23,
    "start_time": "2024-05-22T19:52:42.979Z"
   },
   {
    "duration": 38,
    "start_time": "2024-05-22T19:52:43.005Z"
   },
   {
    "duration": 13,
    "start_time": "2024-05-22T19:52:43.048Z"
   },
   {
    "duration": 15,
    "start_time": "2024-05-22T19:52:43.065Z"
   },
   {
    "duration": 54,
    "start_time": "2024-05-22T19:52:43.082Z"
   },
   {
    "duration": 5,
    "start_time": "2024-05-22T19:52:43.139Z"
   },
   {
    "duration": 369,
    "start_time": "2024-05-22T19:52:43.147Z"
   },
   {
    "duration": 21,
    "start_time": "2024-05-22T19:52:43.519Z"
   },
   {
    "duration": 209,
    "start_time": "2024-05-22T19:52:43.543Z"
   },
   {
    "duration": 166,
    "start_time": "2024-05-22T19:52:43.755Z"
   },
   {
    "duration": 85,
    "start_time": "2024-05-22T19:52:43.930Z"
   },
   {
    "duration": 21,
    "start_time": "2024-05-22T19:52:44.030Z"
   },
   {
    "duration": 26,
    "start_time": "2024-05-22T19:52:44.053Z"
   },
   {
    "duration": 65,
    "start_time": "2024-05-22T19:52:44.086Z"
   },
   {
    "duration": 39,
    "start_time": "2024-05-22T19:52:44.155Z"
   },
   {
    "duration": 5,
    "start_time": "2024-05-22T19:52:44.198Z"
   },
   {
    "duration": 27,
    "start_time": "2024-05-22T19:52:44.234Z"
   },
   {
    "duration": 12,
    "start_time": "2024-05-22T19:52:44.264Z"
   },
   {
    "duration": 56,
    "start_time": "2024-05-22T19:52:44.280Z"
   },
   {
    "duration": 1336,
    "start_time": "2024-05-22T19:52:44.339Z"
   },
   {
    "duration": 3,
    "start_time": "2024-05-22T19:52:45.678Z"
   },
   {
    "duration": 18,
    "start_time": "2024-05-22T19:52:45.684Z"
   },
   {
    "duration": 5,
    "start_time": "2024-05-22T19:52:45.730Z"
   },
   {
    "duration": 7,
    "start_time": "2024-05-22T19:52:45.737Z"
   },
   {
    "duration": 4,
    "start_time": "2024-05-22T19:52:45.749Z"
   },
   {
    "duration": 4,
    "start_time": "2024-05-22T19:52:45.755Z"
   },
   {
    "duration": 4,
    "start_time": "2024-05-22T19:52:45.763Z"
   },
   {
    "duration": 4,
    "start_time": "2024-05-22T19:52:45.769Z"
   },
   {
    "duration": 55,
    "start_time": "2024-05-22T19:52:45.776Z"
   },
   {
    "duration": 4,
    "start_time": "2024-05-22T19:52:45.837Z"
   },
   {
    "duration": 5,
    "start_time": "2024-05-22T19:52:45.845Z"
   },
   {
    "duration": 3,
    "start_time": "2024-05-22T19:52:45.854Z"
   },
   {
    "duration": 4,
    "start_time": "2024-05-22T19:52:45.860Z"
   },
   {
    "duration": 10,
    "start_time": "2024-05-22T20:07:07.036Z"
   },
   {
    "duration": 14,
    "start_time": "2024-05-22T20:07:18.303Z"
   },
   {
    "duration": 4,
    "start_time": "2024-05-22T20:08:05.029Z"
   },
   {
    "duration": 9,
    "start_time": "2024-05-22T20:08:16.126Z"
   },
   {
    "duration": 7,
    "start_time": "2024-05-22T20:08:16.874Z"
   },
   {
    "duration": 12,
    "start_time": "2024-05-22T20:08:27.892Z"
   },
   {
    "duration": 10,
    "start_time": "2024-05-22T20:08:31.279Z"
   },
   {
    "duration": 9,
    "start_time": "2024-05-22T20:10:21.014Z"
   },
   {
    "duration": 13,
    "start_time": "2024-05-22T20:10:32.560Z"
   },
   {
    "duration": 21,
    "start_time": "2024-05-22T20:10:42.019Z"
   },
   {
    "duration": 17,
    "start_time": "2024-05-22T20:10:46.725Z"
   },
   {
    "duration": 11,
    "start_time": "2024-05-22T20:11:13.724Z"
   },
   {
    "duration": 11,
    "start_time": "2024-05-22T20:11:15.825Z"
   },
   {
    "duration": 15,
    "start_time": "2024-05-22T20:13:29.689Z"
   },
   {
    "duration": 696,
    "start_time": "2024-05-22T20:13:41.677Z"
   },
   {
    "duration": 1575,
    "start_time": "2024-05-22T20:13:42.377Z"
   },
   {
    "duration": 18,
    "start_time": "2024-05-22T20:13:43.955Z"
   },
   {
    "duration": 18,
    "start_time": "2024-05-22T20:13:43.976Z"
   },
   {
    "duration": 34,
    "start_time": "2024-05-22T20:13:43.998Z"
   },
   {
    "duration": 15,
    "start_time": "2024-05-22T20:13:44.035Z"
   },
   {
    "duration": 17,
    "start_time": "2024-05-22T20:13:44.053Z"
   },
   {
    "duration": 7,
    "start_time": "2024-05-22T20:13:44.073Z"
   },
   {
    "duration": 391,
    "start_time": "2024-05-22T20:13:44.086Z"
   },
   {
    "duration": 18,
    "start_time": "2024-05-22T20:13:44.480Z"
   },
   {
    "duration": 227,
    "start_time": "2024-05-22T20:13:44.500Z"
   },
   {
    "duration": 169,
    "start_time": "2024-05-22T20:13:44.731Z"
   },
   {
    "duration": 95,
    "start_time": "2024-05-22T20:13:44.903Z"
   },
   {
    "duration": 33,
    "start_time": "2024-05-22T20:13:45.004Z"
   },
   {
    "duration": 22,
    "start_time": "2024-05-22T20:13:45.041Z"
   },
   {
    "duration": 35,
    "start_time": "2024-05-22T20:13:45.066Z"
   },
   {
    "duration": 32,
    "start_time": "2024-05-22T20:13:45.130Z"
   },
   {
    "duration": 6,
    "start_time": "2024-05-22T20:13:45.165Z"
   },
   {
    "duration": 63,
    "start_time": "2024-05-22T20:13:45.175Z"
   },
   {
    "duration": 7,
    "start_time": "2024-05-22T20:13:45.241Z"
   },
   {
    "duration": 34,
    "start_time": "2024-05-22T20:13:45.253Z"
   },
   {
    "duration": 1372,
    "start_time": "2024-05-22T20:13:45.290Z"
   },
   {
    "duration": 4,
    "start_time": "2024-05-22T20:13:46.664Z"
   },
   {
    "duration": 19,
    "start_time": "2024-05-22T20:13:46.672Z"
   },
   {
    "duration": 37,
    "start_time": "2024-05-22T20:13:46.694Z"
   },
   {
    "duration": 5,
    "start_time": "2024-05-22T20:13:46.734Z"
   },
   {
    "duration": 4,
    "start_time": "2024-05-22T20:13:46.742Z"
   },
   {
    "duration": 10,
    "start_time": "2024-05-22T20:13:46.750Z"
   },
   {
    "duration": 12,
    "start_time": "2024-05-22T20:13:46.764Z"
   },
   {
    "duration": 55,
    "start_time": "2024-05-22T20:13:46.780Z"
   },
   {
    "duration": 4,
    "start_time": "2024-05-22T20:13:46.838Z"
   },
   {
    "duration": 3,
    "start_time": "2024-05-22T20:13:46.846Z"
   },
   {
    "duration": 4,
    "start_time": "2024-05-22T20:13:46.852Z"
   },
   {
    "duration": 4,
    "start_time": "2024-05-22T20:13:46.858Z"
   },
   {
    "duration": 4,
    "start_time": "2024-05-22T20:13:46.865Z"
   },
   {
    "duration": 5,
    "start_time": "2024-05-22T20:13:46.872Z"
   },
   {
    "duration": 3,
    "start_time": "2024-05-22T20:13:46.932Z"
   },
   {
    "duration": 10,
    "start_time": "2024-05-22T20:16:01.311Z"
   },
   {
    "duration": 13,
    "start_time": "2024-05-22T20:16:21.159Z"
   },
   {
    "duration": 8,
    "start_time": "2024-05-22T20:17:28.768Z"
   },
   {
    "duration": 16,
    "start_time": "2024-05-22T20:18:26.517Z"
   },
   {
    "duration": 12,
    "start_time": "2024-05-22T20:18:32.106Z"
   },
   {
    "duration": 8,
    "start_time": "2024-05-22T20:18:36.431Z"
   },
   {
    "duration": 16,
    "start_time": "2024-05-22T20:18:41.066Z"
   },
   {
    "duration": 7,
    "start_time": "2024-05-22T20:19:06.490Z"
   },
   {
    "duration": 160,
    "start_time": "2024-05-22T20:20:02.435Z"
   },
   {
    "duration": 23,
    "start_time": "2024-05-22T20:20:12.671Z"
   },
   {
    "duration": 8,
    "start_time": "2024-05-22T20:20:17.772Z"
   },
   {
    "duration": 18,
    "start_time": "2024-05-22T20:23:56.995Z"
   },
   {
    "duration": 36,
    "start_time": "2024-05-22T20:24:30.392Z"
   },
   {
    "duration": 1028,
    "start_time": "2024-05-22T20:27:20.362Z"
   },
   {
    "duration": 26,
    "start_time": "2024-05-22T20:27:34.999Z"
   },
   {
    "duration": 48,
    "start_time": "2024-05-22T20:28:05.548Z"
   },
   {
    "duration": 51,
    "start_time": "2024-05-22T20:29:01.855Z"
   },
   {
    "duration": 48,
    "start_time": "2024-05-22T20:29:10.299Z"
   },
   {
    "duration": 20,
    "start_time": "2024-05-22T20:34:27.922Z"
   },
   {
    "duration": 9,
    "start_time": "2024-05-22T20:35:16.943Z"
   },
   {
    "duration": 30,
    "start_time": "2024-05-22T20:36:36.922Z"
   },
   {
    "duration": 10,
    "start_time": "2024-05-22T20:36:45.032Z"
   },
   {
    "duration": 27,
    "start_time": "2024-05-22T20:36:46.180Z"
   },
   {
    "duration": 13,
    "start_time": "2024-05-22T20:37:20.240Z"
   },
   {
    "duration": 679,
    "start_time": "2024-05-22T20:37:44.203Z"
   },
   {
    "duration": 1575,
    "start_time": "2024-05-22T20:37:44.885Z"
   },
   {
    "duration": 19,
    "start_time": "2024-05-22T20:37:46.463Z"
   },
   {
    "duration": 17,
    "start_time": "2024-05-22T20:37:46.485Z"
   },
   {
    "duration": 12,
    "start_time": "2024-05-22T20:37:46.530Z"
   },
   {
    "duration": 14,
    "start_time": "2024-05-22T20:37:46.545Z"
   },
   {
    "duration": 14,
    "start_time": "2024-05-22T20:37:46.562Z"
   },
   {
    "duration": 4,
    "start_time": "2024-05-22T20:37:46.579Z"
   },
   {
    "duration": 349,
    "start_time": "2024-05-22T20:37:46.631Z"
   },
   {
    "duration": 17,
    "start_time": "2024-05-22T20:37:46.983Z"
   },
   {
    "duration": 219,
    "start_time": "2024-05-22T20:37:47.003Z"
   },
   {
    "duration": 173,
    "start_time": "2024-05-22T20:37:47.225Z"
   },
   {
    "duration": 108,
    "start_time": "2024-05-22T20:37:47.401Z"
   },
   {
    "duration": 32,
    "start_time": "2024-05-22T20:37:47.517Z"
   },
   {
    "duration": 23,
    "start_time": "2024-05-22T20:37:47.552Z"
   },
   {
    "duration": 60,
    "start_time": "2024-05-22T20:37:47.577Z"
   },
   {
    "duration": 32,
    "start_time": "2024-05-22T20:37:47.639Z"
   },
   {
    "duration": 5,
    "start_time": "2024-05-22T20:37:47.674Z"
   },
   {
    "duration": 64,
    "start_time": "2024-05-22T20:37:47.682Z"
   },
   {
    "duration": 6,
    "start_time": "2024-05-22T20:37:47.749Z"
   },
   {
    "duration": 27,
    "start_time": "2024-05-22T20:37:47.758Z"
   },
   {
    "duration": 1367,
    "start_time": "2024-05-22T20:37:47.788Z"
   },
   {
    "duration": 4,
    "start_time": "2024-05-22T20:37:49.158Z"
   },
   {
    "duration": 20,
    "start_time": "2024-05-22T20:37:49.165Z"
   },
   {
    "duration": 5,
    "start_time": "2024-05-22T20:37:49.188Z"
   },
   {
    "duration": 38,
    "start_time": "2024-05-22T20:37:49.197Z"
   },
   {
    "duration": 3,
    "start_time": "2024-05-22T20:37:49.239Z"
   },
   {
    "duration": 11,
    "start_time": "2024-05-22T20:37:49.245Z"
   },
   {
    "duration": 12,
    "start_time": "2024-05-22T20:37:49.259Z"
   },
   {
    "duration": 57,
    "start_time": "2024-05-22T20:37:49.275Z"
   },
   {
    "duration": 10,
    "start_time": "2024-05-22T20:37:49.336Z"
   },
   {
    "duration": 9,
    "start_time": "2024-05-22T20:37:49.349Z"
   },
   {
    "duration": 28,
    "start_time": "2024-05-22T20:37:49.361Z"
   },
   {
    "duration": 92,
    "start_time": "2024-05-22T20:37:49.391Z"
   },
   {
    "duration": 3,
    "start_time": "2024-05-22T20:37:49.487Z"
   },
   {
    "duration": 23,
    "start_time": "2024-05-22T20:37:49.529Z"
   },
   {
    "duration": 3,
    "start_time": "2024-05-22T20:37:49.555Z"
   },
   {
    "duration": 662,
    "start_time": "2024-05-22T20:39:50.581Z"
   },
   {
    "duration": 1585,
    "start_time": "2024-05-22T20:39:51.247Z"
   },
   {
    "duration": 19,
    "start_time": "2024-05-22T20:39:52.835Z"
   },
   {
    "duration": 17,
    "start_time": "2024-05-22T20:39:52.858Z"
   },
   {
    "duration": 12,
    "start_time": "2024-05-22T20:39:52.877Z"
   },
   {
    "duration": 52,
    "start_time": "2024-05-22T20:39:52.892Z"
   },
   {
    "duration": 15,
    "start_time": "2024-05-22T20:39:52.947Z"
   },
   {
    "duration": 4,
    "start_time": "2024-05-22T20:39:52.965Z"
   },
   {
    "duration": 384,
    "start_time": "2024-05-22T20:39:52.972Z"
   },
   {
    "duration": 17,
    "start_time": "2024-05-22T20:39:53.362Z"
   },
   {
    "duration": 227,
    "start_time": "2024-05-22T20:39:53.382Z"
   },
   {
    "duration": 175,
    "start_time": "2024-05-22T20:39:53.612Z"
   },
   {
    "duration": 95,
    "start_time": "2024-05-22T20:39:53.790Z"
   },
   {
    "duration": 21,
    "start_time": "2024-05-22T20:39:53.888Z"
   },
   {
    "duration": 34,
    "start_time": "2024-05-22T20:39:53.912Z"
   },
   {
    "duration": 35,
    "start_time": "2024-05-22T20:39:53.949Z"
   },
   {
    "duration": 65,
    "start_time": "2024-05-22T20:39:53.988Z"
   },
   {
    "duration": 6,
    "start_time": "2024-05-22T20:39:54.056Z"
   },
   {
    "duration": 27,
    "start_time": "2024-05-22T20:39:54.065Z"
   },
   {
    "duration": 37,
    "start_time": "2024-05-22T20:39:54.095Z"
   },
   {
    "duration": 26,
    "start_time": "2024-05-22T20:39:54.136Z"
   },
   {
    "duration": 1355,
    "start_time": "2024-05-22T20:39:54.165Z"
   },
   {
    "duration": 8,
    "start_time": "2024-05-22T20:39:55.523Z"
   },
   {
    "duration": 18,
    "start_time": "2024-05-22T20:39:55.534Z"
   },
   {
    "duration": 5,
    "start_time": "2024-05-22T20:39:55.555Z"
   },
   {
    "duration": 6,
    "start_time": "2024-05-22T20:39:55.563Z"
   },
   {
    "duration": 5,
    "start_time": "2024-05-22T20:39:55.571Z"
   },
   {
    "duration": 12,
    "start_time": "2024-05-22T20:39:55.631Z"
   },
   {
    "duration": 14,
    "start_time": "2024-05-22T20:39:55.647Z"
   },
   {
    "duration": 11,
    "start_time": "2024-05-22T20:39:55.665Z"
   },
   {
    "duration": 53,
    "start_time": "2024-05-22T20:39:55.680Z"
   },
   {
    "duration": 10,
    "start_time": "2024-05-22T20:39:55.737Z"
   },
   {
    "duration": 31,
    "start_time": "2024-05-22T20:39:55.751Z"
   },
   {
    "duration": 86,
    "start_time": "2024-05-22T20:39:55.787Z"
   },
   {
    "duration": 3,
    "start_time": "2024-05-22T20:39:55.876Z"
   },
   {
    "duration": 3,
    "start_time": "2024-05-22T20:39:55.883Z"
   },
   {
    "duration": 5,
    "start_time": "2024-05-22T20:39:55.890Z"
   },
   {
    "duration": 21,
    "start_time": "2024-05-22T20:45:37.805Z"
   },
   {
    "duration": 11,
    "start_time": "2024-05-22T20:46:19.181Z"
   },
   {
    "duration": 7,
    "start_time": "2024-05-22T20:46:32.582Z"
   },
   {
    "duration": 713,
    "start_time": "2024-05-22T20:46:45.512Z"
   },
   {
    "duration": 1563,
    "start_time": "2024-05-22T20:46:46.231Z"
   },
   {
    "duration": 20,
    "start_time": "2024-05-22T20:46:47.798Z"
   },
   {
    "duration": 17,
    "start_time": "2024-05-22T20:46:47.829Z"
   },
   {
    "duration": 11,
    "start_time": "2024-05-22T20:46:47.851Z"
   },
   {
    "duration": 15,
    "start_time": "2024-05-22T20:46:47.864Z"
   },
   {
    "duration": 48,
    "start_time": "2024-05-22T20:46:47.882Z"
   },
   {
    "duration": 5,
    "start_time": "2024-05-22T20:46:47.933Z"
   },
   {
    "duration": 390,
    "start_time": "2024-05-22T20:46:47.941Z"
   },
   {
    "duration": 17,
    "start_time": "2024-05-22T20:46:48.333Z"
   },
   {
    "duration": 293,
    "start_time": "2024-05-22T20:46:48.353Z"
   },
   {
    "duration": 172,
    "start_time": "2024-05-22T20:46:48.649Z"
   },
   {
    "duration": 87,
    "start_time": "2024-05-22T20:46:48.824Z"
   },
   {
    "duration": 21,
    "start_time": "2024-05-22T20:46:48.930Z"
   },
   {
    "duration": 25,
    "start_time": "2024-05-22T20:46:48.954Z"
   },
   {
    "duration": 64,
    "start_time": "2024-05-22T20:46:48.982Z"
   },
   {
    "duration": 34,
    "start_time": "2024-05-22T20:46:49.048Z"
   },
   {
    "duration": 6,
    "start_time": "2024-05-22T20:46:49.085Z"
   },
   {
    "duration": 60,
    "start_time": "2024-05-22T20:46:49.093Z"
   },
   {
    "duration": 6,
    "start_time": "2024-05-22T20:46:49.156Z"
   },
   {
    "duration": 65,
    "start_time": "2024-05-22T20:46:49.165Z"
   },
   {
    "duration": 1370,
    "start_time": "2024-05-22T20:46:49.233Z"
   },
   {
    "duration": 4,
    "start_time": "2024-05-22T20:46:50.606Z"
   },
   {
    "duration": 18,
    "start_time": "2024-05-22T20:46:50.630Z"
   },
   {
    "duration": 5,
    "start_time": "2024-05-22T20:46:50.651Z"
   },
   {
    "duration": 6,
    "start_time": "2024-05-22T20:46:50.659Z"
   },
   {
    "duration": 3,
    "start_time": "2024-05-22T20:46:50.668Z"
   },
   {
    "duration": 12,
    "start_time": "2024-05-22T20:46:50.674Z"
   },
   {
    "duration": 12,
    "start_time": "2024-05-22T20:46:50.732Z"
   },
   {
    "duration": 7,
    "start_time": "2024-05-22T20:46:50.747Z"
   },
   {
    "duration": 10,
    "start_time": "2024-05-22T20:46:50.757Z"
   },
   {
    "duration": 9,
    "start_time": "2024-05-22T20:46:50.770Z"
   },
   {
    "duration": 72,
    "start_time": "2024-05-22T20:46:50.781Z"
   },
   {
    "duration": 75,
    "start_time": "2024-05-22T20:46:50.857Z"
   },
   {
    "duration": 4,
    "start_time": "2024-05-22T20:46:50.941Z"
   },
   {
    "duration": 3,
    "start_time": "2024-05-22T20:46:50.949Z"
   },
   {
    "duration": 6,
    "start_time": "2024-05-22T20:46:50.959Z"
   },
   {
    "duration": 5,
    "start_time": "2024-05-22T20:46:56.450Z"
   },
   {
    "duration": 7,
    "start_time": "2024-05-22T20:47:07.983Z"
   },
   {
    "duration": 25,
    "start_time": "2024-05-22T20:47:17.730Z"
   },
   {
    "duration": 7,
    "start_time": "2024-05-22T20:49:33.253Z"
   },
   {
    "duration": 348,
    "start_time": "2024-05-22T20:49:46.440Z"
   },
   {
    "duration": 10,
    "start_time": "2024-05-22T20:50:03.757Z"
   },
   {
    "duration": 24,
    "start_time": "2024-05-22T20:50:07.152Z"
   },
   {
    "duration": 20,
    "start_time": "2024-05-22T20:50:15.972Z"
   },
   {
    "duration": 4,
    "start_time": "2024-05-22T20:50:57.808Z"
   },
   {
    "duration": 57,
    "start_time": "2024-05-22T20:51:27.164Z"
   },
   {
    "duration": 24,
    "start_time": "2024-05-22T20:53:48.148Z"
   },
   {
    "duration": 63,
    "start_time": "2024-05-22T20:53:55.507Z"
   },
   {
    "duration": 62,
    "start_time": "2024-05-22T20:54:09.380Z"
   },
   {
    "duration": 62,
    "start_time": "2024-05-22T20:55:38.787Z"
   },
   {
    "duration": 672,
    "start_time": "2024-05-22T20:55:49.670Z"
   },
   {
    "duration": 1539,
    "start_time": "2024-05-22T20:55:50.345Z"
   },
   {
    "duration": 18,
    "start_time": "2024-05-22T20:55:51.887Z"
   },
   {
    "duration": 33,
    "start_time": "2024-05-22T20:55:51.910Z"
   },
   {
    "duration": 11,
    "start_time": "2024-05-22T20:55:51.946Z"
   },
   {
    "duration": 14,
    "start_time": "2024-05-22T20:55:51.961Z"
   },
   {
    "duration": 14,
    "start_time": "2024-05-22T20:55:51.977Z"
   },
   {
    "duration": 6,
    "start_time": "2024-05-22T20:55:52.032Z"
   },
   {
    "duration": 394,
    "start_time": "2024-05-22T20:55:52.041Z"
   },
   {
    "duration": 20,
    "start_time": "2024-05-22T20:55:52.441Z"
   },
   {
    "duration": 222,
    "start_time": "2024-05-22T20:55:52.465Z"
   },
   {
    "duration": 171,
    "start_time": "2024-05-22T20:55:52.690Z"
   },
   {
    "duration": 92,
    "start_time": "2024-05-22T20:55:52.864Z"
   },
   {
    "duration": 22,
    "start_time": "2024-05-22T20:55:52.959Z"
   },
   {
    "duration": 46,
    "start_time": "2024-05-22T20:55:52.984Z"
   },
   {
    "duration": 36,
    "start_time": "2024-05-22T20:55:53.034Z"
   },
   {
    "duration": 58,
    "start_time": "2024-05-22T20:55:53.074Z"
   },
   {
    "duration": 9,
    "start_time": "2024-05-22T20:55:53.135Z"
   },
   {
    "duration": 29,
    "start_time": "2024-05-22T20:55:53.147Z"
   },
   {
    "duration": 6,
    "start_time": "2024-05-22T20:55:53.181Z"
   },
   {
    "duration": 66,
    "start_time": "2024-05-22T20:55:53.190Z"
   },
   {
    "duration": 1341,
    "start_time": "2024-05-22T20:55:53.261Z"
   },
   {
    "duration": 3,
    "start_time": "2024-05-22T20:55:54.605Z"
   },
   {
    "duration": 34,
    "start_time": "2024-05-22T20:55:54.612Z"
   },
   {
    "duration": 4,
    "start_time": "2024-05-22T20:55:54.651Z"
   },
   {
    "duration": 7,
    "start_time": "2024-05-22T20:55:54.658Z"
   },
   {
    "duration": 3,
    "start_time": "2024-05-22T20:55:54.668Z"
   },
   {
    "duration": 55,
    "start_time": "2024-05-22T20:55:54.679Z"
   },
   {
    "duration": 14,
    "start_time": "2024-05-22T20:55:54.738Z"
   },
   {
    "duration": 10,
    "start_time": "2024-05-22T20:55:54.756Z"
   },
   {
    "duration": 10,
    "start_time": "2024-05-22T20:55:54.770Z"
   },
   {
    "duration": 51,
    "start_time": "2024-05-22T20:55:54.784Z"
   },
   {
    "duration": 27,
    "start_time": "2024-05-22T20:55:54.838Z"
   },
   {
    "duration": 80,
    "start_time": "2024-05-22T20:55:54.868Z"
   },
   {
    "duration": 25,
    "start_time": "2024-05-22T20:55:54.951Z"
   },
   {
    "duration": 4,
    "start_time": "2024-05-22T20:55:54.979Z"
   },
   {
    "duration": 1548,
    "start_time": "2024-05-22T20:55:54.986Z"
   },
   {
    "duration": 101,
    "start_time": "2024-05-22T20:57:07.983Z"
   },
   {
    "duration": 671,
    "start_time": "2024-05-22T20:57:15.696Z"
   },
   {
    "duration": 1564,
    "start_time": "2024-05-22T20:57:16.370Z"
   },
   {
    "duration": 19,
    "start_time": "2024-05-22T20:57:17.937Z"
   },
   {
    "duration": 16,
    "start_time": "2024-05-22T20:57:17.959Z"
   },
   {
    "duration": 12,
    "start_time": "2024-05-22T20:57:17.980Z"
   },
   {
    "duration": 48,
    "start_time": "2024-05-22T20:57:17.995Z"
   },
   {
    "duration": 14,
    "start_time": "2024-05-22T20:57:18.046Z"
   },
   {
    "duration": 6,
    "start_time": "2024-05-22T20:57:18.062Z"
   },
   {
    "duration": 394,
    "start_time": "2024-05-22T20:57:18.072Z"
   },
   {
    "duration": 23,
    "start_time": "2024-05-22T20:57:18.469Z"
   },
   {
    "duration": 236,
    "start_time": "2024-05-22T20:57:18.495Z"
   },
   {
    "duration": 176,
    "start_time": "2024-05-22T20:57:18.734Z"
   },
   {
    "duration": 95,
    "start_time": "2024-05-22T20:57:18.913Z"
   },
   {
    "duration": 33,
    "start_time": "2024-05-22T20:57:19.016Z"
   },
   {
    "duration": 23,
    "start_time": "2024-05-22T20:57:19.052Z"
   },
   {
    "duration": 62,
    "start_time": "2024-05-22T20:57:19.079Z"
   },
   {
    "duration": 33,
    "start_time": "2024-05-22T20:57:19.144Z"
   },
   {
    "duration": 6,
    "start_time": "2024-05-22T20:57:19.180Z"
   },
   {
    "duration": 61,
    "start_time": "2024-05-22T20:57:19.190Z"
   },
   {
    "duration": 6,
    "start_time": "2024-05-22T20:57:19.254Z"
   },
   {
    "duration": 28,
    "start_time": "2024-05-22T20:57:19.263Z"
   },
   {
    "duration": 1417,
    "start_time": "2024-05-22T20:57:19.294Z"
   },
   {
    "duration": 4,
    "start_time": "2024-05-22T20:57:20.713Z"
   },
   {
    "duration": 20,
    "start_time": "2024-05-22T20:57:20.732Z"
   },
   {
    "duration": 7,
    "start_time": "2024-05-22T20:57:20.756Z"
   },
   {
    "duration": 6,
    "start_time": "2024-05-22T20:57:20.767Z"
   },
   {
    "duration": 4,
    "start_time": "2024-05-22T20:57:20.776Z"
   },
   {
    "duration": 59,
    "start_time": "2024-05-22T20:57:20.784Z"
   },
   {
    "duration": 13,
    "start_time": "2024-05-22T20:57:20.846Z"
   },
   {
    "duration": 7,
    "start_time": "2024-05-22T20:57:20.863Z"
   },
   {
    "duration": 12,
    "start_time": "2024-05-22T20:57:20.873Z"
   },
   {
    "duration": 8,
    "start_time": "2024-05-22T20:57:20.931Z"
   },
   {
    "duration": 27,
    "start_time": "2024-05-22T20:57:20.943Z"
   },
   {
    "duration": 80,
    "start_time": "2024-05-22T20:57:20.974Z"
   },
   {
    "duration": 26,
    "start_time": "2024-05-22T20:57:21.057Z"
   },
   {
    "duration": 3,
    "start_time": "2024-05-22T20:57:21.087Z"
   },
   {
    "duration": 1505,
    "start_time": "2024-05-22T20:57:21.094Z"
   },
   {
    "duration": 676,
    "start_time": "2024-05-22T20:57:40.168Z"
   },
   {
    "duration": 1622,
    "start_time": "2024-05-22T20:57:40.848Z"
   },
   {
    "duration": 22,
    "start_time": "2024-05-22T20:57:42.474Z"
   },
   {
    "duration": 34,
    "start_time": "2024-05-22T20:57:42.498Z"
   },
   {
    "duration": 12,
    "start_time": "2024-05-22T20:57:42.537Z"
   },
   {
    "duration": 13,
    "start_time": "2024-05-22T20:57:42.553Z"
   },
   {
    "duration": 13,
    "start_time": "2024-05-22T20:57:42.570Z"
   },
   {
    "duration": 44,
    "start_time": "2024-05-22T20:57:42.586Z"
   },
   {
    "duration": 379,
    "start_time": "2024-05-22T20:57:42.633Z"
   },
   {
    "duration": 27,
    "start_time": "2024-05-22T20:57:43.016Z"
   },
   {
    "duration": 228,
    "start_time": "2024-05-22T20:57:43.045Z"
   },
   {
    "duration": 166,
    "start_time": "2024-05-22T20:57:43.276Z"
   },
   {
    "duration": 98,
    "start_time": "2024-05-22T20:57:43.444Z"
   },
   {
    "duration": 21,
    "start_time": "2024-05-22T20:57:43.550Z"
   },
   {
    "duration": 22,
    "start_time": "2024-05-22T20:57:43.574Z"
   },
   {
    "duration": 63,
    "start_time": "2024-05-22T20:57:43.600Z"
   },
   {
    "duration": 32,
    "start_time": "2024-05-22T20:57:43.666Z"
   },
   {
    "duration": 6,
    "start_time": "2024-05-22T20:57:43.730Z"
   },
   {
    "duration": 26,
    "start_time": "2024-05-22T20:57:43.739Z"
   },
   {
    "duration": 7,
    "start_time": "2024-05-22T20:57:43.768Z"
   },
   {
    "duration": 63,
    "start_time": "2024-05-22T20:57:43.778Z"
   },
   {
    "duration": 1315,
    "start_time": "2024-05-22T20:57:43.844Z"
   },
   {
    "duration": 3,
    "start_time": "2024-05-22T20:57:45.162Z"
   },
   {
    "duration": 18,
    "start_time": "2024-05-22T20:57:45.168Z"
   },
   {
    "duration": 6,
    "start_time": "2024-05-22T20:57:45.190Z"
   },
   {
    "duration": 6,
    "start_time": "2024-05-22T20:57:45.233Z"
   },
   {
    "duration": 4,
    "start_time": "2024-05-22T20:57:45.242Z"
   },
   {
    "duration": 13,
    "start_time": "2024-05-22T20:57:45.250Z"
   },
   {
    "duration": 13,
    "start_time": "2024-05-22T20:57:45.265Z"
   },
   {
    "duration": 55,
    "start_time": "2024-05-22T20:57:45.282Z"
   },
   {
    "duration": 11,
    "start_time": "2024-05-22T20:57:45.340Z"
   },
   {
    "duration": 9,
    "start_time": "2024-05-22T20:57:45.353Z"
   },
   {
    "duration": 65,
    "start_time": "2024-05-22T20:57:45.365Z"
   },
   {
    "duration": 49,
    "start_time": "2024-05-22T20:57:45.433Z"
   },
   {
    "duration": 54,
    "start_time": "2024-05-22T20:57:45.484Z"
   },
   {
    "duration": 3,
    "start_time": "2024-05-22T20:57:45.541Z"
   },
   {
    "duration": 1484,
    "start_time": "2024-05-22T20:57:45.548Z"
   },
   {
    "duration": 645,
    "start_time": "2024-05-22T20:58:16.689Z"
   },
   {
    "duration": 1562,
    "start_time": "2024-05-22T20:58:17.337Z"
   },
   {
    "duration": 30,
    "start_time": "2024-05-22T20:58:18.901Z"
   },
   {
    "duration": 19,
    "start_time": "2024-05-22T20:58:18.933Z"
   },
   {
    "duration": 12,
    "start_time": "2024-05-22T20:58:18.958Z"
   },
   {
    "duration": 14,
    "start_time": "2024-05-22T20:58:18.973Z"
   },
   {
    "duration": 45,
    "start_time": "2024-05-22T20:58:18.990Z"
   },
   {
    "duration": 5,
    "start_time": "2024-05-22T20:58:19.038Z"
   },
   {
    "duration": 385,
    "start_time": "2024-05-22T20:58:19.047Z"
   },
   {
    "duration": 20,
    "start_time": "2024-05-22T20:58:19.435Z"
   },
   {
    "duration": 235,
    "start_time": "2024-05-22T20:58:19.458Z"
   },
   {
    "duration": 169,
    "start_time": "2024-05-22T20:58:19.695Z"
   },
   {
    "duration": 95,
    "start_time": "2024-05-22T20:58:19.867Z"
   },
   {
    "duration": 20,
    "start_time": "2024-05-22T20:58:19.969Z"
   },
   {
    "duration": 46,
    "start_time": "2024-05-22T20:58:19.992Z"
   },
   {
    "duration": 35,
    "start_time": "2024-05-22T20:58:20.041Z"
   },
   {
    "duration": 62,
    "start_time": "2024-05-22T20:58:20.079Z"
   },
   {
    "duration": 5,
    "start_time": "2024-05-22T20:58:20.144Z"
   },
   {
    "duration": 27,
    "start_time": "2024-05-22T20:58:20.153Z"
   },
   {
    "duration": 7,
    "start_time": "2024-05-22T20:58:20.182Z"
   },
   {
    "duration": 26,
    "start_time": "2024-05-22T20:58:20.230Z"
   },
   {
    "duration": 1340,
    "start_time": "2024-05-22T20:58:20.259Z"
   },
   {
    "duration": 3,
    "start_time": "2024-05-22T20:58:21.602Z"
   },
   {
    "duration": 35,
    "start_time": "2024-05-22T20:58:21.609Z"
   },
   {
    "duration": 5,
    "start_time": "2024-05-22T20:58:21.647Z"
   },
   {
    "duration": 5,
    "start_time": "2024-05-22T20:58:21.655Z"
   },
   {
    "duration": 4,
    "start_time": "2024-05-22T20:58:21.664Z"
   },
   {
    "duration": 12,
    "start_time": "2024-05-22T20:58:21.671Z"
   },
   {
    "duration": 12,
    "start_time": "2024-05-22T20:58:21.732Z"
   },
   {
    "duration": 15,
    "start_time": "2024-05-22T20:58:21.748Z"
   },
   {
    "duration": 13,
    "start_time": "2024-05-22T20:58:21.767Z"
   },
   {
    "duration": 47,
    "start_time": "2024-05-22T20:58:21.784Z"
   },
   {
    "duration": 31,
    "start_time": "2024-05-22T20:58:21.835Z"
   },
   {
    "duration": 73,
    "start_time": "2024-05-22T20:58:21.869Z"
   },
   {
    "duration": 27,
    "start_time": "2024-05-22T20:58:21.945Z"
   },
   {
    "duration": 4,
    "start_time": "2024-05-22T20:58:21.974Z"
   },
   {
    "duration": 1550,
    "start_time": "2024-05-22T20:58:21.980Z"
   },
   {
    "duration": 657,
    "start_time": "2024-05-22T20:59:19.079Z"
   },
   {
    "duration": 1558,
    "start_time": "2024-05-22T20:59:19.739Z"
   },
   {
    "duration": 18,
    "start_time": "2024-05-22T20:59:21.299Z"
   },
   {
    "duration": 20,
    "start_time": "2024-05-22T20:59:21.331Z"
   },
   {
    "duration": 15,
    "start_time": "2024-05-22T20:59:21.356Z"
   },
   {
    "duration": 17,
    "start_time": "2024-05-22T20:59:21.375Z"
   },
   {
    "duration": 18,
    "start_time": "2024-05-22T20:59:21.431Z"
   },
   {
    "duration": 4,
    "start_time": "2024-05-22T20:59:21.453Z"
   },
   {
    "duration": 393,
    "start_time": "2024-05-22T20:59:21.460Z"
   },
   {
    "duration": 20,
    "start_time": "2024-05-22T20:59:21.856Z"
   },
   {
    "duration": 224,
    "start_time": "2024-05-22T20:59:21.879Z"
   },
   {
    "duration": 176,
    "start_time": "2024-05-22T20:59:22.105Z"
   },
   {
    "duration": 107,
    "start_time": "2024-05-22T20:59:22.284Z"
   },
   {
    "duration": 32,
    "start_time": "2024-05-22T20:59:22.397Z"
   },
   {
    "duration": 27,
    "start_time": "2024-05-22T20:59:22.433Z"
   },
   {
    "duration": 37,
    "start_time": "2024-05-22T20:59:22.463Z"
   },
   {
    "duration": 65,
    "start_time": "2024-05-22T20:59:22.503Z"
   },
   {
    "duration": 6,
    "start_time": "2024-05-22T20:59:22.573Z"
   },
   {
    "duration": 62,
    "start_time": "2024-05-22T20:59:22.583Z"
   },
   {
    "duration": 6,
    "start_time": "2024-05-22T20:59:22.648Z"
   },
   {
    "duration": 29,
    "start_time": "2024-05-22T20:59:22.657Z"
   },
   {
    "duration": 1380,
    "start_time": "2024-05-22T20:59:22.689Z"
   },
   {
    "duration": 4,
    "start_time": "2024-05-22T20:59:24.073Z"
   },
   {
    "duration": 19,
    "start_time": "2024-05-22T20:59:24.080Z"
   },
   {
    "duration": 36,
    "start_time": "2024-05-22T20:59:24.102Z"
   },
   {
    "duration": 6,
    "start_time": "2024-05-22T20:59:24.142Z"
   },
   {
    "duration": 3,
    "start_time": "2024-05-22T20:59:24.151Z"
   },
   {
    "duration": 12,
    "start_time": "2024-05-22T20:59:24.157Z"
   },
   {
    "duration": 58,
    "start_time": "2024-05-22T20:59:24.172Z"
   },
   {
    "duration": 7,
    "start_time": "2024-05-22T20:59:24.234Z"
   },
   {
    "duration": 10,
    "start_time": "2024-05-22T20:59:24.244Z"
   },
   {
    "duration": 8,
    "start_time": "2024-05-22T20:59:24.257Z"
   },
   {
    "duration": 68,
    "start_time": "2024-05-22T20:59:24.269Z"
   },
   {
    "duration": 54,
    "start_time": "2024-05-22T20:59:24.340Z"
   },
   {
    "duration": 51,
    "start_time": "2024-05-22T20:59:24.398Z"
   },
   {
    "duration": 4,
    "start_time": "2024-05-22T20:59:24.452Z"
   },
   {
    "duration": 4,
    "start_time": "2024-05-22T20:59:24.459Z"
   },
   {
    "duration": 80,
    "start_time": "2024-05-22T21:00:46.511Z"
   },
   {
    "duration": 70,
    "start_time": "2024-05-22T21:00:54.514Z"
   },
   {
    "duration": 61,
    "start_time": "2024-05-22T21:01:11.320Z"
   },
   {
    "duration": 63,
    "start_time": "2024-05-22T21:01:27.287Z"
   },
   {
    "duration": 62,
    "start_time": "2024-05-22T21:01:56.332Z"
   },
   {
    "duration": 62,
    "start_time": "2024-05-22T21:02:04.581Z"
   },
   {
    "duration": 7,
    "start_time": "2024-05-22T21:03:31.232Z"
   },
   {
    "duration": 7,
    "start_time": "2024-05-22T21:03:33.529Z"
   },
   {
    "duration": 359,
    "start_time": "2024-05-22T21:05:47.820Z"
   },
   {
    "duration": 2416,
    "start_time": "2024-05-22T21:06:16.302Z"
   },
   {
    "duration": 431,
    "start_time": "2024-05-22T21:06:59.569Z"
   },
   {
    "duration": 133,
    "start_time": "2024-05-22T21:09:54.973Z"
   },
   {
    "duration": 3273,
    "start_time": "2024-05-22T21:10:04.910Z"
   },
   {
    "duration": 2438,
    "start_time": "2024-05-22T21:10:34.868Z"
   },
   {
    "duration": 349,
    "start_time": "2024-05-22T21:11:02.903Z"
   },
   {
    "duration": 308,
    "start_time": "2024-05-22T21:11:28.143Z"
   },
   {
    "duration": 345,
    "start_time": "2024-05-22T21:12:24.306Z"
   },
   {
    "duration": 369,
    "start_time": "2024-05-22T21:12:31.984Z"
   },
   {
    "duration": 329,
    "start_time": "2024-05-22T21:12:38.483Z"
   },
   {
    "duration": 364,
    "start_time": "2024-05-22T21:12:42.232Z"
   },
   {
    "duration": 496,
    "start_time": "2024-05-22T21:12:51.612Z"
   },
   {
    "duration": 344,
    "start_time": "2024-05-22T21:13:04.301Z"
   },
   {
    "duration": 350,
    "start_time": "2024-05-22T21:13:27.317Z"
   },
   {
    "duration": 363,
    "start_time": "2024-05-22T21:13:41.068Z"
   },
   {
    "duration": 346,
    "start_time": "2024-05-22T21:13:55.038Z"
   },
   {
    "duration": 399,
    "start_time": "2024-05-22T21:14:55.236Z"
   },
   {
    "duration": 373,
    "start_time": "2024-05-22T21:15:01.835Z"
   },
   {
    "duration": 234,
    "start_time": "2024-05-22T21:15:55.333Z"
   },
   {
    "duration": 348,
    "start_time": "2024-05-22T21:16:00.804Z"
   },
   {
    "duration": 342,
    "start_time": "2024-05-22T21:16:19.352Z"
   },
   {
    "duration": 299,
    "start_time": "2024-05-22T21:18:46.074Z"
   },
   {
    "duration": 8,
    "start_time": "2024-05-22T21:19:17.579Z"
   },
   {
    "duration": 331,
    "start_time": "2024-05-22T21:19:24.291Z"
   },
   {
    "duration": 329,
    "start_time": "2024-05-22T21:20:51.741Z"
   },
   {
    "duration": 350,
    "start_time": "2024-05-22T21:21:13.281Z"
   },
   {
    "duration": 405,
    "start_time": "2024-05-22T21:21:41.697Z"
   },
   {
    "duration": 360,
    "start_time": "2024-05-22T21:22:19.850Z"
   },
   {
    "duration": 350,
    "start_time": "2024-05-22T21:22:58.099Z"
   },
   {
    "duration": 7,
    "start_time": "2024-05-22T21:23:45.072Z"
   },
   {
    "duration": 796,
    "start_time": "2024-05-22T21:23:53.008Z"
   },
   {
    "duration": 95,
    "start_time": "2024-05-22T21:24:10.603Z"
   },
   {
    "duration": 349,
    "start_time": "2024-05-22T21:24:16.131Z"
   },
   {
    "duration": 226,
    "start_time": "2024-05-22T21:25:18.861Z"
   },
   {
    "duration": 341,
    "start_time": "2024-05-22T21:25:25.130Z"
   },
   {
    "duration": 337,
    "start_time": "2024-05-22T21:25:29.937Z"
   },
   {
    "duration": 268,
    "start_time": "2024-05-22T21:26:15.328Z"
   },
   {
    "duration": 288,
    "start_time": "2024-05-22T21:29:10.516Z"
   },
   {
    "duration": 311,
    "start_time": "2024-05-22T21:29:42.686Z"
   },
   {
    "duration": 13470,
    "start_time": "2024-05-22T21:34:21.322Z"
   },
   {
    "duration": 2214,
    "start_time": "2024-05-22T21:35:55.660Z"
   },
   {
    "duration": 1979,
    "start_time": "2024-05-22T21:37:11.499Z"
   },
   {
    "duration": 2293,
    "start_time": "2024-05-22T21:37:20.326Z"
   },
   {
    "duration": 1988,
    "start_time": "2024-05-22T21:37:30.274Z"
   },
   {
    "duration": 460,
    "start_time": "2024-05-22T21:37:54.027Z"
   },
   {
    "duration": 320,
    "start_time": "2024-05-22T21:40:24.845Z"
   },
   {
    "duration": 23,
    "start_time": "2024-05-22T21:40:30.782Z"
   },
   {
    "duration": 654,
    "start_time": "2024-05-22T21:40:40.483Z"
   },
   {
    "duration": 1800,
    "start_time": "2024-05-22T21:40:41.140Z"
   },
   {
    "duration": 19,
    "start_time": "2024-05-22T21:40:42.943Z"
   },
   {
    "duration": 17,
    "start_time": "2024-05-22T21:40:42.965Z"
   },
   {
    "duration": 11,
    "start_time": "2024-05-22T21:40:42.987Z"
   },
   {
    "duration": 15,
    "start_time": "2024-05-22T21:40:43.032Z"
   },
   {
    "duration": 14,
    "start_time": "2024-05-22T21:40:43.050Z"
   },
   {
    "duration": 6,
    "start_time": "2024-05-22T21:40:43.067Z"
   },
   {
    "duration": 380,
    "start_time": "2024-05-22T21:40:43.075Z"
   },
   {
    "duration": 18,
    "start_time": "2024-05-22T21:40:43.458Z"
   },
   {
    "duration": 231,
    "start_time": "2024-05-22T21:40:43.479Z"
   },
   {
    "duration": 170,
    "start_time": "2024-05-22T21:40:43.712Z"
   },
   {
    "duration": 90,
    "start_time": "2024-05-22T21:40:43.885Z"
   },
   {
    "duration": 20,
    "start_time": "2024-05-22T21:40:43.983Z"
   },
   {
    "duration": 42,
    "start_time": "2024-05-22T21:40:44.007Z"
   },
   {
    "duration": 36,
    "start_time": "2024-05-22T21:40:44.052Z"
   },
   {
    "duration": 57,
    "start_time": "2024-05-22T21:40:44.091Z"
   },
   {
    "duration": 5,
    "start_time": "2024-05-22T21:40:44.151Z"
   },
   {
    "duration": 27,
    "start_time": "2024-05-22T21:40:44.159Z"
   },
   {
    "duration": 6,
    "start_time": "2024-05-22T21:40:44.188Z"
   },
   {
    "duration": 28,
    "start_time": "2024-05-22T21:40:44.232Z"
   },
   {
    "duration": 1358,
    "start_time": "2024-05-22T21:40:44.262Z"
   },
   {
    "duration": 6,
    "start_time": "2024-05-22T21:40:45.624Z"
   },
   {
    "duration": 22,
    "start_time": "2024-05-22T21:40:45.634Z"
   },
   {
    "duration": 5,
    "start_time": "2024-05-22T21:40:45.659Z"
   },
   {
    "duration": 6,
    "start_time": "2024-05-22T21:40:45.667Z"
   },
   {
    "duration": 4,
    "start_time": "2024-05-22T21:40:45.676Z"
   },
   {
    "duration": 56,
    "start_time": "2024-05-22T21:40:45.682Z"
   },
   {
    "duration": 11,
    "start_time": "2024-05-22T21:40:45.741Z"
   },
   {
    "duration": 8,
    "start_time": "2024-05-22T21:40:45.755Z"
   },
   {
    "duration": 12,
    "start_time": "2024-05-22T21:40:45.767Z"
   },
   {
    "duration": 54,
    "start_time": "2024-05-22T21:40:45.783Z"
   },
   {
    "duration": 31,
    "start_time": "2024-05-22T21:40:45.840Z"
   },
   {
    "duration": 83,
    "start_time": "2024-05-22T21:40:45.874Z"
   },
   {
    "duration": 30,
    "start_time": "2024-05-22T21:40:45.960Z"
   },
   {
    "duration": 4,
    "start_time": "2024-05-22T21:40:45.993Z"
   },
   {
    "duration": 108,
    "start_time": "2024-05-22T21:40:46.000Z"
   },
   {
    "duration": 22,
    "start_time": "2024-05-22T21:40:46.111Z"
   },
   {
    "duration": 7,
    "start_time": "2024-05-22T21:40:46.136Z"
   },
   {
    "duration": 2012,
    "start_time": "2024-05-22T21:40:46.146Z"
   },
   {
    "duration": 457,
    "start_time": "2024-05-22T21:40:48.166Z"
   },
   {
    "duration": 268,
    "start_time": "2024-05-22T21:40:48.625Z"
   },
   {
    "duration": 316,
    "start_time": "2024-05-22T21:40:48.896Z"
   },
   {
    "duration": 688,
    "start_time": "2024-05-22T21:41:37.725Z"
   },
   {
    "duration": 1576,
    "start_time": "2024-05-22T21:41:38.416Z"
   },
   {
    "duration": 18,
    "start_time": "2024-05-22T21:41:39.995Z"
   },
   {
    "duration": 29,
    "start_time": "2024-05-22T21:41:40.016Z"
   },
   {
    "duration": 11,
    "start_time": "2024-05-22T21:41:40.049Z"
   },
   {
    "duration": 15,
    "start_time": "2024-05-22T21:41:40.063Z"
   },
   {
    "duration": 57,
    "start_time": "2024-05-22T21:41:40.081Z"
   },
   {
    "duration": 5,
    "start_time": "2024-05-22T21:41:40.141Z"
   },
   {
    "duration": 368,
    "start_time": "2024-05-22T21:41:40.152Z"
   },
   {
    "duration": 22,
    "start_time": "2024-05-22T21:41:40.522Z"
   },
   {
    "duration": 204,
    "start_time": "2024-05-22T21:41:40.547Z"
   },
   {
    "duration": 193,
    "start_time": "2024-05-22T21:41:40.754Z"
   },
   {
    "duration": 90,
    "start_time": "2024-05-22T21:41:40.950Z"
   },
   {
    "duration": 22,
    "start_time": "2024-05-22T21:41:41.048Z"
   },
   {
    "duration": 21,
    "start_time": "2024-05-22T21:41:41.073Z"
   },
   {
    "duration": 73,
    "start_time": "2024-05-22T21:41:41.097Z"
   },
   {
    "duration": 34,
    "start_time": "2024-05-22T21:41:41.173Z"
   },
   {
    "duration": 6,
    "start_time": "2024-05-22T21:41:41.230Z"
   },
   {
    "duration": 28,
    "start_time": "2024-05-22T21:41:41.239Z"
   },
   {
    "duration": 7,
    "start_time": "2024-05-22T21:41:41.269Z"
   },
   {
    "duration": 62,
    "start_time": "2024-05-22T21:41:41.280Z"
   },
   {
    "duration": 1370,
    "start_time": "2024-05-22T21:41:41.346Z"
   },
   {
    "duration": 14,
    "start_time": "2024-05-22T21:41:42.718Z"
   },
   {
    "duration": 19,
    "start_time": "2024-05-22T21:41:42.738Z"
   },
   {
    "duration": 5,
    "start_time": "2024-05-22T21:41:42.760Z"
   },
   {
    "duration": 5,
    "start_time": "2024-05-22T21:41:42.768Z"
   },
   {
    "duration": 4,
    "start_time": "2024-05-22T21:41:42.775Z"
   },
   {
    "duration": 56,
    "start_time": "2024-05-22T21:41:42.782Z"
   },
   {
    "duration": 11,
    "start_time": "2024-05-22T21:41:42.841Z"
   },
   {
    "duration": 9,
    "start_time": "2024-05-22T21:41:42.855Z"
   },
   {
    "duration": 11,
    "start_time": "2024-05-22T21:41:42.868Z"
   },
   {
    "duration": 59,
    "start_time": "2024-05-22T21:41:42.881Z"
   },
   {
    "duration": 28,
    "start_time": "2024-05-22T21:41:42.943Z"
   },
   {
    "duration": 86,
    "start_time": "2024-05-22T21:41:42.974Z"
   },
   {
    "duration": 28,
    "start_time": "2024-05-22T21:41:43.066Z"
   },
   {
    "duration": 3,
    "start_time": "2024-05-22T21:41:43.099Z"
   },
   {
    "duration": 80,
    "start_time": "2024-05-22T21:41:43.130Z"
   },
   {
    "duration": 21,
    "start_time": "2024-05-22T21:41:43.213Z"
   },
   {
    "duration": 7,
    "start_time": "2024-05-22T21:41:43.236Z"
   },
   {
    "duration": 718,
    "start_time": "2024-05-22T21:42:50.017Z"
   },
   {
    "duration": 1584,
    "start_time": "2024-05-22T21:42:50.738Z"
   },
   {
    "duration": 25,
    "start_time": "2024-05-22T21:42:52.324Z"
   },
   {
    "duration": 18,
    "start_time": "2024-05-22T21:42:52.354Z"
   },
   {
    "duration": 13,
    "start_time": "2024-05-22T21:42:52.377Z"
   },
   {
    "duration": 48,
    "start_time": "2024-05-22T21:42:52.393Z"
   },
   {
    "duration": 14,
    "start_time": "2024-05-22T21:42:52.444Z"
   },
   {
    "duration": 6,
    "start_time": "2024-05-22T21:42:52.461Z"
   },
   {
    "duration": 406,
    "start_time": "2024-05-22T21:42:52.470Z"
   },
   {
    "duration": 23,
    "start_time": "2024-05-22T21:42:52.879Z"
   },
   {
    "duration": 220,
    "start_time": "2024-05-22T21:42:52.906Z"
   },
   {
    "duration": 170,
    "start_time": "2024-05-22T21:42:53.131Z"
   },
   {
    "duration": 91,
    "start_time": "2024-05-22T21:42:53.304Z"
   },
   {
    "duration": 34,
    "start_time": "2024-05-22T21:42:53.401Z"
   },
   {
    "duration": 23,
    "start_time": "2024-05-22T21:42:53.438Z"
   },
   {
    "duration": 38,
    "start_time": "2024-05-22T21:42:53.464Z"
   },
   {
    "duration": 32,
    "start_time": "2024-05-22T21:42:53.532Z"
   },
   {
    "duration": 6,
    "start_time": "2024-05-22T21:42:53.566Z"
   },
   {
    "duration": 60,
    "start_time": "2024-05-22T21:42:53.575Z"
   },
   {
    "duration": 6,
    "start_time": "2024-05-22T21:42:53.638Z"
   },
   {
    "duration": 29,
    "start_time": "2024-05-22T21:42:53.647Z"
   },
   {
    "duration": 1371,
    "start_time": "2024-05-22T21:42:53.679Z"
   },
   {
    "duration": 3,
    "start_time": "2024-05-22T21:42:55.054Z"
   },
   {
    "duration": 25,
    "start_time": "2024-05-22T21:42:55.061Z"
   },
   {
    "duration": 6,
    "start_time": "2024-05-22T21:42:55.092Z"
   },
   {
    "duration": 5,
    "start_time": "2024-05-22T21:42:55.132Z"
   },
   {
    "duration": 4,
    "start_time": "2024-05-22T21:42:55.141Z"
   },
   {
    "duration": 11,
    "start_time": "2024-05-22T21:42:55.148Z"
   },
   {
    "duration": 12,
    "start_time": "2024-05-22T21:42:55.162Z"
   },
   {
    "duration": 54,
    "start_time": "2024-05-22T21:42:55.177Z"
   },
   {
    "duration": 10,
    "start_time": "2024-05-22T21:42:55.234Z"
   },
   {
    "duration": 8,
    "start_time": "2024-05-22T21:42:55.247Z"
   },
   {
    "duration": 27,
    "start_time": "2024-05-22T21:42:55.257Z"
   },
   {
    "duration": 85,
    "start_time": "2024-05-22T21:42:55.287Z"
   },
   {
    "duration": 55,
    "start_time": "2024-05-22T21:42:55.375Z"
   },
   {
    "duration": 3,
    "start_time": "2024-05-22T21:42:55.434Z"
   },
   {
    "duration": 99,
    "start_time": "2024-05-22T21:42:55.440Z"
   },
   {
    "duration": 7,
    "start_time": "2024-05-22T21:42:55.542Z"
   },
   {
    "duration": 7,
    "start_time": "2024-05-22T21:42:55.553Z"
   },
   {
    "duration": 2046,
    "start_time": "2024-05-22T21:42:55.563Z"
   },
   {
    "duration": 345,
    "start_time": "2024-05-22T21:42:57.619Z"
   },
   {
    "duration": 258,
    "start_time": "2024-05-22T21:42:57.967Z"
   },
   {
    "duration": 322,
    "start_time": "2024-05-22T21:42:58.231Z"
   },
   {
    "duration": 2011,
    "start_time": "2024-05-22T21:43:39.087Z"
   },
   {
    "duration": 250,
    "start_time": "2024-05-22T21:45:19.043Z"
   },
   {
    "duration": 308,
    "start_time": "2024-05-22T21:45:56.478Z"
   },
   {
    "duration": 475,
    "start_time": "2024-05-22T21:46:54.711Z"
   },
   {
    "duration": 381,
    "start_time": "2024-05-22T21:48:12.194Z"
   },
   {
    "duration": 440,
    "start_time": "2024-05-22T21:48:15.197Z"
   },
   {
    "duration": 481,
    "start_time": "2024-05-22T21:49:21.856Z"
   },
   {
    "duration": 491,
    "start_time": "2024-05-22T21:49:42.172Z"
   },
   {
    "duration": 463,
    "start_time": "2024-05-22T21:49:58.481Z"
   },
   {
    "duration": 677,
    "start_time": "2024-05-22T21:52:59.738Z"
   },
   {
    "duration": 1704,
    "start_time": "2024-05-22T21:53:00.418Z"
   },
   {
    "duration": 28,
    "start_time": "2024-05-22T21:53:02.125Z"
   },
   {
    "duration": 16,
    "start_time": "2024-05-22T21:53:02.158Z"
   },
   {
    "duration": 14,
    "start_time": "2024-05-22T21:53:02.178Z"
   },
   {
    "duration": 55,
    "start_time": "2024-05-22T21:53:02.195Z"
   },
   {
    "duration": 14,
    "start_time": "2024-05-22T21:53:02.253Z"
   },
   {
    "duration": 5,
    "start_time": "2024-05-22T21:53:02.271Z"
   },
   {
    "duration": 440,
    "start_time": "2024-05-22T21:53:02.280Z"
   },
   {
    "duration": 22,
    "start_time": "2024-05-22T21:53:02.736Z"
   },
   {
    "duration": 237,
    "start_time": "2024-05-22T21:53:02.762Z"
   },
   {
    "duration": 192,
    "start_time": "2024-05-22T21:53:03.002Z"
   },
   {
    "duration": 112,
    "start_time": "2024-05-22T21:53:03.199Z"
   },
   {
    "duration": 32,
    "start_time": "2024-05-22T21:53:03.314Z"
   },
   {
    "duration": 27,
    "start_time": "2024-05-22T21:53:03.350Z"
   },
   {
    "duration": 60,
    "start_time": "2024-05-22T21:53:03.383Z"
   },
   {
    "duration": 48,
    "start_time": "2024-05-22T21:53:03.447Z"
   },
   {
    "duration": 32,
    "start_time": "2024-05-22T21:53:03.498Z"
   },
   {
    "duration": 32,
    "start_time": "2024-05-22T21:53:03.533Z"
   },
   {
    "duration": 8,
    "start_time": "2024-05-22T21:53:03.568Z"
   },
   {
    "duration": 61,
    "start_time": "2024-05-22T21:53:03.579Z"
   },
   {
    "duration": 1375,
    "start_time": "2024-05-22T21:53:03.643Z"
   },
   {
    "duration": 9,
    "start_time": "2024-05-22T21:53:05.021Z"
   },
   {
    "duration": 22,
    "start_time": "2024-05-22T21:53:05.033Z"
   },
   {
    "duration": 7,
    "start_time": "2024-05-22T21:53:05.058Z"
   },
   {
    "duration": 7,
    "start_time": "2024-05-22T21:53:05.069Z"
   },
   {
    "duration": 4,
    "start_time": "2024-05-22T21:53:05.080Z"
   },
   {
    "duration": 11,
    "start_time": "2024-05-22T21:53:05.134Z"
   },
   {
    "duration": 14,
    "start_time": "2024-05-22T21:53:05.148Z"
   },
   {
    "duration": 8,
    "start_time": "2024-05-22T21:53:05.164Z"
   },
   {
    "duration": 54,
    "start_time": "2024-05-22T21:53:05.175Z"
   },
   {
    "duration": 8,
    "start_time": "2024-05-22T21:53:05.232Z"
   },
   {
    "duration": 27,
    "start_time": "2024-05-22T21:53:05.243Z"
   },
   {
    "duration": 86,
    "start_time": "2024-05-22T21:53:05.274Z"
   },
   {
    "duration": 27,
    "start_time": "2024-05-22T21:53:05.362Z"
   },
   {
    "duration": 4,
    "start_time": "2024-05-22T21:53:05.392Z"
   },
   {
    "duration": 108,
    "start_time": "2024-05-22T21:53:05.398Z"
   },
   {
    "duration": 23,
    "start_time": "2024-05-22T21:53:05.509Z"
   },
   {
    "duration": 6,
    "start_time": "2024-05-22T21:53:05.535Z"
   },
   {
    "duration": 420,
    "start_time": "2024-05-22T21:53:05.544Z"
   },
   {
    "duration": 277,
    "start_time": "2024-05-22T21:53:05.967Z"
   },
   {
    "duration": 309,
    "start_time": "2024-05-22T21:53:06.247Z"
   },
   {
    "duration": 398,
    "start_time": "2024-05-22T21:53:06.559Z"
   },
   {
    "duration": 390,
    "start_time": "2024-05-22T21:53:06.960Z"
   },
   {
    "duration": 486,
    "start_time": "2024-05-22T21:53:07.355Z"
   },
   {
    "duration": 346,
    "start_time": "2024-05-22T21:54:16.732Z"
   },
   {
    "duration": 317,
    "start_time": "2024-05-22T21:54:54.808Z"
   },
   {
    "duration": 212,
    "start_time": "2024-05-22T22:05:20.700Z"
   },
   {
    "duration": 232,
    "start_time": "2024-05-22T22:05:48.601Z"
   },
   {
    "duration": 203,
    "start_time": "2024-05-22T22:05:57.039Z"
   },
   {
    "duration": 305,
    "start_time": "2024-05-23T03:12:50.432Z"
   },
   {
    "duration": 211,
    "start_time": "2024-05-23T03:13:45.424Z"
   },
   {
    "duration": 206,
    "start_time": "2024-05-23T03:13:56.059Z"
   },
   {
    "duration": 1151,
    "start_time": "2024-05-23T03:25:06.994Z"
   },
   {
    "duration": 189,
    "start_time": "2024-05-23T03:26:20.094Z"
   },
   {
    "duration": 189,
    "start_time": "2024-05-23T03:27:20.691Z"
   },
   {
    "duration": 483,
    "start_time": "2024-05-23T03:29:55.002Z"
   },
   {
    "duration": 22,
    "start_time": "2024-05-23T03:29:55.489Z"
   },
   {
    "duration": 302,
    "start_time": "2024-05-23T03:29:55.650Z"
   },
   {
    "duration": 487,
    "start_time": "2024-05-23T03:30:06.003Z"
   },
   {
    "duration": 23,
    "start_time": "2024-05-23T03:30:10.279Z"
   },
   {
    "duration": 7,
    "start_time": "2024-05-23T03:33:33.796Z"
   },
   {
    "duration": 215,
    "start_time": "2024-05-23T03:35:04.132Z"
   },
   {
    "duration": 230,
    "start_time": "2024-05-23T03:40:23.139Z"
   },
   {
    "duration": 239,
    "start_time": "2024-05-23T03:40:54.841Z"
   },
   {
    "duration": 702,
    "start_time": "2024-05-23T03:41:10.928Z"
   },
   {
    "duration": 1613,
    "start_time": "2024-05-23T03:41:11.633Z"
   },
   {
    "duration": 18,
    "start_time": "2024-05-23T03:41:13.249Z"
   },
   {
    "duration": 18,
    "start_time": "2024-05-23T03:41:13.270Z"
   },
   {
    "duration": 39,
    "start_time": "2024-05-23T03:41:13.293Z"
   },
   {
    "duration": 15,
    "start_time": "2024-05-23T03:41:13.334Z"
   },
   {
    "duration": 14,
    "start_time": "2024-05-23T03:41:13.352Z"
   },
   {
    "duration": 5,
    "start_time": "2024-05-23T03:41:13.369Z"
   },
   {
    "duration": 391,
    "start_time": "2024-05-23T03:41:13.377Z"
   },
   {
    "duration": 18,
    "start_time": "2024-05-23T03:41:13.771Z"
   },
   {
    "duration": 211,
    "start_time": "2024-05-23T03:41:13.792Z"
   },
   {
    "duration": 178,
    "start_time": "2024-05-23T03:41:14.006Z"
   },
   {
    "duration": 96,
    "start_time": "2024-05-23T03:41:14.187Z"
   },
   {
    "duration": 21,
    "start_time": "2024-05-23T03:41:14.290Z"
   },
   {
    "duration": 34,
    "start_time": "2024-05-23T03:41:14.314Z"
   },
   {
    "duration": 36,
    "start_time": "2024-05-23T03:41:14.351Z"
   },
   {
    "duration": 65,
    "start_time": "2024-05-23T03:41:14.390Z"
   },
   {
    "duration": 6,
    "start_time": "2024-05-23T03:41:14.457Z"
   },
   {
    "duration": 28,
    "start_time": "2024-05-23T03:41:14.467Z"
   },
   {
    "duration": 6,
    "start_time": "2024-05-23T03:41:14.530Z"
   },
   {
    "duration": 27,
    "start_time": "2024-05-23T03:41:14.539Z"
   },
   {
    "duration": 1362,
    "start_time": "2024-05-23T03:41:14.569Z"
   },
   {
    "duration": 4,
    "start_time": "2024-05-23T03:41:15.934Z"
   },
   {
    "duration": 21,
    "start_time": "2024-05-23T03:41:15.941Z"
   },
   {
    "duration": 7,
    "start_time": "2024-05-23T03:41:15.965Z"
   },
   {
    "duration": 11,
    "start_time": "2024-05-23T03:41:15.976Z"
   },
   {
    "duration": 39,
    "start_time": "2024-05-23T03:41:15.990Z"
   },
   {
    "duration": 14,
    "start_time": "2024-05-23T03:41:16.033Z"
   },
   {
    "duration": 11,
    "start_time": "2024-05-23T03:41:16.050Z"
   },
   {
    "duration": 8,
    "start_time": "2024-05-23T03:41:16.063Z"
   },
   {
    "duration": 56,
    "start_time": "2024-05-23T03:41:16.075Z"
   },
   {
    "duration": 9,
    "start_time": "2024-05-23T03:41:16.135Z"
   },
   {
    "duration": 28,
    "start_time": "2024-05-23T03:41:16.148Z"
   },
   {
    "duration": 90,
    "start_time": "2024-05-23T03:41:16.179Z"
   },
   {
    "duration": 26,
    "start_time": "2024-05-23T03:41:16.274Z"
   },
   {
    "duration": 4,
    "start_time": "2024-05-23T03:41:16.303Z"
   },
   {
    "duration": 83,
    "start_time": "2024-05-23T03:41:16.331Z"
   },
   {
    "duration": 9,
    "start_time": "2024-05-23T03:41:16.431Z"
   },
   {
    "duration": 7,
    "start_time": "2024-05-23T03:41:16.443Z"
   },
   {
    "duration": 384,
    "start_time": "2024-05-23T03:41:16.452Z"
   },
   {
    "duration": 269,
    "start_time": "2024-05-23T03:41:16.845Z"
   },
   {
    "duration": 303,
    "start_time": "2024-05-23T03:41:17.117Z"
   },
   {
    "duration": 383,
    "start_time": "2024-05-23T03:41:17.423Z"
   },
   {
    "duration": 416,
    "start_time": "2024-05-23T03:41:17.809Z"
   },
   {
    "duration": 542,
    "start_time": "2024-05-23T03:41:18.232Z"
   },
   {
    "duration": 330,
    "start_time": "2024-05-23T03:41:18.777Z"
   },
   {
    "duration": 286,
    "start_time": "2024-05-23T03:41:19.110Z"
   },
   {
    "duration": 381,
    "start_time": "2024-05-23T03:41:19.399Z"
   },
   {
    "duration": 250,
    "start_time": "2024-05-23T03:42:15.230Z"
   },
   {
    "duration": 669,
    "start_time": "2024-05-23T03:42:55.957Z"
   },
   {
    "duration": 1552,
    "start_time": "2024-05-23T03:42:56.632Z"
   },
   {
    "duration": 18,
    "start_time": "2024-05-23T03:42:58.186Z"
   },
   {
    "duration": 31,
    "start_time": "2024-05-23T03:42:58.207Z"
   },
   {
    "duration": 12,
    "start_time": "2024-05-23T03:42:58.242Z"
   },
   {
    "duration": 14,
    "start_time": "2024-05-23T03:42:58.256Z"
   },
   {
    "duration": 12,
    "start_time": "2024-05-23T03:42:58.274Z"
   },
   {
    "duration": 41,
    "start_time": "2024-05-23T03:42:58.290Z"
   },
   {
    "duration": 371,
    "start_time": "2024-05-23T03:42:58.333Z"
   },
   {
    "duration": 30,
    "start_time": "2024-05-23T03:42:58.707Z"
   },
   {
    "duration": 204,
    "start_time": "2024-05-23T03:42:58.741Z"
   },
   {
    "duration": 172,
    "start_time": "2024-05-23T03:42:58.948Z"
   },
   {
    "duration": 86,
    "start_time": "2024-05-23T03:42:59.122Z"
   },
   {
    "duration": 33,
    "start_time": "2024-05-23T03:42:59.215Z"
   },
   {
    "duration": 23,
    "start_time": "2024-05-23T03:42:59.251Z"
   },
   {
    "duration": 63,
    "start_time": "2024-05-23T03:42:59.276Z"
   },
   {
    "duration": 32,
    "start_time": "2024-05-23T03:42:59.342Z"
   },
   {
    "duration": 5,
    "start_time": "2024-05-23T03:42:59.377Z"
   },
   {
    "duration": 60,
    "start_time": "2024-05-23T03:42:59.385Z"
   },
   {
    "duration": 6,
    "start_time": "2024-05-23T03:42:59.448Z"
   },
   {
    "duration": 27,
    "start_time": "2024-05-23T03:42:59.457Z"
   },
   {
    "duration": 1355,
    "start_time": "2024-05-23T03:42:59.487Z"
   },
   {
    "duration": 6,
    "start_time": "2024-05-23T03:43:00.844Z"
   },
   {
    "duration": 19,
    "start_time": "2024-05-23T03:43:00.853Z"
   },
   {
    "duration": 5,
    "start_time": "2024-05-23T03:43:00.876Z"
   },
   {
    "duration": 5,
    "start_time": "2024-05-23T03:43:00.884Z"
   },
   {
    "duration": 4,
    "start_time": "2024-05-23T03:43:00.931Z"
   },
   {
    "duration": 11,
    "start_time": "2024-05-23T03:43:00.938Z"
   },
   {
    "duration": 13,
    "start_time": "2024-05-23T03:43:00.952Z"
   },
   {
    "duration": 8,
    "start_time": "2024-05-23T03:43:00.967Z"
   },
   {
    "duration": 55,
    "start_time": "2024-05-23T03:43:00.977Z"
   },
   {
    "duration": 8,
    "start_time": "2024-05-23T03:43:01.036Z"
   },
   {
    "duration": 28,
    "start_time": "2024-05-23T03:43:01.047Z"
   },
   {
    "duration": 96,
    "start_time": "2024-05-23T03:43:01.077Z"
   },
   {
    "duration": 26,
    "start_time": "2024-05-23T03:43:01.178Z"
   },
   {
    "duration": 4,
    "start_time": "2024-05-23T03:43:01.229Z"
   },
   {
    "duration": 78,
    "start_time": "2024-05-23T03:43:01.235Z"
   },
   {
    "duration": 6,
    "start_time": "2024-05-23T03:43:01.331Z"
   },
   {
    "duration": 7,
    "start_time": "2024-05-23T03:43:01.341Z"
   },
   {
    "duration": 389,
    "start_time": "2024-05-23T03:43:01.350Z"
   },
   {
    "duration": 296,
    "start_time": "2024-05-23T03:43:01.747Z"
   },
   {
    "duration": 310,
    "start_time": "2024-05-23T03:43:02.047Z"
   },
   {
    "duration": 392,
    "start_time": "2024-05-23T03:43:02.360Z"
   },
   {
    "duration": 396,
    "start_time": "2024-05-23T03:43:02.756Z"
   },
   {
    "duration": 477,
    "start_time": "2024-05-23T03:43:03.156Z"
   },
   {
    "duration": 332,
    "start_time": "2024-05-23T03:43:03.636Z"
   },
   {
    "duration": 289,
    "start_time": "2024-05-23T03:43:03.971Z"
   },
   {
    "duration": 999,
    "start_time": "2024-05-23T03:43:11.365Z"
   },
   {
    "duration": 843,
    "start_time": "2024-05-23T03:45:44.852Z"
   },
   {
    "duration": 854,
    "start_time": "2024-05-23T03:46:00.717Z"
   },
   {
    "duration": 563,
    "start_time": "2024-05-23T03:46:05.525Z"
   },
   {
    "duration": 527,
    "start_time": "2024-05-23T03:46:15.038Z"
   },
   {
    "duration": 985,
    "start_time": "2024-05-23T03:46:23.887Z"
   },
   {
    "duration": 2158,
    "start_time": "2024-05-23T03:48:48.863Z"
   },
   {
    "duration": 1916,
    "start_time": "2024-05-23T03:49:00.053Z"
   },
   {
    "duration": 2135,
    "start_time": "2024-05-23T03:49:07.965Z"
   },
   {
    "duration": 3672,
    "start_time": "2024-05-23T03:49:18.485Z"
   },
   {
    "duration": 1997,
    "start_time": "2024-05-23T03:49:28.214Z"
   },
   {
    "duration": 2013,
    "start_time": "2024-05-23T03:49:47.486Z"
   },
   {
    "duration": 1300,
    "start_time": "2024-05-23T03:50:42.148Z"
   },
   {
    "duration": 205,
    "start_time": "2024-05-23T03:51:07.467Z"
   },
   {
    "duration": 868,
    "start_time": "2024-05-23T03:51:19.744Z"
   },
   {
    "duration": 831,
    "start_time": "2024-05-23T03:52:48.949Z"
   },
   {
    "duration": 1567,
    "start_time": "2024-05-23T03:52:49.784Z"
   },
   {
    "duration": 18,
    "start_time": "2024-05-23T03:52:51.353Z"
   },
   {
    "duration": 18,
    "start_time": "2024-05-23T03:52:51.374Z"
   },
   {
    "duration": 37,
    "start_time": "2024-05-23T03:52:51.398Z"
   },
   {
    "duration": 13,
    "start_time": "2024-05-23T03:52:51.439Z"
   },
   {
    "duration": 14,
    "start_time": "2024-05-23T03:52:51.455Z"
   },
   {
    "duration": 4,
    "start_time": "2024-05-23T03:52:51.473Z"
   },
   {
    "duration": 390,
    "start_time": "2024-05-23T03:52:51.480Z"
   },
   {
    "duration": 18,
    "start_time": "2024-05-23T03:52:51.873Z"
   },
   {
    "duration": 230,
    "start_time": "2024-05-23T03:52:51.894Z"
   },
   {
    "duration": 176,
    "start_time": "2024-05-23T03:52:52.126Z"
   },
   {
    "duration": 98,
    "start_time": "2024-05-23T03:52:52.305Z"
   },
   {
    "duration": 38,
    "start_time": "2024-05-23T03:52:52.411Z"
   },
   {
    "duration": 26,
    "start_time": "2024-05-23T03:52:52.452Z"
   },
   {
    "duration": 64,
    "start_time": "2024-05-23T03:52:52.481Z"
   },
   {
    "duration": 31,
    "start_time": "2024-05-23T03:52:52.549Z"
   },
   {
    "duration": 6,
    "start_time": "2024-05-23T03:52:52.583Z"
   },
   {
    "duration": 61,
    "start_time": "2024-05-23T03:52:52.592Z"
   },
   {
    "duration": 6,
    "start_time": "2024-05-23T03:52:52.656Z"
   },
   {
    "duration": 27,
    "start_time": "2024-05-23T03:52:52.665Z"
   },
   {
    "duration": 1385,
    "start_time": "2024-05-23T03:52:52.696Z"
   },
   {
    "duration": 3,
    "start_time": "2024-05-23T03:52:54.084Z"
   },
   {
    "duration": 39,
    "start_time": "2024-05-23T03:52:54.091Z"
   },
   {
    "duration": 5,
    "start_time": "2024-05-23T03:52:54.133Z"
   },
   {
    "duration": 5,
    "start_time": "2024-05-23T03:52:54.141Z"
   },
   {
    "duration": 3,
    "start_time": "2024-05-23T03:52:54.150Z"
   },
   {
    "duration": 11,
    "start_time": "2024-05-23T03:52:54.156Z"
   },
   {
    "duration": 62,
    "start_time": "2024-05-23T03:52:54.170Z"
   },
   {
    "duration": 7,
    "start_time": "2024-05-23T03:52:54.235Z"
   },
   {
    "duration": 10,
    "start_time": "2024-05-23T03:52:54.245Z"
   },
   {
    "duration": 8,
    "start_time": "2024-05-23T03:52:54.258Z"
   },
   {
    "duration": 71,
    "start_time": "2024-05-23T03:52:54.269Z"
   },
   {
    "duration": 51,
    "start_time": "2024-05-23T03:52:54.344Z"
   },
   {
    "duration": 56,
    "start_time": "2024-05-23T03:52:54.398Z"
   },
   {
    "duration": 3,
    "start_time": "2024-05-23T03:52:54.458Z"
   },
   {
    "duration": 101,
    "start_time": "2024-05-23T03:52:54.465Z"
   },
   {
    "duration": 7,
    "start_time": "2024-05-23T03:52:54.570Z"
   },
   {
    "duration": 6,
    "start_time": "2024-05-23T03:52:54.580Z"
   },
   {
    "duration": 395,
    "start_time": "2024-05-23T03:52:54.589Z"
   },
   {
    "duration": 265,
    "start_time": "2024-05-23T03:52:54.993Z"
   },
   {
    "duration": 298,
    "start_time": "2024-05-23T03:52:55.261Z"
   },
   {
    "duration": 407,
    "start_time": "2024-05-23T03:52:55.562Z"
   },
   {
    "duration": 410,
    "start_time": "2024-05-23T03:52:55.972Z"
   },
   {
    "duration": 493,
    "start_time": "2024-05-23T03:52:56.386Z"
   },
   {
    "duration": 332,
    "start_time": "2024-05-23T03:52:56.882Z"
   },
   {
    "duration": 425,
    "start_time": "2024-05-23T03:52:57.218Z"
   },
   {
    "duration": 0,
    "start_time": "2024-05-23T03:52:57.646Z"
   },
   {
    "duration": 2131,
    "start_time": "2024-05-23T03:53:08.279Z"
   },
   {
    "duration": 28,
    "start_time": "2024-05-23T03:53:23.161Z"
   },
   {
    "duration": 283,
    "start_time": "2024-05-23T03:53:28.324Z"
   },
   {
    "duration": 26,
    "start_time": "2024-05-23T03:53:59.944Z"
   },
   {
    "duration": 205,
    "start_time": "2024-05-23T03:54:21.557Z"
   },
   {
    "duration": 15,
    "start_time": "2024-05-23T18:48:48.505Z"
   },
   {
    "duration": 331,
    "start_time": "2024-05-23T19:30:50.263Z"
   },
   {
    "duration": 4351,
    "start_time": "2024-05-23T19:31:00.695Z"
   },
   {
    "duration": 1672,
    "start_time": "2024-05-23T19:31:05.049Z"
   },
   {
    "duration": 184,
    "start_time": "2024-05-23T19:31:06.724Z"
   },
   {
    "duration": 173,
    "start_time": "2024-05-23T19:31:20.650Z"
   },
   {
    "duration": 15,
    "start_time": "2024-05-23T19:31:37.242Z"
   },
   {
    "duration": 78,
    "start_time": "2024-05-23T20:59:42.585Z"
   },
   {
    "duration": 1628,
    "start_time": "2024-05-23T21:04:34.411Z"
   },
   {
    "duration": 1670,
    "start_time": "2024-05-23T21:05:02.342Z"
   },
   {
    "duration": 1557,
    "start_time": "2024-05-23T21:05:09.100Z"
   },
   {
    "duration": 1607,
    "start_time": "2024-05-23T23:19:35.400Z"
   },
   {
    "duration": 1384,
    "start_time": "2024-05-23T23:19:56.022Z"
   },
   {
    "duration": 8,
    "start_time": "2024-05-23T23:25:28.974Z"
   },
   {
    "duration": 5,
    "start_time": "2024-05-23T23:26:07.332Z"
   },
   {
    "duration": 10,
    "start_time": "2024-05-23T23:26:11.726Z"
   },
   {
    "duration": 7,
    "start_time": "2024-05-23T23:26:25.060Z"
   },
   {
    "duration": 696,
    "start_time": "2024-05-23T23:26:34.726Z"
   },
   {
    "duration": 1534,
    "start_time": "2024-05-23T23:26:35.425Z"
   },
   {
    "duration": 24,
    "start_time": "2024-05-23T23:26:36.962Z"
   },
   {
    "duration": 27,
    "start_time": "2024-05-23T23:26:36.992Z"
   },
   {
    "duration": 12,
    "start_time": "2024-05-23T23:26:37.022Z"
   },
   {
    "duration": 13,
    "start_time": "2024-05-23T23:26:37.037Z"
   },
   {
    "duration": 54,
    "start_time": "2024-05-23T23:26:37.053Z"
   },
   {
    "duration": 8,
    "start_time": "2024-05-23T23:26:37.110Z"
   },
   {
    "duration": 0,
    "start_time": "2024-05-23T23:26:37.125Z"
   },
   {
    "duration": 0,
    "start_time": "2024-05-23T23:26:37.126Z"
   },
   {
    "duration": 0,
    "start_time": "2024-05-23T23:26:37.128Z"
   },
   {
    "duration": 0,
    "start_time": "2024-05-23T23:26:37.134Z"
   },
   {
    "duration": 0,
    "start_time": "2024-05-23T23:26:37.136Z"
   },
   {
    "duration": 0,
    "start_time": "2024-05-23T23:26:37.138Z"
   },
   {
    "duration": 0,
    "start_time": "2024-05-23T23:26:37.139Z"
   },
   {
    "duration": 0,
    "start_time": "2024-05-23T23:26:37.141Z"
   },
   {
    "duration": 0,
    "start_time": "2024-05-23T23:26:37.142Z"
   },
   {
    "duration": 0,
    "start_time": "2024-05-23T23:26:37.144Z"
   },
   {
    "duration": 0,
    "start_time": "2024-05-23T23:26:37.147Z"
   },
   {
    "duration": 0,
    "start_time": "2024-05-23T23:26:37.149Z"
   },
   {
    "duration": 0,
    "start_time": "2024-05-23T23:26:37.151Z"
   },
   {
    "duration": 0,
    "start_time": "2024-05-23T23:26:37.153Z"
   },
   {
    "duration": 0,
    "start_time": "2024-05-23T23:26:37.207Z"
   },
   {
    "duration": 0,
    "start_time": "2024-05-23T23:26:37.209Z"
   },
   {
    "duration": 0,
    "start_time": "2024-05-23T23:26:37.212Z"
   },
   {
    "duration": 0,
    "start_time": "2024-05-23T23:26:37.215Z"
   },
   {
    "duration": 0,
    "start_time": "2024-05-23T23:26:37.217Z"
   },
   {
    "duration": 0,
    "start_time": "2024-05-23T23:26:37.219Z"
   },
   {
    "duration": 0,
    "start_time": "2024-05-23T23:26:37.222Z"
   },
   {
    "duration": 0,
    "start_time": "2024-05-23T23:26:37.224Z"
   },
   {
    "duration": 0,
    "start_time": "2024-05-23T23:26:37.226Z"
   },
   {
    "duration": 0,
    "start_time": "2024-05-23T23:26:37.229Z"
   },
   {
    "duration": 0,
    "start_time": "2024-05-23T23:26:37.232Z"
   },
   {
    "duration": 0,
    "start_time": "2024-05-23T23:26:37.235Z"
   },
   {
    "duration": 0,
    "start_time": "2024-05-23T23:26:37.237Z"
   },
   {
    "duration": 0,
    "start_time": "2024-05-23T23:26:37.239Z"
   },
   {
    "duration": 1,
    "start_time": "2024-05-23T23:26:37.240Z"
   },
   {
    "duration": 0,
    "start_time": "2024-05-23T23:26:37.242Z"
   },
   {
    "duration": 0,
    "start_time": "2024-05-23T23:26:37.243Z"
   },
   {
    "duration": 0,
    "start_time": "2024-05-23T23:26:37.245Z"
   },
   {
    "duration": 0,
    "start_time": "2024-05-23T23:26:37.307Z"
   },
   {
    "duration": 0,
    "start_time": "2024-05-23T23:26:37.309Z"
   },
   {
    "duration": 0,
    "start_time": "2024-05-23T23:26:37.311Z"
   },
   {
    "duration": 0,
    "start_time": "2024-05-23T23:26:37.314Z"
   },
   {
    "duration": 0,
    "start_time": "2024-05-23T23:26:37.316Z"
   },
   {
    "duration": 0,
    "start_time": "2024-05-23T23:26:37.327Z"
   },
   {
    "duration": 0,
    "start_time": "2024-05-23T23:26:37.329Z"
   },
   {
    "duration": 0,
    "start_time": "2024-05-23T23:26:37.331Z"
   },
   {
    "duration": 0,
    "start_time": "2024-05-23T23:26:37.333Z"
   },
   {
    "duration": 0,
    "start_time": "2024-05-23T23:26:37.335Z"
   },
   {
    "duration": 378,
    "start_time": "2024-05-23T23:34:04.813Z"
   },
   {
    "duration": 226,
    "start_time": "2024-05-23T23:34:07.228Z"
   },
   {
    "duration": 443,
    "start_time": "2024-05-23T23:34:09.484Z"
   },
   {
    "duration": 2304,
    "start_time": "2024-05-23T23:34:34.530Z"
   },
   {
    "duration": 544,
    "start_time": "2024-05-23T23:36:04.566Z"
   },
   {
    "duration": 2401,
    "start_time": "2024-05-23T23:36:11.394Z"
   },
   {
    "duration": 2331,
    "start_time": "2024-05-23T23:36:30.078Z"
   },
   {
    "duration": 2205,
    "start_time": "2024-05-23T23:37:30.528Z"
   },
   {
    "duration": 2235,
    "start_time": "2024-05-23T23:37:51.485Z"
   },
   {
    "duration": 212,
    "start_time": "2024-05-23T23:38:55.155Z"
   },
   {
    "duration": 456,
    "start_time": "2024-05-23T23:42:32.989Z"
   },
   {
    "duration": 210,
    "start_time": "2024-05-23T23:45:26.595Z"
   },
   {
    "duration": 645,
    "start_time": "2024-05-23T23:46:12.572Z"
   },
   {
    "duration": 1572,
    "start_time": "2024-05-23T23:46:13.221Z"
   },
   {
    "duration": 19,
    "start_time": "2024-05-23T23:46:14.795Z"
   },
   {
    "duration": 16,
    "start_time": "2024-05-23T23:46:14.818Z"
   },
   {
    "duration": 12,
    "start_time": "2024-05-23T23:46:14.839Z"
   },
   {
    "duration": 54,
    "start_time": "2024-05-23T23:46:14.854Z"
   },
   {
    "duration": 14,
    "start_time": "2024-05-23T23:46:14.911Z"
   },
   {
    "duration": 4,
    "start_time": "2024-05-23T23:46:14.929Z"
   },
   {
    "duration": 372,
    "start_time": "2024-05-23T23:46:14.936Z"
   },
   {
    "duration": 17,
    "start_time": "2024-05-23T23:46:15.310Z"
   },
   {
    "duration": 229,
    "start_time": "2024-05-23T23:46:15.331Z"
   },
   {
    "duration": 167,
    "start_time": "2024-05-23T23:46:15.563Z"
   },
   {
    "duration": 94,
    "start_time": "2024-05-23T23:46:15.733Z"
   },
   {
    "duration": 21,
    "start_time": "2024-05-23T23:46:15.834Z"
   },
   {
    "duration": 22,
    "start_time": "2024-05-23T23:46:15.858Z"
   },
   {
    "duration": 35,
    "start_time": "2024-05-23T23:46:15.907Z"
   },
   {
    "duration": 31,
    "start_time": "2024-05-23T23:46:15.945Z"
   },
   {
    "duration": 32,
    "start_time": "2024-05-23T23:46:15.978Z"
   },
   {
    "duration": 26,
    "start_time": "2024-05-23T23:46:16.012Z"
   },
   {
    "duration": 6,
    "start_time": "2024-05-23T23:46:16.041Z"
   },
   {
    "duration": 71,
    "start_time": "2024-05-23T23:46:16.051Z"
   },
   {
    "duration": 1340,
    "start_time": "2024-05-23T23:46:16.126Z"
   },
   {
    "duration": 4,
    "start_time": "2024-05-23T23:46:17.472Z"
   },
   {
    "duration": 38,
    "start_time": "2024-05-23T23:46:17.479Z"
   },
   {
    "duration": 7,
    "start_time": "2024-05-23T23:46:17.519Z"
   },
   {
    "duration": 7,
    "start_time": "2024-05-23T23:46:17.528Z"
   },
   {
    "duration": 3,
    "start_time": "2024-05-23T23:46:17.539Z"
   },
   {
    "duration": 11,
    "start_time": "2024-05-23T23:46:17.546Z"
   },
   {
    "duration": 55,
    "start_time": "2024-05-23T23:46:17.560Z"
   },
   {
    "duration": 7,
    "start_time": "2024-05-23T23:46:17.619Z"
   },
   {
    "duration": 11,
    "start_time": "2024-05-23T23:46:17.629Z"
   },
   {
    "duration": 8,
    "start_time": "2024-05-23T23:46:17.643Z"
   },
   {
    "duration": 76,
    "start_time": "2024-05-23T23:46:17.654Z"
   },
   {
    "duration": 73,
    "start_time": "2024-05-23T23:46:17.733Z"
   },
   {
    "duration": 26,
    "start_time": "2024-05-23T23:46:17.809Z"
   },
   {
    "duration": 1832,
    "start_time": "2024-05-23T23:46:17.839Z"
   },
   {
    "duration": 93,
    "start_time": "2024-05-23T23:46:19.674Z"
   },
   {
    "duration": 7,
    "start_time": "2024-05-23T23:46:19.769Z"
   },
   {
    "duration": 28,
    "start_time": "2024-05-23T23:46:19.779Z"
   },
   {
    "duration": 380,
    "start_time": "2024-05-23T23:46:19.810Z"
   },
   {
    "duration": 253,
    "start_time": "2024-05-23T23:46:20.210Z"
   },
   {
    "duration": 322,
    "start_time": "2024-05-23T23:46:20.466Z"
   },
   {
    "duration": 393,
    "start_time": "2024-05-23T23:46:20.791Z"
   },
   {
    "duration": 389,
    "start_time": "2024-05-23T23:46:21.187Z"
   },
   {
    "duration": 482,
    "start_time": "2024-05-23T23:46:21.579Z"
   },
   {
    "duration": 338,
    "start_time": "2024-05-23T23:46:22.065Z"
   },
   {
    "duration": 280,
    "start_time": "2024-05-23T23:46:22.407Z"
   },
   {
    "duration": 445,
    "start_time": "2024-05-23T23:46:22.690Z"
   },
   {
    "duration": 2147,
    "start_time": "2024-05-23T23:46:23.139Z"
   },
   {
    "duration": 211,
    "start_time": "2024-05-23T23:46:25.289Z"
   },
   {
    "duration": 741,
    "start_time": "2024-05-24T00:01:54.033Z"
   },
   {
    "duration": 621,
    "start_time": "2024-05-24T00:02:07.907Z"
   },
   {
    "duration": 1026,
    "start_time": "2024-05-24T00:02:35.099Z"
   },
   {
    "duration": 421,
    "start_time": "2024-05-24T00:02:51.923Z"
   },
   {
    "duration": 84,
    "start_time": "2024-05-24T00:03:12.955Z"
   },
   {
    "duration": 547,
    "start_time": "2024-05-24T00:03:17.944Z"
   },
   {
    "duration": 619,
    "start_time": "2024-05-24T00:03:36.951Z"
   },
   {
    "duration": 418,
    "start_time": "2024-05-24T00:16:54.089Z"
   },
   {
    "duration": 429,
    "start_time": "2024-05-24T00:17:12.563Z"
   },
   {
    "duration": 885,
    "start_time": "2024-05-24T00:20:10.986Z"
   },
   {
    "duration": 85,
    "start_time": "2024-05-24T00:20:18.890Z"
   },
   {
    "duration": 1383,
    "start_time": "2024-05-24T00:22:16.498Z"
   },
   {
    "duration": 1806,
    "start_time": "2024-05-24T00:22:17.885Z"
   },
   {
    "duration": 22,
    "start_time": "2024-05-24T00:22:19.694Z"
   },
   {
    "duration": 18,
    "start_time": "2024-05-24T00:22:19.719Z"
   },
   {
    "duration": 12,
    "start_time": "2024-05-24T00:22:19.743Z"
   },
   {
    "duration": 48,
    "start_time": "2024-05-24T00:22:19.758Z"
   },
   {
    "duration": 16,
    "start_time": "2024-05-24T00:22:19.809Z"
   },
   {
    "duration": 5,
    "start_time": "2024-05-24T00:22:19.829Z"
   },
   {
    "duration": 395,
    "start_time": "2024-05-24T00:22:19.837Z"
   },
   {
    "duration": 23,
    "start_time": "2024-05-24T00:22:20.235Z"
   },
   {
    "duration": 252,
    "start_time": "2024-05-24T00:22:20.261Z"
   },
   {
    "duration": 184,
    "start_time": "2024-05-24T00:22:20.516Z"
   },
   {
    "duration": 105,
    "start_time": "2024-05-24T00:22:20.707Z"
   },
   {
    "duration": 27,
    "start_time": "2024-05-24T00:22:20.819Z"
   },
   {
    "duration": 25,
    "start_time": "2024-05-24T00:22:20.849Z"
   },
   {
    "duration": 71,
    "start_time": "2024-05-24T00:22:20.877Z"
   },
   {
    "duration": 52,
    "start_time": "2024-05-24T00:22:20.954Z"
   },
   {
    "duration": 6,
    "start_time": "2024-05-24T00:22:21.009Z"
   },
   {
    "duration": 28,
    "start_time": "2024-05-24T00:22:21.021Z"
   },
   {
    "duration": 6,
    "start_time": "2024-05-24T00:22:21.052Z"
   },
   {
    "duration": 64,
    "start_time": "2024-05-24T00:22:21.061Z"
   },
   {
    "duration": 1388,
    "start_time": "2024-05-24T00:22:21.130Z"
   },
   {
    "duration": 4,
    "start_time": "2024-05-24T00:22:22.524Z"
   },
   {
    "duration": 22,
    "start_time": "2024-05-24T00:22:22.531Z"
   },
   {
    "duration": 6,
    "start_time": "2024-05-24T00:22:22.557Z"
   },
   {
    "duration": 41,
    "start_time": "2024-05-24T00:22:22.566Z"
   },
   {
    "duration": 4,
    "start_time": "2024-05-24T00:22:22.612Z"
   },
   {
    "duration": 13,
    "start_time": "2024-05-24T00:22:22.618Z"
   },
   {
    "duration": 14,
    "start_time": "2024-05-24T00:22:22.634Z"
   },
   {
    "duration": 8,
    "start_time": "2024-05-24T00:22:22.653Z"
   },
   {
    "duration": 12,
    "start_time": "2024-05-24T00:22:22.707Z"
   },
   {
    "duration": 9,
    "start_time": "2024-05-24T00:22:22.723Z"
   },
   {
    "duration": 28,
    "start_time": "2024-05-24T00:22:22.735Z"
   },
   {
    "duration": 85,
    "start_time": "2024-05-24T00:22:22.766Z"
   },
   {
    "duration": 54,
    "start_time": "2024-05-24T00:22:22.854Z"
   },
   {
    "duration": 1964,
    "start_time": "2024-05-24T00:22:22.912Z"
   },
   {
    "duration": 92,
    "start_time": "2024-05-24T00:22:24.881Z"
   },
   {
    "duration": 7,
    "start_time": "2024-05-24T00:22:24.977Z"
   },
   {
    "duration": 20,
    "start_time": "2024-05-24T00:22:24.988Z"
   },
   {
    "duration": 417,
    "start_time": "2024-05-24T00:22:25.011Z"
   },
   {
    "duration": 276,
    "start_time": "2024-05-24T00:22:25.438Z"
   },
   {
    "duration": 312,
    "start_time": "2024-05-24T00:22:25.717Z"
   },
   {
    "duration": 431,
    "start_time": "2024-05-24T00:22:26.032Z"
   },
   {
    "duration": 396,
    "start_time": "2024-05-24T00:22:26.467Z"
   },
   {
    "duration": 575,
    "start_time": "2024-05-24T00:22:26.866Z"
   },
   {
    "duration": 341,
    "start_time": "2024-05-24T00:22:27.444Z"
   },
   {
    "duration": 307,
    "start_time": "2024-05-24T00:22:27.790Z"
   },
   {
    "duration": 527,
    "start_time": "2024-05-24T00:22:28.100Z"
   },
   {
    "duration": 2207,
    "start_time": "2024-05-24T00:22:28.630Z"
   },
   {
    "duration": 246,
    "start_time": "2024-05-24T00:22:30.841Z"
   },
   {
    "duration": 411,
    "start_time": "2024-05-24T00:22:31.091Z"
   },
   {
    "duration": 416,
    "start_time": "2024-05-24T00:22:31.510Z"
   },
   {
    "duration": 713,
    "start_time": "2024-05-24T00:23:13.713Z"
   },
   {
    "duration": 1622,
    "start_time": "2024-05-24T00:23:14.430Z"
   },
   {
    "duration": 23,
    "start_time": "2024-05-24T00:23:16.054Z"
   },
   {
    "duration": 32,
    "start_time": "2024-05-24T00:23:16.082Z"
   },
   {
    "duration": 13,
    "start_time": "2024-05-24T00:23:16.119Z"
   },
   {
    "duration": 14,
    "start_time": "2024-05-24T00:23:16.134Z"
   },
   {
    "duration": 13,
    "start_time": "2024-05-24T00:23:16.151Z"
   },
   {
    "duration": 4,
    "start_time": "2024-05-24T00:23:16.208Z"
   },
   {
    "duration": 391,
    "start_time": "2024-05-24T00:23:16.215Z"
   },
   {
    "duration": 21,
    "start_time": "2024-05-24T00:23:16.609Z"
   },
   {
    "duration": 244,
    "start_time": "2024-05-24T00:23:16.633Z"
   },
   {
    "duration": 192,
    "start_time": "2024-05-24T00:23:16.880Z"
   },
   {
    "duration": 101,
    "start_time": "2024-05-24T00:23:17.075Z"
   },
   {
    "duration": 35,
    "start_time": "2024-05-24T00:23:17.185Z"
   },
   {
    "duration": 22,
    "start_time": "2024-05-24T00:23:17.224Z"
   },
   {
    "duration": 61,
    "start_time": "2024-05-24T00:23:17.251Z"
   },
   {
    "duration": 33,
    "start_time": "2024-05-24T00:23:17.315Z"
   },
   {
    "duration": 6,
    "start_time": "2024-05-24T00:23:17.353Z"
   },
   {
    "duration": 57,
    "start_time": "2024-05-24T00:23:17.363Z"
   },
   {
    "duration": 7,
    "start_time": "2024-05-24T00:23:17.425Z"
   },
   {
    "duration": 36,
    "start_time": "2024-05-24T00:23:17.435Z"
   },
   {
    "duration": 1464,
    "start_time": "2024-05-24T00:23:17.477Z"
   },
   {
    "duration": 4,
    "start_time": "2024-05-24T00:23:18.944Z"
   },
   {
    "duration": 20,
    "start_time": "2024-05-24T00:23:18.952Z"
   },
   {
    "duration": 33,
    "start_time": "2024-05-24T00:23:18.975Z"
   },
   {
    "duration": 13,
    "start_time": "2024-05-24T00:23:19.011Z"
   },
   {
    "duration": 3,
    "start_time": "2024-05-24T00:23:19.027Z"
   },
   {
    "duration": 13,
    "start_time": "2024-05-24T00:23:19.033Z"
   },
   {
    "duration": 17,
    "start_time": "2024-05-24T00:23:19.050Z"
   },
   {
    "duration": 12,
    "start_time": "2024-05-24T00:23:19.106Z"
   },
   {
    "duration": 11,
    "start_time": "2024-05-24T00:23:19.125Z"
   },
   {
    "duration": 10,
    "start_time": "2024-05-24T00:23:19.140Z"
   },
   {
    "duration": 65,
    "start_time": "2024-05-24T00:23:19.153Z"
   },
   {
    "duration": 53,
    "start_time": "2024-05-24T00:23:19.221Z"
   },
   {
    "duration": 48,
    "start_time": "2024-05-24T00:23:19.277Z"
   },
   {
    "duration": 1865,
    "start_time": "2024-05-24T00:23:19.328Z"
   },
   {
    "duration": 82,
    "start_time": "2024-05-24T00:23:21.196Z"
   },
   {
    "duration": 25,
    "start_time": "2024-05-24T00:23:21.281Z"
   },
   {
    "duration": 7,
    "start_time": "2024-05-24T00:23:21.309Z"
   },
   {
    "duration": 411,
    "start_time": "2024-05-24T00:23:21.319Z"
   },
   {
    "duration": 278,
    "start_time": "2024-05-24T00:23:21.739Z"
   },
   {
    "duration": 302,
    "start_time": "2024-05-24T00:23:22.022Z"
   },
   {
    "duration": 417,
    "start_time": "2024-05-24T00:23:22.327Z"
   },
   {
    "duration": 398,
    "start_time": "2024-05-24T00:23:22.747Z"
   },
   {
    "duration": 484,
    "start_time": "2024-05-24T00:23:23.148Z"
   },
   {
    "duration": 366,
    "start_time": "2024-05-24T00:23:23.636Z"
   },
   {
    "duration": 296,
    "start_time": "2024-05-24T00:23:24.007Z"
   },
   {
    "duration": 492,
    "start_time": "2024-05-24T00:23:24.307Z"
   },
   {
    "duration": 2239,
    "start_time": "2024-05-24T00:23:24.801Z"
   },
   {
    "duration": 235,
    "start_time": "2024-05-24T00:23:27.044Z"
   },
   {
    "duration": 437,
    "start_time": "2024-05-24T00:23:27.282Z"
   },
   {
    "duration": 427,
    "start_time": "2024-05-24T00:23:27.722Z"
   },
   {
    "duration": 403,
    "start_time": "2024-05-24T00:23:34.448Z"
   },
   {
    "duration": 411,
    "start_time": "2024-05-24T00:23:57.152Z"
   },
   {
    "duration": 857,
    "start_time": "2024-05-24T00:24:51.691Z"
   },
   {
    "duration": 503,
    "start_time": "2024-05-24T00:25:04.188Z"
   },
   {
    "duration": 406,
    "start_time": "2024-05-24T00:25:24.037Z"
   },
   {
    "duration": 941,
    "start_time": "2024-05-24T00:28:01.513Z"
   },
   {
    "duration": 2064,
    "start_time": "2024-05-24T00:28:02.463Z"
   },
   {
    "duration": 21,
    "start_time": "2024-05-24T00:28:04.530Z"
   },
   {
    "duration": 18,
    "start_time": "2024-05-24T00:28:04.556Z"
   },
   {
    "duration": 38,
    "start_time": "2024-05-24T00:28:04.578Z"
   },
   {
    "duration": 14,
    "start_time": "2024-05-24T00:28:04.620Z"
   },
   {
    "duration": 14,
    "start_time": "2024-05-24T00:28:04.638Z"
   },
   {
    "duration": 5,
    "start_time": "2024-05-24T00:28:04.656Z"
   },
   {
    "duration": 427,
    "start_time": "2024-05-24T00:28:04.663Z"
   },
   {
    "duration": 19,
    "start_time": "2024-05-24T00:28:05.105Z"
   },
   {
    "duration": 224,
    "start_time": "2024-05-24T00:28:05.128Z"
   },
   {
    "duration": 205,
    "start_time": "2024-05-24T00:28:05.355Z"
   },
   {
    "duration": 119,
    "start_time": "2024-05-24T00:28:05.564Z"
   },
   {
    "duration": 41,
    "start_time": "2024-05-24T00:28:05.686Z"
   },
   {
    "duration": 23,
    "start_time": "2024-05-24T00:28:05.730Z"
   },
   {
    "duration": 76,
    "start_time": "2024-05-24T00:28:05.758Z"
   },
   {
    "duration": 41,
    "start_time": "2024-05-24T00:28:05.837Z"
   },
   {
    "duration": 24,
    "start_time": "2024-05-24T00:28:05.881Z"
   },
   {
    "duration": 29,
    "start_time": "2024-05-24T00:28:05.910Z"
   },
   {
    "duration": 6,
    "start_time": "2024-05-24T00:28:05.942Z"
   },
   {
    "duration": 65,
    "start_time": "2024-05-24T00:28:05.951Z"
   },
   {
    "duration": 1403,
    "start_time": "2024-05-24T00:28:06.019Z"
   },
   {
    "duration": 4,
    "start_time": "2024-05-24T00:28:07.426Z"
   },
   {
    "duration": 23,
    "start_time": "2024-05-24T00:28:07.434Z"
   },
   {
    "duration": 6,
    "start_time": "2024-05-24T00:28:07.460Z"
   },
   {
    "duration": 40,
    "start_time": "2024-05-24T00:28:07.469Z"
   },
   {
    "duration": 3,
    "start_time": "2024-05-24T00:28:07.513Z"
   },
   {
    "duration": 11,
    "start_time": "2024-05-24T00:28:07.526Z"
   },
   {
    "duration": 16,
    "start_time": "2024-05-24T00:28:07.539Z"
   },
   {
    "duration": 53,
    "start_time": "2024-05-24T00:28:07.558Z"
   },
   {
    "duration": 15,
    "start_time": "2024-05-24T00:28:07.614Z"
   },
   {
    "duration": 11,
    "start_time": "2024-05-24T00:28:07.632Z"
   },
   {
    "duration": 72,
    "start_time": "2024-05-24T00:28:07.646Z"
   },
   {
    "duration": 53,
    "start_time": "2024-05-24T00:28:07.721Z"
   },
   {
    "duration": 33,
    "start_time": "2024-05-24T00:28:07.806Z"
   },
   {
    "duration": 2411,
    "start_time": "2024-05-24T00:28:07.842Z"
   },
   {
    "duration": 100,
    "start_time": "2024-05-24T00:28:10.258Z"
   },
   {
    "duration": 9,
    "start_time": "2024-05-24T00:28:10.362Z"
   },
   {
    "duration": 32,
    "start_time": "2024-05-24T00:28:10.375Z"
   },
   {
    "duration": 384,
    "start_time": "2024-05-24T00:28:10.410Z"
   },
   {
    "duration": 267,
    "start_time": "2024-05-24T00:28:10.799Z"
   },
   {
    "duration": 322,
    "start_time": "2024-05-24T00:28:11.076Z"
   },
   {
    "duration": 445,
    "start_time": "2024-05-24T00:28:11.408Z"
   },
   {
    "duration": 396,
    "start_time": "2024-05-24T00:28:11.856Z"
   },
   {
    "duration": 531,
    "start_time": "2024-05-24T00:28:12.255Z"
   },
   {
    "duration": 337,
    "start_time": "2024-05-24T00:28:12.790Z"
   },
   {
    "duration": 304,
    "start_time": "2024-05-24T00:28:13.130Z"
   },
   {
    "duration": 491,
    "start_time": "2024-05-24T00:28:13.437Z"
   },
   {
    "duration": 2384,
    "start_time": "2024-05-24T00:28:13.933Z"
   },
   {
    "duration": 266,
    "start_time": "2024-05-24T00:28:16.322Z"
   },
   {
    "duration": 569,
    "start_time": "2024-05-24T00:28:16.625Z"
   },
   {
    "duration": 439,
    "start_time": "2024-05-24T00:28:17.205Z"
   },
   {
    "duration": 53,
    "start_time": "2024-05-24T00:28:17.652Z"
   },
   {
    "duration": 399,
    "start_time": "2024-05-24T00:28:37.364Z"
   },
   {
    "duration": 476,
    "start_time": "2024-05-24T00:28:49.726Z"
   },
   {
    "duration": 9,
    "start_time": "2024-05-24T01:50:56.482Z"
   },
   {
    "duration": 682,
    "start_time": "2024-05-24T01:51:13.086Z"
   },
   {
    "duration": 1879,
    "start_time": "2024-05-24T01:51:13.771Z"
   },
   {
    "duration": 19,
    "start_time": "2024-05-24T01:51:15.653Z"
   },
   {
    "duration": 36,
    "start_time": "2024-05-24T01:51:15.675Z"
   },
   {
    "duration": 12,
    "start_time": "2024-05-24T01:51:15.715Z"
   },
   {
    "duration": 15,
    "start_time": "2024-05-24T01:51:15.730Z"
   },
   {
    "duration": 13,
    "start_time": "2024-05-24T01:51:15.748Z"
   },
   {
    "duration": 45,
    "start_time": "2024-05-24T01:51:15.764Z"
   },
   {
    "duration": 361,
    "start_time": "2024-05-24T01:51:15.812Z"
   },
   {
    "duration": 34,
    "start_time": "2024-05-24T01:51:16.176Z"
   },
   {
    "duration": 196,
    "start_time": "2024-05-24T01:51:16.212Z"
   },
   {
    "duration": 189,
    "start_time": "2024-05-24T01:51:16.411Z"
   },
   {
    "duration": 84,
    "start_time": "2024-05-24T01:51:16.607Z"
   },
   {
    "duration": 22,
    "start_time": "2024-05-24T01:51:16.705Z"
   },
   {
    "duration": 23,
    "start_time": "2024-05-24T01:51:16.729Z"
   },
   {
    "duration": 64,
    "start_time": "2024-05-24T01:51:16.755Z"
   },
   {
    "duration": 32,
    "start_time": "2024-05-24T01:51:16.822Z"
   },
   {
    "duration": 6,
    "start_time": "2024-05-24T01:51:16.857Z"
   },
   {
    "duration": 63,
    "start_time": "2024-05-24T01:51:16.867Z"
   },
   {
    "duration": 7,
    "start_time": "2024-05-24T01:51:16.933Z"
   },
   {
    "duration": 31,
    "start_time": "2024-05-24T01:51:16.944Z"
   },
   {
    "duration": 1355,
    "start_time": "2024-05-24T01:51:17.007Z"
   },
   {
    "duration": 4,
    "start_time": "2024-05-24T01:51:18.365Z"
   },
   {
    "duration": 41,
    "start_time": "2024-05-24T01:51:18.372Z"
   },
   {
    "duration": 6,
    "start_time": "2024-05-24T01:51:18.416Z"
   },
   {
    "duration": 5,
    "start_time": "2024-05-24T01:51:18.426Z"
   },
   {
    "duration": 4,
    "start_time": "2024-05-24T01:51:18.434Z"
   },
   {
    "duration": 11,
    "start_time": "2024-05-24T01:51:18.441Z"
   },
   {
    "duration": 62,
    "start_time": "2024-05-24T01:51:18.455Z"
   },
   {
    "duration": 7,
    "start_time": "2024-05-24T01:51:18.520Z"
   },
   {
    "duration": 10,
    "start_time": "2024-05-24T01:51:18.530Z"
   },
   {
    "duration": 9,
    "start_time": "2024-05-24T01:51:18.542Z"
   },
   {
    "duration": 74,
    "start_time": "2024-05-24T01:51:18.553Z"
   },
   {
    "duration": 53,
    "start_time": "2024-05-24T01:51:18.632Z"
   },
   {
    "duration": 30,
    "start_time": "2024-05-24T01:51:18.705Z"
   },
   {
    "duration": 2021,
    "start_time": "2024-05-24T01:51:18.738Z"
   },
   {
    "duration": 88,
    "start_time": "2024-05-24T01:51:20.762Z"
   },
   {
    "duration": 7,
    "start_time": "2024-05-24T01:51:20.853Z"
   },
   {
    "duration": 8,
    "start_time": "2024-05-24T01:51:20.863Z"
   },
   {
    "duration": 401,
    "start_time": "2024-05-24T01:51:20.877Z"
   },
   {
    "duration": 264,
    "start_time": "2024-05-24T01:51:21.286Z"
   },
   {
    "duration": 308,
    "start_time": "2024-05-24T01:51:21.554Z"
   },
   {
    "duration": 398,
    "start_time": "2024-05-24T01:51:21.865Z"
   },
   {
    "duration": 393,
    "start_time": "2024-05-24T01:51:22.265Z"
   },
   {
    "duration": 490,
    "start_time": "2024-05-24T01:51:22.662Z"
   },
   {
    "duration": 341,
    "start_time": "2024-05-24T01:51:23.155Z"
   },
   {
    "duration": 279,
    "start_time": "2024-05-24T01:51:23.505Z"
   },
   {
    "duration": 445,
    "start_time": "2024-05-24T01:51:23.787Z"
   },
   {
    "duration": 2117,
    "start_time": "2024-05-24T01:51:24.236Z"
   },
   {
    "duration": 223,
    "start_time": "2024-05-24T01:51:26.357Z"
   },
   {
    "duration": 421,
    "start_time": "2024-05-24T01:51:26.583Z"
   },
   {
    "duration": 402,
    "start_time": "2024-05-24T01:51:27.007Z"
   },
   {
    "duration": 7,
    "start_time": "2024-05-24T01:51:27.411Z"
   },
   {
    "duration": 363,
    "start_time": "2024-05-24T01:51:35.503Z"
   },
   {
    "duration": 481,
    "start_time": "2024-05-24T01:51:45.365Z"
   },
   {
    "duration": 504,
    "start_time": "2024-05-24T01:54:36.006Z"
   },
   {
    "duration": 1598,
    "start_time": "2024-05-24T01:55:10.275Z"
   },
   {
    "duration": 567,
    "start_time": "2024-05-24T01:55:14.081Z"
   },
   {
    "duration": 4518,
    "start_time": "2024-05-24T01:55:46.215Z"
   },
   {
    "duration": 4312,
    "start_time": "2024-05-24T01:56:35.407Z"
   },
   {
    "duration": 398,
    "start_time": "2024-05-24T01:56:52.667Z"
   },
   {
    "duration": 471,
    "start_time": "2024-05-24T01:57:05.713Z"
   },
   {
    "duration": 462,
    "start_time": "2024-05-24T01:57:36.486Z"
   },
   {
    "duration": 6769,
    "start_time": "2024-05-24T02:00:05.569Z"
   },
   {
    "duration": 6792,
    "start_time": "2024-05-24T02:00:17.993Z"
   },
   {
    "duration": 17263,
    "start_time": "2024-05-24T02:02:56.225Z"
   },
   {
    "duration": 876,
    "start_time": "2024-05-24T02:04:01.489Z"
   },
   {
    "duration": 6739,
    "start_time": "2024-05-24T02:05:30.804Z"
   },
   {
    "duration": 6758,
    "start_time": "2024-05-24T02:05:39.280Z"
   },
   {
    "duration": 11,
    "start_time": "2024-05-24T02:05:59.254Z"
   },
   {
    "duration": 6753,
    "start_time": "2024-05-24T02:06:04.093Z"
   },
   {
    "duration": 3379,
    "start_time": "2024-05-24T02:06:37.221Z"
   },
   {
    "duration": 6634,
    "start_time": "2024-05-24T02:06:44.244Z"
   },
   {
    "duration": 71,
    "start_time": "2024-05-24T02:09:51.217Z"
   },
   {
    "duration": 689,
    "start_time": "2024-05-24T02:11:31.907Z"
   },
   {
    "duration": 1564,
    "start_time": "2024-05-24T02:11:32.887Z"
   },
   {
    "duration": 18,
    "start_time": "2024-05-24T02:11:34.454Z"
   },
   {
    "duration": 16,
    "start_time": "2024-05-24T02:11:34.782Z"
   },
   {
    "duration": 11,
    "start_time": "2024-05-24T02:11:35.680Z"
   },
   {
    "duration": 13,
    "start_time": "2024-05-24T02:11:36.340Z"
   },
   {
    "duration": 14,
    "start_time": "2024-05-24T02:11:37.334Z"
   },
   {
    "duration": 4,
    "start_time": "2024-05-24T02:11:50.478Z"
   },
   {
    "duration": 359,
    "start_time": "2024-05-24T02:11:57.980Z"
   },
   {
    "duration": 22,
    "start_time": "2024-05-24T02:12:11.293Z"
   },
   {
    "duration": 189,
    "start_time": "2024-05-24T02:12:17.119Z"
   },
   {
    "duration": 172,
    "start_time": "2024-05-24T02:12:18.180Z"
   },
   {
    "duration": 89,
    "start_time": "2024-05-24T02:12:20.555Z"
   },
   {
    "duration": 22,
    "start_time": "2024-05-24T02:12:24.303Z"
   },
   {
    "duration": 22,
    "start_time": "2024-05-24T02:12:27.818Z"
   },
   {
    "duration": 45,
    "start_time": "2024-05-24T02:12:46.927Z"
   },
   {
    "duration": 35,
    "start_time": "2024-05-24T02:12:48.297Z"
   },
   {
    "duration": 7,
    "start_time": "2024-05-24T02:13:24.339Z"
   },
   {
    "duration": 26,
    "start_time": "2024-05-24T02:13:25.711Z"
   },
   {
    "duration": 7,
    "start_time": "2024-05-24T02:13:29.649Z"
   },
   {
    "duration": 28,
    "start_time": "2024-05-24T02:13:30.988Z"
   },
   {
    "duration": 1336,
    "start_time": "2024-05-24T02:13:33.404Z"
   },
   {
    "duration": 4,
    "start_time": "2024-05-24T02:13:34.947Z"
   },
   {
    "duration": 17,
    "start_time": "2024-05-24T02:13:37.578Z"
   },
   {
    "duration": 5,
    "start_time": "2024-05-24T02:13:38.493Z"
   },
   {
    "duration": 7,
    "start_time": "2024-05-24T02:13:40.616Z"
   },
   {
    "duration": 4,
    "start_time": "2024-05-24T02:13:41.029Z"
   },
   {
    "duration": 11,
    "start_time": "2024-05-24T02:13:41.230Z"
   },
   {
    "duration": 11,
    "start_time": "2024-05-24T02:13:41.419Z"
   },
   {
    "duration": 8,
    "start_time": "2024-05-24T02:13:41.780Z"
   },
   {
    "duration": 12,
    "start_time": "2024-05-24T02:13:46.017Z"
   },
   {
    "duration": 9,
    "start_time": "2024-05-24T02:13:46.311Z"
   },
   {
    "duration": 27,
    "start_time": "2024-05-24T02:13:49.032Z"
   },
   {
    "duration": 48,
    "start_time": "2024-05-24T02:13:49.245Z"
   },
   {
    "duration": 26,
    "start_time": "2024-05-24T02:13:50.921Z"
   },
   {
    "duration": 1847,
    "start_time": "2024-05-24T02:13:51.152Z"
   },
   {
    "duration": 76,
    "start_time": "2024-05-24T02:13:53.035Z"
   },
   {
    "duration": 7,
    "start_time": "2024-05-24T02:14:14.341Z"
   },
   {
    "duration": 8,
    "start_time": "2024-05-24T02:14:14.547Z"
   },
   {
    "duration": 359,
    "start_time": "2024-05-24T02:14:16.210Z"
   },
   {
    "duration": 256,
    "start_time": "2024-05-24T02:14:17.063Z"
   },
   {
    "duration": 333,
    "start_time": "2024-05-24T02:14:17.737Z"
   },
   {
    "duration": 373,
    "start_time": "2024-05-24T02:14:19.045Z"
   },
   {
    "duration": 392,
    "start_time": "2024-05-24T02:14:19.422Z"
   },
   {
    "duration": 511,
    "start_time": "2024-05-24T02:14:19.817Z"
   },
   {
    "duration": 324,
    "start_time": "2024-05-24T02:14:21.395Z"
   },
   {
    "duration": 289,
    "start_time": "2024-05-24T02:14:22.104Z"
   },
   {
    "duration": 434,
    "start_time": "2024-05-24T02:14:22.405Z"
   },
   {
    "duration": 2137,
    "start_time": "2024-05-24T02:14:23.587Z"
   },
   {
    "duration": 240,
    "start_time": "2024-05-24T02:14:25.728Z"
   },
   {
    "duration": 400,
    "start_time": "2024-05-24T02:14:25.971Z"
   },
   {
    "duration": 392,
    "start_time": "2024-05-24T02:14:26.376Z"
   },
   {
    "duration": 506,
    "start_time": "2024-05-24T02:14:26.771Z"
   },
   {
    "duration": 6731,
    "start_time": "2024-05-24T02:14:27.280Z"
   },
   {
    "duration": 92,
    "start_time": "2024-05-24T02:14:34.015Z"
   }
  ],
  "colab": {
   "provenance": []
  },
  "kernelspec": {
   "display_name": "Python 3 (ipykernel)",
   "language": "python",
   "name": "python3"
  },
  "language_info": {
   "codemirror_mode": {
    "name": "ipython",
    "version": 3
   },
   "file_extension": ".py",
   "mimetype": "text/x-python",
   "name": "python",
   "nbconvert_exporter": "python",
   "pygments_lexer": "ipython3",
   "version": "3.12.3"
  },
  "toc": {
   "base_numbering": 1,
   "nav_menu": {},
   "number_sections": true,
   "sideBar": true,
   "skip_h1_title": true,
   "title_cell": "Table of Contents",
   "title_sidebar": "Contents",
   "toc_cell": false,
   "toc_position": {},
   "toc_section_display": true,
   "toc_window_display": false
  },
  "vscode": {
   "interpreter": {
    "hash": "01a7be9ec63e704a62cefc5fe7a4756944464ee731be31632bdf42a4cb4688cf"
   }
  }
 },
 "nbformat": 4,
 "nbformat_minor": 5
}
